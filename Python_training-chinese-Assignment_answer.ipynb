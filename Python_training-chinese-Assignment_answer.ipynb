{
 "cells": [
  {
   "cell_type": "markdown",
   "metadata": {},
   "source": [
    "Python 教程\n",
    "===\n",
    "陈同 (chentong_biology@163.com)\n",
    "=============\n",
    "\n",
    "\n",
    "欢迎来到Python的世界，本教程将带你遨游`Python`，领悟`Python`的魅力。本教程专注于帮助初学者，尤其是生物信息分析人员快速学会`Python`的常用功能和使用方式，因此只精选了部分`Python`的功能，请额外参考Python经典教程[A byte of python](http://www.byteofpython.info/)和它的[中文版](http://woodpecker.org.cn/abyteofpython_cn/chinese/index.html) 来更好的理解*Python*. 本文档的概念和文字描述参考了A byte of python(中文版)，特此感谢。\n",
    "\n",
    "This work is licensed under a <a rel=\"license\" href=\"http://creativecommons.org/licenses/by-nc-sa/2.0/\">Creative Commons Attribution-NonCommercial-ShareAlike 2.0 Generic License</a>.\n"
   ]
  },
  {
   "cell_type": "markdown",
   "metadata": {},
   "source": [
    "# 实战练习（一）"
   ]
  },
  {
   "cell_type": "markdown",
   "metadata": {},
   "source": [
    "## 背景知识"
   ]
  },
  {
   "cell_type": "markdown",
   "metadata": {},
   "source": [
    "**1. FASTA文件格式**\n",
    "\n",
    "> \\>seq_name_1\n",
    "\n",
    "> sequence1\n",
    "\n",
    "> \\>seq_name_2\n",
    "\n",
    ">sequence2\n",
    "\n",
    "**2. FASTQ文件格式**\n",
    "\n",
    "> @HWI-ST1223:80:D1FMTACXX:2:1101:1243:2213 1:N:0:AGTCAA\n",
    "\n",
    "> TCTGTGTAGCCNTGGCTGTCCTGGAACTCACTTTGTAGACCAGGCTGGCATGCA\n",
    "\n",
    "> +\n",
    "\n",
    "> BCCFFFFFFHH#4AFHIJJJJJJJJJJJJJJJJJIJIJJJJJGHIJJJJJJJJJ\n",
    "\n",
    "<img src=\"Image/fastq_format.png\">"
   ]
  },
  {
   "cell_type": "markdown",
   "metadata": {},
   "source": [
    "## 作业 (一)"
   ]
  },
  {
   "cell_type": "markdown",
   "metadata": {},
   "source": [
    "1. 给定FASTA格式的文件(test1.fa 和 test2.fa)，写一个程序 `cat.py` 读入文件，并输出到屏幕\n",
    "    * 用到的知识点\n",
    "        * open(file)\n",
    "        * for .. in loop\n",
    "        * print\n",
    "        * the amazng , or strip() function\n",
    "2. 给定FASTQ格式的文件(test1.fq), 写一个程序 `cat.py` 读入文件，并输出到屏幕\n",
    "    * 用到的知识点\n",
    "        * 同上\n",
    "3. 写程序 `splitName.py`, 读入test2.fa, 并取原始序列名字第一个空格前的名字为处理后的序列名字，输出到屏幕\n",
    "    * 用到的知识点\n",
    "        * split\n",
    "        * 字符串的索引\n",
    "    * 输出格式为：\n",
    "```\n",
    ">NM_001011874\n",
    "gcggcggcgggcgagcgggcgctggagtaggagctg.......\n",
    "```\n",
    "\n",
    "4. 写程序 `formatFasta.py`, 读入test2.fa，把每条FASTA序列连成一行然后输出\n",
    "    * 用到的知识点\n",
    "        * join\n",
    "        * strip    \n",
    "    * 输出格式为:\n",
    "```\n",
    "    >NM_001011874\n",
    "    gcggcggcgggc......TCCGCTG......GCGTTCACC......CGGGGTCCGGAG\n",
    "```\n",
    "4. 写程序 `formatFasta-2.py`, 读入test2.fa，把每条FASTA序列分割成80个字母一行的序列\n",
    "    * 用到的知识点\n",
    "        * 字符串切片操作\n",
    "        * range\n",
    "    * 输出格式为\n",
    "```    \n",
    "    >NM_001011874\n",
    "    gcggcggcgc.(60个字母).TCCGCTGACG #(每行80个字母)\n",
    "    acgtgctacg.(60个字母).GCGTTCACCC\n",
    "    ACGTACGATG(最后一行可不足80个字母)\n",
    "```     \n",
    "4. 写程序 `sortFasta.py`, 读入test2.fa, 并取原始序列名字第一个空格前的名字为处理后的序列名字，排序后输出\n",
    "    * 用到的知识点\n",
    "        * sort\n",
    "        * dict\n",
    "        * aDict[key] = []\n",
    "        * aDict[key].append(value)\n",
    "        \n",
    "5. 提取给定名字的序列\n",
    "    * 写程序 `grepFasta.py`, 提取fasta.name中名字对应的test2.fa的序列，并输出到屏幕。\n",
    "    * 写程序 `grepFastq.py`, 提取fastq.name中名字对应的test1.fq的序列，并输出到文件。\n",
    "        * 用到的知识点\n",
    "            * print >>fh, or fh.write()\n",
    "            * 取模运算，4 % 2 == 0\n",
    "    \n",
    "6. 写程序 `screenResult.py`, 筛选test.expr中foldChange大于2的基因并且padj小于0.05的基因\n",
    "    * 用到的知识点\n",
    "        * 逻辑与操作符 and \n",
    "        * 文件中读取的内容都为字符串，需要用int转换为整数，float转换为浮点数\n",
    "\n",
    "6. 写程序 `transferMultipleColumToMatrix.py` 将文件(multipleColExpr.txt)中基因在多个组织中的表达数据转换为矩阵形式\n",
    "    * 用到的知识点\n",
    "        * aDict['key'] = {}\n",
    "        * aDict['key']['key2'] = value\n",
    "        * if key not in aDict\n",
    "        * aDict = {'ENSG00000000003': {\"A-431\": 21.3, \"A-549\", 32.5,...},\"ENSG00000000003\":{},}\n",
    "    * 输入格式(只需要前3列就可以)\n",
    "```\n",
    "Gene    Sample  Value   Unit    Abundance\n",
    "ENSG00000000003 A-431   21.3    FPKM    Medium\n",
    "ENSG00000000003 A-549   32.5    FPKM    Medium\n",
    "ENSG00000000003 AN3-CA  38.2    FPKM    Medium\n",
    "ENSG00000000003 BEWO    31.4    FPKM    Medium\n",
    "ENSG00000000003 CACO-2  63.9    FPKM    High\n",
    "ENSG00000000005 A-431   0.0     FPKM    Not detected\n",
    "ENSG00000000005 A-549   0.0     FPKM    Not detected\n",
    "ENSG00000000005 AN3-CA  0.0     FPKM    Not detected\n",
    "ENSG00000000005 BEWO    0.0     FPKM    Not detected\n",
    "ENSG00000000005 CACO-2  0.0     FPKM    Not detected\n",
    "```\n",
    "    * 输出格式\n",
    "```\n",
    "Name\tA-431\tA-549\tAN3-CA\tBEWO\tCACO-2\n",
    "ENSG00000000460\t25.2\t14.2\t10.6\t24.4\t14.2\n",
    "ENSG00000000938\t0.0\t0.0\t0.0\t0.0\t0.0\n",
    "ENSG00000001084\t19.1\t155.1\t24.4\t12.6\t23.5\n",
    "ENSG00000000457\t2.8\t3.4\t3.8\t5.8\t2.9\n",
    "```\n",
    "\n",
    "6. 写程序 `reverseComplementary.py`计算序列 `ACGTACGTACGTCACGTCAGCTAGAC`的反向互补序列\n",
    "    * 用到的知识点\n",
    "        * reverse\n",
    "        * list(seq)\n",
    "7. 写程序 `collapsemiRNAreads.py`转换smRNA-Seq的测序数据\n",
    "    * 输入文件格式(mir.collapse, tab-分割的两列文件，第一列为序列，第二列为序列被测到的次数)\n",
    "```\n",
    "        ID_REF        VALUE\n",
    "        ACTGCCCTAAGTGCTCCTTCTGGC        2\n",
    "        ATAAGGTGCATCTAGTGCAGATA        25\n",
    "        TGAGGTAGTAGTTTGTGCTGTTT        100\n",
    "        TCCTACGAGTTGCATGGATTC        4\n",
    "```\n",
    "    * 输出文件格式 (mir.collapse.fa, 名字的前3个字母为样品的特异标示，中间的数字表示第几条序列，是序列名字的唯一标示，第三部分是x加每个reads被测到的次数。三部分用下划线连起来作为fasta序列的名字。)\n",
    "```        \n",
    "        >ESB_1_x2\n",
    "        ACTGCCCTAAGTGCTCCTTCTGGC\n",
    "        >ESB_2_x25\n",
    "        ATAAGGTGCATCTAGTGCAGATA\n",
    "        >ESB_3_x100\n",
    "        TGAGGTAGTAGTTTGTGCTGTTT\n",
    "        >ESB_4_x4\n",
    "        TCCTACGAGTTGCATGGATTC\n",
    "```\n",
    "8. 简化的短序列匹配程序 (map.py) 把short.fa中的序列比对到ref.fa, 输出短序列匹配到ref.fa文件中哪些序列的哪些位置\n",
    "    * 用到的知识点\n",
    "        * find\n",
    "    * 输出格式 (输出格式为bed格式，第一列为匹配到的染色体，第二列和第三列为匹配到染色体序列的起始终止位置（位置标记以0为起始，代表第一个位置；终止位置不包含在内，第一个例子中所示序列的位置是(199,208](前闭后开，实际是chr1染色体第199-206的序列，0起始). 第4列为短序列自身的序列.)。\n",
    "    * 附加要求：可以只匹配到给定的模板链，也可以考虑匹配到模板链的互补链。这时第5列可以为短序列的名字，第六列为链的信息，匹配到模板链为'+'，匹配到互补链为'-'。注意匹配到互补链时起始位置也是从模板链的5'端算起的。\n",
    "``` \n",
    "    chr1\t199\t208\tTGGCGTTCA\n",
    "    chr1\t207\t216\tACCCCGCTG\n",
    "    chr2\t63\t70\tAAATTGC\n",
    "    chr3\t0\t7\tAATAAAT\n",
    "```\n",
    "\n",
    "10. 备注：\n",
    "    * 每个提到提到的“用到的知识点”为相对于前面的题目新增的知识点，请综合考虑。此外，对于不同的思路并不是所有提到的知识点都会用着，而且也可能会用到未提到的知识点。但是所有知识点都在前面的讲义部分有介绍。\n",
    "    * 每个程序对于你身边会写的人来说都很简单，因此你一定要克制住，独立去把答案做出，多看错误提示，多比对程序输出结果和预期结果的差异。\n",
    "    * 学习锻炼“读程序”，即对着文件模拟整个的读入、处理过程来发现可能的逻辑问题。\n",
    "    * 程序运行没有错误不代表你写的程序完成了你的需求，你要去查验输出结果是不是你想要的。\n",
    "11. 关于程序调试\n",
    "    * 在初写程序时，可能会出现各种各样的错误，常见的有缩进不一致，变量名字拼写错误，丢失冒号，文件名未加引号等，这时要根据错误提示查看错误类型是什么，出错的是哪一行来定位错误。当然，有的时候报错的行自身不一定有错，可能是其前面或后面的行出现了错误。\n",
    "    * 当结果不符合预期时，要学会**使用print来查看每步的操作是否正确**，比如我读入了字典，我就打印下字典，看看读入的是不是我想要的，是否含有不该存在的字符；或者**在每个判断句、函数调入的情况下打印个字符，来跟踪程序的运行轨迹**。"
   ]
  },
  {
   "cell_type": "code",
   "execution_count": 5,
   "metadata": {
    "collapsed": false
   },
   "outputs": [
    {
     "name": "stdout",
     "output_type": "stream",
     "text": [
      "Overwriting script/cat.py\n"
     ]
    }
   ],
   "source": [
    "%%writefile script/cat.py\n",
    "#作业1和2, cat.py\n",
    "#包含了三中处理换行符的写法\n",
    "for line in open(\"data/test1.fa\"):\n",
    "    print line.strip()\n",
    "\n",
    "for line in open(\"data/test2.fa\"):\n",
    "    print line,\n",
    "\n",
    "for line in open(\"data/test1.fq\"):\n",
    "    line = line.strip()\n",
    "    print line"
   ]
  },
  {
   "cell_type": "code",
   "execution_count": 6,
   "metadata": {
    "collapsed": false
   },
   "outputs": [
    {
     "name": "stdout",
     "output_type": "stream",
     "text": [
      ">NM_001011874 gene=Xkr4 CDS=151-2091\n",
      "gcggcggcgggcgagcgggcgctggagtaggagctggggagcggcgcggccggggaaggaagccagggcg\n",
      ">NM_001195662 gene=Rp1 CDS=55-909\n",
      "AGGTCTCACCCAAAATGAGTGACACACCTTCTACTAGTTTCTCCATGATTCATCTGACTTCTGAAGGTCA\n",
      ">NM_011283 gene=Rp1 CDS=128-6412\n",
      "AATAAATCCAAAGACATTTGTTTACGTGAAACAAGCAGGTTGCATATCCAGTGACGTTTATACAGACCAC\n",
      ">NM_0112835 gene=Rp15 CDS=128-6412\n",
      "AATAAATCCAAAGACATTTGTTTACGTGAAACAAGCAGGTTGCATATCCAGTGACGTTTATACAGACCAC\n",
      ">NM_001011874 gene=Xkr4 CDS=151-2091\n",
      "gcggcggcgggcgagcgggcgctggagtaggagctggggagcggcgcggccggggaaggaagccagggcg\n",
      "aggcgaggaggtggcgggaggaggagacagcagggacaggTGTCAGATAAAGGAGTGCTCTCCTCCGCTG\n",
      "CCGAGGCATCATGGCCGCTAAGTCAGACGGGAGGCTGAAGATGAAGAAGAGCAGCGACGTGGCGTTCACC\n",
      "CCGCTGCAGAACTCGGACAATTCGGGCTCTGTGCAAGGACTGGCTCCAGGCTTGCCGTCGGGGTCCGGAG\n",
      ">NM_001195662 gene=Rp1 CDS=55-909\n",
      "AAGCTCAGCCTTTGCTCAGATTCTCCTCTTGATGAAACAAAGGGATTTCTGCACATGCTTGAGAAATTGC\n",
      "AGGTCTCACCCAAAATGAGTGACACACCTTCTACTAGTTTCTCCATGATTCATCTGACTTCTGAAGGTCA\n",
      "AGTTCCTTCCCCTCGCCATTCAAATATCACTCATCCTGTAGTGGCTAAACGCATCAGTTTCTATAAGAGT\n",
      "GGAGACCCACAGTTTGGCGGCGTTCGGGTGGTGGTCAACCCTCGTTCCTTTAAGACTTTTGACGCTCTGC\n",
      "TGGACAGTTTATCCAGGAAGGTACCCCTGCCCTTTGGGGTAAGGAACATCAGCACGCCCCGTGGACGACA\n",
      "CAGCATCACCAGGCTGGAGGAGCTAGAGGACGGCAAGTCTTATGTGTGCTCCCACAATAAGAAGGTGCTG\n",
      ">NM_011283 gene=Rp1 CDS=128-6412\n",
      "AATAAATCCAAAGACATTTGTTTACGTGAAACAAGCAGGTTGCATATCCAGTGACGTTTATACAGACCAC\n",
      "ACAAACTATTTACTCTTTTCTTCGTAAGGAAAGGTTCAACTTCTGGTCTCACCCAAAATGAGTGACACAC\n",
      "CTTCTACTAGTTTCTCCATGATTCATCTGACTTCTGAAGGTCAAGTTCCTTCCCCTCGCCATTCAAATAT\n",
      "CACTCATCCTGTAGTGGCTAAACGCATCAGTTTCTATAAGAGTGGAGACCCACAGTTTGGCGGCGTTCGG\n",
      "GTGGTGGTCAACCCTCGTTCCTTTAAGACTTTTGACGCTCTGCTGGACAGTTTATCCAGGAAGGTACCCC\n",
      "TGCCCTTTGGGGTAAGGAACATCAGCACGCCCCGTGGACGACACAGCATCACCAGGCTGGAGGAGCTAGA\n",
      "GGACGGCAAGTCTTATGTGTGCTCCCACAATAAGAAGGTGCTGCCAGTTGACCTGGACAAGGCCCGCAGG\n",
      "CGCCCTCGGCCCTGGCTGAGTAGTCGCTCCATAAGCACGCATGTGCAGCTCTGTCCTGCAACTGCCAATA\n",
      "TGTCCACCATGGCACCTGGCATGCTCCGTGCCCCAAGGAGGCTCGTGGTCTTCCGGAATGGTGACCCGAA\n",
      ">NM_0112835 gene=Rp1 CDS=128-6412\n",
      "AATAAATCCAAAGACATTTGTTTACGTGAAACAAGCAGGTTGCATATCCAGTGACGTTTATACAGACCAC\n",
      "ACAAACTATTTACTCTTTTCTTCGTAAGGAAAGGTTCAACTTCTGGTCTCACCCAAAATGAGTGACACAC\n",
      "CTTCTACTAGTTTCTCCATGATTCATCTGACTTCTGAAGGTCAAGTTCCTTCCCCTCGCCATTCAAATAT\n",
      "CACTCATCCTGTAGTGGCTAAACGCATCAGTTTCTATAAGAGTGGAGACCCACAGTTTGGCGGCGTTCGG\n",
      "GTGGTGGTCAACCCTCGTTCCTTTAAGACTTTTGACGCTCTGCTGGACAGTTTATCCAGGAAGGTACCCC\n",
      "TGCCCTTTGGGGTAAGGAACATCAGCACGCCCCGTGGACGACACAGCATCACCAGGCTGGAGGAGCTAGA\n",
      "GGACGGCAAGTCTTATGTGTGCTCCCACAATAAGAAGGTGCTGCCAGTTGACCTGGACAAGGCCCGCAGG\n",
      "CGCCCTCGGCCCTGGCTGAGTAGTCGCTCCATAAGCACGCATGTGCAGCTCTGTCCTGCAACTGCCAATA\n",
      "TGTCCACCATGGCACCTGGCATGCTCCGTGCCCCAAGGAGGCTCGTGGTCTTCCGGAATGGTGACCCGAA\n",
      "@HWI-ST1223:80:D1FMTACXX:2:1101:1243:2213 1:N:0:AGTCAA\n",
      "TCTGTGTAGCCNTGGCTGTCCTGGAACTCACTTTGTAGACCAGGCTGGCATGCACCACCACNNNCGGCTCATTTGTCTTTNNTTTTTGTTTTGTTCTGTA\n",
      "+\n",
      "BCCFFFFFFHH#4AFHIJJJJJJJJJJJJJJJJJIJIJJJJJGHIJJJJJJJJJJJJJIIJ###--5ABECFFDDEEEEE##,5=@B8?CDD<AD>C:@>\n",
      "@HWI-ST1223:80:D1FMTACXX:2:1101:1375:2060 1:N:0:AGTCAA\n",
      "NTGCTGAGCCACGACAAGGATCCCAGAGGGCCNAGCCCTGCATCTTGTATGGACCAGTTACNCATCAAAAGAGACTACTGTAGGCACCATCAATCAGATC\n",
      "+\n",
      "#1:DDDD;?CFFHDFEEIGIIIIIIG;DHFGG#)0?BFBDHBFF<FCFEFD;@DD@A=7?E#,,,;=(>3;=;;C>ACCC@CCCCCBBBCCAACCCCCCC\n",
      "@HWI-ST1223:80:D1FMTACXX:2:1101:1383:2091 1:N:0:AGTCAA\n",
      "NGTTCGTGTGGAACCTGGCGCTAAACCATTCGTAGACGACCTGCTTCTGGGTCGGGGTTTCGTACGTAGCAGAGCAGCTCCCTCGCTGCGATCTATTGAA\n",
      "+\n",
      "#1=DDFDFHHHHHJGJJJJJJJJJJJJJJJIJIGDHIHIGIJJJJJJJIIIGHHFDD3>BDDBDDDDDDDDDDBDCCBDDDDDDDDDDDBBDDDDEEACD\n",
      "@HWI-ST1223:80:D1FMTACXX:2:1101:1452:2138 1:N:0:AGTCAA\n",
      "NTCTAGGAGGTCTAGAAAGCCCAGGCCACCGGTACAAACATCAAGGGTGTTACGGATGTGCCGCTCTGAACCTCCAGGACGACTTTGATTTCAACTACAA\n",
      "+\n",
      "#4=DFFEFHHHHHJJJJJIJJJJHIIJGJJJJ@GIIJJJJJJIJJJJFGHIIIJJHHHDFFFFDDDDDDDDDDDDCDDDDDDDDDDDCCCEDEDDDDDDD\n"
     ]
    }
   ],
   "source": [
    "%run script/cat"
   ]
  },
  {
   "cell_type": "code",
   "execution_count": 7,
   "metadata": {
    "collapsed": false
   },
   "outputs": [
    {
     "name": "stdout",
     "output_type": "stream",
     "text": [
      "Overwriting script/splitName.py\n"
     ]
    }
   ],
   "source": [
    "%%writefile script/splitName.py\n",
    "#作业3\n",
    "filename = \"data/test2.fa\"\n",
    "for line in open(filename):\n",
    "    if line[0] == '>':\n",
    "        lineL = line.split(' ')\n",
    "        print lineL[0]\n",
    "    else:\n",
    "        print line,"
   ]
  },
  {
   "cell_type": "code",
   "execution_count": 8,
   "metadata": {
    "collapsed": false
   },
   "outputs": [
    {
     "name": "stdout",
     "output_type": "stream",
     "text": [
      ">NM_001011874\n",
      "gcggcggcgggcgagcgggcgctggagtaggagctggggagcggcgcggccggggaaggaagccagggcg\n",
      "aggcgaggaggtggcgggaggaggagacagcagggacaggTGTCAGATAAAGGAGTGCTCTCCTCCGCTG\n",
      "CCGAGGCATCATGGCCGCTAAGTCAGACGGGAGGCTGAAGATGAAGAAGAGCAGCGACGTGGCGTTCACC\n",
      "CCGCTGCAGAACTCGGACAATTCGGGCTCTGTGCAAGGACTGGCTCCAGGCTTGCCGTCGGGGTCCGGAG\n",
      ">NM_001195662\n",
      "AAGCTCAGCCTTTGCTCAGATTCTCCTCTTGATGAAACAAAGGGATTTCTGCACATGCTTGAGAAATTGC\n",
      "AGGTCTCACCCAAAATGAGTGACACACCTTCTACTAGTTTCTCCATGATTCATCTGACTTCTGAAGGTCA\n",
      "AGTTCCTTCCCCTCGCCATTCAAATATCACTCATCCTGTAGTGGCTAAACGCATCAGTTTCTATAAGAGT\n",
      "GGAGACCCACAGTTTGGCGGCGTTCGGGTGGTGGTCAACCCTCGTTCCTTTAAGACTTTTGACGCTCTGC\n",
      "TGGACAGTTTATCCAGGAAGGTACCCCTGCCCTTTGGGGTAAGGAACATCAGCACGCCCCGTGGACGACA\n",
      "CAGCATCACCAGGCTGGAGGAGCTAGAGGACGGCAAGTCTTATGTGTGCTCCCACAATAAGAAGGTGCTG\n",
      ">NM_011283\n",
      "AATAAATCCAAAGACATTTGTTTACGTGAAACAAGCAGGTTGCATATCCAGTGACGTTTATACAGACCAC\n",
      "ACAAACTATTTACTCTTTTCTTCGTAAGGAAAGGTTCAACTTCTGGTCTCACCCAAAATGAGTGACACAC\n",
      "CTTCTACTAGTTTCTCCATGATTCATCTGACTTCTGAAGGTCAAGTTCCTTCCCCTCGCCATTCAAATAT\n",
      "CACTCATCCTGTAGTGGCTAAACGCATCAGTTTCTATAAGAGTGGAGACCCACAGTTTGGCGGCGTTCGG\n",
      "GTGGTGGTCAACCCTCGTTCCTTTAAGACTTTTGACGCTCTGCTGGACAGTTTATCCAGGAAGGTACCCC\n",
      "TGCCCTTTGGGGTAAGGAACATCAGCACGCCCCGTGGACGACACAGCATCACCAGGCTGGAGGAGCTAGA\n",
      "GGACGGCAAGTCTTATGTGTGCTCCCACAATAAGAAGGTGCTGCCAGTTGACCTGGACAAGGCCCGCAGG\n",
      "CGCCCTCGGCCCTGGCTGAGTAGTCGCTCCATAAGCACGCATGTGCAGCTCTGTCCTGCAACTGCCAATA\n",
      "TGTCCACCATGGCACCTGGCATGCTCCGTGCCCCAAGGAGGCTCGTGGTCTTCCGGAATGGTGACCCGAA\n",
      ">NM_0112835\n",
      "AATAAATCCAAAGACATTTGTTTACGTGAAACAAGCAGGTTGCATATCCAGTGACGTTTATACAGACCAC\n",
      "ACAAACTATTTACTCTTTTCTTCGTAAGGAAAGGTTCAACTTCTGGTCTCACCCAAAATGAGTGACACAC\n",
      "CTTCTACTAGTTTCTCCATGATTCATCTGACTTCTGAAGGTCAAGTTCCTTCCCCTCGCCATTCAAATAT\n",
      "CACTCATCCTGTAGTGGCTAAACGCATCAGTTTCTATAAGAGTGGAGACCCACAGTTTGGCGGCGTTCGG\n",
      "GTGGTGGTCAACCCTCGTTCCTTTAAGACTTTTGACGCTCTGCTGGACAGTTTATCCAGGAAGGTACCCC\n",
      "TGCCCTTTGGGGTAAGGAACATCAGCACGCCCCGTGGACGACACAGCATCACCAGGCTGGAGGAGCTAGA\n",
      "GGACGGCAAGTCTTATGTGTGCTCCCACAATAAGAAGGTGCTGCCAGTTGACCTGGACAAGGCCCGCAGG\n",
      "CGCCCTCGGCCCTGGCTGAGTAGTCGCTCCATAAGCACGCATGTGCAGCTCTGTCCTGCAACTGCCAATA\n",
      "TGTCCACCATGGCACCTGGCATGCTCCGTGCCCCAAGGAGGCTCGTGGTCTTCCGGAATGGTGACCCGAA\n"
     ]
    }
   ],
   "source": [
    "%run script/splitName"
   ]
  },
  {
   "cell_type": "code",
   "execution_count": 9,
   "metadata": {
    "collapsed": false
   },
   "outputs": [
    {
     "name": "stdout",
     "output_type": "stream",
     "text": [
      "Overwriting script/formatFasta.py\n"
     ]
    }
   ],
   "source": [
    "%%writefile script/formatFasta.py\n",
    "#作业4\n",
    "filename = \"data/test2.fa\"\n",
    "aList = []\n",
    "for line in open(filename):\n",
    "    if line[0] == '>':\n",
    "        lineL = line.split(' ')\n",
    "        if aList:\n",
    "            print ''.join(aList)\n",
    "            aList = []\n",
    "        name = lineL[0]\n",
    "        print name\n",
    "    else:\n",
    "        aList.append(line.strip())\n",
    "#不要忘了最后一个序列\n",
    "print ''.join(aList)"
   ]
  },
  {
   "cell_type": "code",
   "execution_count": 10,
   "metadata": {
    "collapsed": false
   },
   "outputs": [
    {
     "name": "stdout",
     "output_type": "stream",
     "text": [
      ">NM_001011874\n",
      "gcggcggcgggcgagcgggcgctggagtaggagctggggagcggcgcggccggggaaggaagccagggcgaggcgaggaggtggcgggaggaggagacagcagggacaggTGTCAGATAAAGGAGTGCTCTCCTCCGCTGCCGAGGCATCATGGCCGCTAAGTCAGACGGGAGGCTGAAGATGAAGAAGAGCAGCGACGTGGCGTTCACCCCGCTGCAGAACTCGGACAATTCGGGCTCTGTGCAAGGACTGGCTCCAGGCTTGCCGTCGGGGTCCGGAG\n",
      ">NM_001195662\n",
      "AAGCTCAGCCTTTGCTCAGATTCTCCTCTTGATGAAACAAAGGGATTTCTGCACATGCTTGAGAAATTGCAGGTCTCACCCAAAATGAGTGACACACCTTCTACTAGTTTCTCCATGATTCATCTGACTTCTGAAGGTCAAGTTCCTTCCCCTCGCCATTCAAATATCACTCATCCTGTAGTGGCTAAACGCATCAGTTTCTATAAGAGTGGAGACCCACAGTTTGGCGGCGTTCGGGTGGTGGTCAACCCTCGTTCCTTTAAGACTTTTGACGCTCTGCTGGACAGTTTATCCAGGAAGGTACCCCTGCCCTTTGGGGTAAGGAACATCAGCACGCCCCGTGGACGACACAGCATCACCAGGCTGGAGGAGCTAGAGGACGGCAAGTCTTATGTGTGCTCCCACAATAAGAAGGTGCTG\n",
      ">NM_011283\n",
      "AATAAATCCAAAGACATTTGTTTACGTGAAACAAGCAGGTTGCATATCCAGTGACGTTTATACAGACCACACAAACTATTTACTCTTTTCTTCGTAAGGAAAGGTTCAACTTCTGGTCTCACCCAAAATGAGTGACACACCTTCTACTAGTTTCTCCATGATTCATCTGACTTCTGAAGGTCAAGTTCCTTCCCCTCGCCATTCAAATATCACTCATCCTGTAGTGGCTAAACGCATCAGTTTCTATAAGAGTGGAGACCCACAGTTTGGCGGCGTTCGGGTGGTGGTCAACCCTCGTTCCTTTAAGACTTTTGACGCTCTGCTGGACAGTTTATCCAGGAAGGTACCCCTGCCCTTTGGGGTAAGGAACATCAGCACGCCCCGTGGACGACACAGCATCACCAGGCTGGAGGAGCTAGAGGACGGCAAGTCTTATGTGTGCTCCCACAATAAGAAGGTGCTGCCAGTTGACCTGGACAAGGCCCGCAGGCGCCCTCGGCCCTGGCTGAGTAGTCGCTCCATAAGCACGCATGTGCAGCTCTGTCCTGCAACTGCCAATATGTCCACCATGGCACCTGGCATGCTCCGTGCCCCAAGGAGGCTCGTGGTCTTCCGGAATGGTGACCCGAA\n",
      ">NM_0112835\n",
      "AATAAATCCAAAGACATTTGTTTACGTGAAACAAGCAGGTTGCATATCCAGTGACGTTTATACAGACCACACAAACTATTTACTCTTTTCTTCGTAAGGAAAGGTTCAACTTCTGGTCTCACCCAAAATGAGTGACACACCTTCTACTAGTTTCTCCATGATTCATCTGACTTCTGAAGGTCAAGTTCCTTCCCCTCGCCATTCAAATATCACTCATCCTGTAGTGGCTAAACGCATCAGTTTCTATAAGAGTGGAGACCCACAGTTTGGCGGCGTTCGGGTGGTGGTCAACCCTCGTTCCTTTAAGACTTTTGACGCTCTGCTGGACAGTTTATCCAGGAAGGTACCCCTGCCCTTTGGGGTAAGGAACATCAGCACGCCCCGTGGACGACACAGCATCACCAGGCTGGAGGAGCTAGAGGACGGCAAGTCTTATGTGTGCTCCCACAATAAGAAGGTGCTGCCAGTTGACCTGGACAAGGCCCGCAGGCGCCCTCGGCCCTGGCTGAGTAGTCGCTCCATAAGCACGCATGTGCAGCTCTGTCCTGCAACTGCCAATATGTCCACCATGGCACCTGGCATGCTCCGTGCCCCAAGGAGGCTCGTGGTCTTCCGGAATGGTGACCCGAA\n"
     ]
    }
   ],
   "source": [
    "%run script/formatFasta"
   ]
  },
  {
   "cell_type": "code",
   "execution_count": 11,
   "metadata": {
    "collapsed": false
   },
   "outputs": [
    {
     "name": "stdout",
     "output_type": "stream",
     "text": [
      "Overwriting script/formatFasta-2.py\n"
     ]
    }
   ],
   "source": [
    "%%writefile script/formatFasta-2.py\n",
    "#作业5 \n",
    "filename = \"data/test2.fa\"\n",
    "length = 80\n",
    "aList = []\n",
    "for line in open(filename):\n",
    "    if line[0] == '>':\n",
    "        lineL = line.split(' ')\n",
    "        if aList:\n",
    "            seq = ''.join(aList)\n",
    "            len_seq = len(seq)\n",
    "            for i in range(0,len_seq,length):\n",
    "                print seq[i:i+length]\n",
    "            aList = []\n",
    "        name = lineL[0]\n",
    "        print name\n",
    "    else:\n",
    "        aList.append(line.strip())\n",
    "#不要忘了最后一个序列\n",
    "seq = ''.join(aList)\n",
    "len_seq = len(seq)\n",
    "for i in range(0,len_seq,length):\n",
    "    print seq[i:i+length]"
   ]
  },
  {
   "cell_type": "code",
   "execution_count": 12,
   "metadata": {
    "collapsed": false
   },
   "outputs": [
    {
     "name": "stdout",
     "output_type": "stream",
     "text": [
      ">NM_001011874\n",
      "gcggcggcgggcgagcgggcgctggagtaggagctggggagcggcgcggccggggaaggaagccagggcgaggcgaggag\n",
      "gtggcgggaggaggagacagcagggacaggTGTCAGATAAAGGAGTGCTCTCCTCCGCTGCCGAGGCATCATGGCCGCTA\n",
      "AGTCAGACGGGAGGCTGAAGATGAAGAAGAGCAGCGACGTGGCGTTCACCCCGCTGCAGAACTCGGACAATTCGGGCTCT\n",
      "GTGCAAGGACTGGCTCCAGGCTTGCCGTCGGGGTCCGGAG\n",
      ">NM_001195662\n",
      "AAGCTCAGCCTTTGCTCAGATTCTCCTCTTGATGAAACAAAGGGATTTCTGCACATGCTTGAGAAATTGCAGGTCTCACC\n",
      "CAAAATGAGTGACACACCTTCTACTAGTTTCTCCATGATTCATCTGACTTCTGAAGGTCAAGTTCCTTCCCCTCGCCATT\n",
      "CAAATATCACTCATCCTGTAGTGGCTAAACGCATCAGTTTCTATAAGAGTGGAGACCCACAGTTTGGCGGCGTTCGGGTG\n",
      "GTGGTCAACCCTCGTTCCTTTAAGACTTTTGACGCTCTGCTGGACAGTTTATCCAGGAAGGTACCCCTGCCCTTTGGGGT\n",
      "AAGGAACATCAGCACGCCCCGTGGACGACACAGCATCACCAGGCTGGAGGAGCTAGAGGACGGCAAGTCTTATGTGTGCT\n",
      "CCCACAATAAGAAGGTGCTG\n",
      ">NM_011283\n",
      "AATAAATCCAAAGACATTTGTTTACGTGAAACAAGCAGGTTGCATATCCAGTGACGTTTATACAGACCACACAAACTATT\n",
      "TACTCTTTTCTTCGTAAGGAAAGGTTCAACTTCTGGTCTCACCCAAAATGAGTGACACACCTTCTACTAGTTTCTCCATG\n",
      "ATTCATCTGACTTCTGAAGGTCAAGTTCCTTCCCCTCGCCATTCAAATATCACTCATCCTGTAGTGGCTAAACGCATCAG\n",
      "TTTCTATAAGAGTGGAGACCCACAGTTTGGCGGCGTTCGGGTGGTGGTCAACCCTCGTTCCTTTAAGACTTTTGACGCTC\n",
      "TGCTGGACAGTTTATCCAGGAAGGTACCCCTGCCCTTTGGGGTAAGGAACATCAGCACGCCCCGTGGACGACACAGCATC\n",
      "ACCAGGCTGGAGGAGCTAGAGGACGGCAAGTCTTATGTGTGCTCCCACAATAAGAAGGTGCTGCCAGTTGACCTGGACAA\n",
      "GGCCCGCAGGCGCCCTCGGCCCTGGCTGAGTAGTCGCTCCATAAGCACGCATGTGCAGCTCTGTCCTGCAACTGCCAATA\n",
      "TGTCCACCATGGCACCTGGCATGCTCCGTGCCCCAAGGAGGCTCGTGGTCTTCCGGAATGGTGACCCGAA\n",
      ">NM_0112835\n",
      "AATAAATCCAAAGACATTTGTTTACGTGAAACAAGCAGGTTGCATATCCAGTGACGTTTATACAGACCACACAAACTATT\n",
      "TACTCTTTTCTTCGTAAGGAAAGGTTCAACTTCTGGTCTCACCCAAAATGAGTGACACACCTTCTACTAGTTTCTCCATG\n",
      "ATTCATCTGACTTCTGAAGGTCAAGTTCCTTCCCCTCGCCATTCAAATATCACTCATCCTGTAGTGGCTAAACGCATCAG\n",
      "TTTCTATAAGAGTGGAGACCCACAGTTTGGCGGCGTTCGGGTGGTGGTCAACCCTCGTTCCTTTAAGACTTTTGACGCTC\n",
      "TGCTGGACAGTTTATCCAGGAAGGTACCCCTGCCCTTTGGGGTAAGGAACATCAGCACGCCCCGTGGACGACACAGCATC\n",
      "ACCAGGCTGGAGGAGCTAGAGGACGGCAAGTCTTATGTGTGCTCCCACAATAAGAAGGTGCTGCCAGTTGACCTGGACAA\n",
      "GGCCCGCAGGCGCCCTCGGCCCTGGCTGAGTAGTCGCTCCATAAGCACGCATGTGCAGCTCTGTCCTGCAACTGCCAATA\n",
      "TGTCCACCATGGCACCTGGCATGCTCCGTGCCCCAAGGAGGCTCGTGGTCTTCCGGAATGGTGACCCGAA\n"
     ]
    }
   ],
   "source": [
    "%run script/formatFasta-2"
   ]
  },
  {
   "cell_type": "code",
   "execution_count": 13,
   "metadata": {
    "collapsed": false
   },
   "outputs": [
    {
     "name": "stdout",
     "output_type": "stream",
     "text": [
      "Overwriting sortFasta.py\n"
     ]
    }
   ],
   "source": [
    "%%writefile script/sortFasta.py\n",
    "#作业6\n",
    "aDict = {}\n",
    "\n",
    "filename = \"data/test2.fa\"\n",
    "\n",
    "for line in open(filename):\n",
    "    if line[0] == '>':\n",
    "        key = line.split()[0]\n",
    "        aDict[key] = []\n",
    "    else:\n",
    "        aDict[key].append(line.strip())\n",
    "#--------END reading--------------------\n",
    "keyL = aDict.keys()\n",
    "keyL.sort()\n",
    "\n",
    "for key in keyL:\n",
    "    print \"%s\\n%s\" % (key, ''.join(aDict[key]))"
   ]
  },
  {
   "cell_type": "code",
   "execution_count": 14,
   "metadata": {
    "collapsed": false
   },
   "outputs": [
    {
     "name": "stdout",
     "output_type": "stream",
     "text": [
      ">NM_001011874\n",
      "gcggcggcgggcgagcgggcgctggagtaggagctggggagcggcgcggccggggaaggaagccagggcgaggcgaggaggtggcgggaggaggagacagcagggacaggTGTCAGATAAAGGAGTGCTCTCCTCCGCTGCCGAGGCATCATGGCCGCTAAGTCAGACGGGAGGCTGAAGATGAAGAAGAGCAGCGACGTGGCGTTCACCCCGCTGCAGAACTCGGACAATTCGGGCTCTGTGCAAGGACTGGCTCCAGGCTTGCCGTCGGGGTCCGGAG\n",
      ">NM_001195662\n",
      "AAGCTCAGCCTTTGCTCAGATTCTCCTCTTGATGAAACAAAGGGATTTCTGCACATGCTTGAGAAATTGCAGGTCTCACCCAAAATGAGTGACACACCTTCTACTAGTTTCTCCATGATTCATCTGACTTCTGAAGGTCAAGTTCCTTCCCCTCGCCATTCAAATATCACTCATCCTGTAGTGGCTAAACGCATCAGTTTCTATAAGAGTGGAGACCCACAGTTTGGCGGCGTTCGGGTGGTGGTCAACCCTCGTTCCTTTAAGACTTTTGACGCTCTGCTGGACAGTTTATCCAGGAAGGTACCCCTGCCCTTTGGGGTAAGGAACATCAGCACGCCCCGTGGACGACACAGCATCACCAGGCTGGAGGAGCTAGAGGACGGCAAGTCTTATGTGTGCTCCCACAATAAGAAGGTGCTG\n",
      ">NM_011283\n",
      "AATAAATCCAAAGACATTTGTTTACGTGAAACAAGCAGGTTGCATATCCAGTGACGTTTATACAGACCACACAAACTATTTACTCTTTTCTTCGTAAGGAAAGGTTCAACTTCTGGTCTCACCCAAAATGAGTGACACACCTTCTACTAGTTTCTCCATGATTCATCTGACTTCTGAAGGTCAAGTTCCTTCCCCTCGCCATTCAAATATCACTCATCCTGTAGTGGCTAAACGCATCAGTTTCTATAAGAGTGGAGACCCACAGTTTGGCGGCGTTCGGGTGGTGGTCAACCCTCGTTCCTTTAAGACTTTTGACGCTCTGCTGGACAGTTTATCCAGGAAGGTACCCCTGCCCTTTGGGGTAAGGAACATCAGCACGCCCCGTGGACGACACAGCATCACCAGGCTGGAGGAGCTAGAGGACGGCAAGTCTTATGTGTGCTCCCACAATAAGAAGGTGCTGCCAGTTGACCTGGACAAGGCCCGCAGGCGCCCTCGGCCCTGGCTGAGTAGTCGCTCCATAAGCACGCATGTGCAGCTCTGTCCTGCAACTGCCAATATGTCCACCATGGCACCTGGCATGCTCCGTGCCCCAAGGAGGCTCGTGGTCTTCCGGAATGGTGACCCGAA\n",
      ">NM_0112835\n",
      "AATAAATCCAAAGACATTTGTTTACGTGAAACAAGCAGGTTGCATATCCAGTGACGTTTATACAGACCACACAAACTATTTACTCTTTTCTTCGTAAGGAAAGGTTCAACTTCTGGTCTCACCCAAAATGAGTGACACACCTTCTACTAGTTTCTCCATGATTCATCTGACTTCTGAAGGTCAAGTTCCTTCCCCTCGCCATTCAAATATCACTCATCCTGTAGTGGCTAAACGCATCAGTTTCTATAAGAGTGGAGACCCACAGTTTGGCGGCGTTCGGGTGGTGGTCAACCCTCGTTCCTTTAAGACTTTTGACGCTCTGCTGGACAGTTTATCCAGGAAGGTACCCCTGCCCTTTGGGGTAAGGAACATCAGCACGCCCCGTGGACGACACAGCATCACCAGGCTGGAGGAGCTAGAGGACGGCAAGTCTTATGTGTGCTCCCACAATAAGAAGGTGCTGCCAGTTGACCTGGACAAGGCCCGCAGGCGCCCTCGGCCCTGGCTGAGTAGTCGCTCCATAAGCACGCATGTGCAGCTCTGTCCTGCAACTGCCAATATGTCCACCATGGCACCTGGCATGCTCCGTGCCCCAAGGAGGCTCGTGGTCTTCCGGAATGGTGACCCGAA\n"
     ]
    }
   ],
   "source": [
    "%run script/sortFasta"
   ]
  },
  {
   "cell_type": "code",
   "execution_count": 15,
   "metadata": {
    "collapsed": false
   },
   "outputs": [
    {
     "name": "stdout",
     "output_type": "stream",
     "text": [
      "Overwriting grepFasta.py\n"
     ]
    }
   ],
   "source": [
    "%%writefile script/grepFasta.py\n",
    "#作业7.1\n",
    "aDict = {}\n",
    "\n",
    "seqFile = \"data/test2.fa\"\n",
    "nameFile = \"data/fasta.name\"\n",
    "\n",
    "for line in open(seqFile):\n",
    "    if line[0] == '>':\n",
    "        key = line.split()[0][1:] #注意去掉开头的'>'，只取序列的名字\n",
    "        aDict[key] = []  #字典的值是一个列表\n",
    "    else:\n",
    "        aDict[key].append(line.strip())\n",
    "#--------END reading--------------------\n",
    "for line in open(nameFile):\n",
    "    name = line.strip()\n",
    "    print \">%s\\n%s\" % (name, ''.join(aDict[name]))"
   ]
  },
  {
   "cell_type": "code",
   "execution_count": 16,
   "metadata": {
    "collapsed": false
   },
   "outputs": [
    {
     "name": "stdout",
     "output_type": "stream",
     "text": [
      ">NM_001011874\n",
      "gcggcggcgggcgagcgggcgctggagtaggagctggggagcggcgcggccggggaaggaagccagggcgaggcgaggaggtggcgggaggaggagacagcagggacaggTGTCAGATAAAGGAGTGCTCTCCTCCGCTGCCGAGGCATCATGGCCGCTAAGTCAGACGGGAGGCTGAAGATGAAGAAGAGCAGCGACGTGGCGTTCACCCCGCTGCAGAACTCGGACAATTCGGGCTCTGTGCAAGGACTGGCTCCAGGCTTGCCGTCGGGGTCCGGAG\n",
      ">NM_011283\n",
      "AATAAATCCAAAGACATTTGTTTACGTGAAACAAGCAGGTTGCATATCCAGTGACGTTTATACAGACCACACAAACTATTTACTCTTTTCTTCGTAAGGAAAGGTTCAACTTCTGGTCTCACCCAAAATGAGTGACACACCTTCTACTAGTTTCTCCATGATTCATCTGACTTCTGAAGGTCAAGTTCCTTCCCCTCGCCATTCAAATATCACTCATCCTGTAGTGGCTAAACGCATCAGTTTCTATAAGAGTGGAGACCCACAGTTTGGCGGCGTTCGGGTGGTGGTCAACCCTCGTTCCTTTAAGACTTTTGACGCTCTGCTGGACAGTTTATCCAGGAAGGTACCCCTGCCCTTTGGGGTAAGGAACATCAGCACGCCCCGTGGACGACACAGCATCACCAGGCTGGAGGAGCTAGAGGACGGCAAGTCTTATGTGTGCTCCCACAATAAGAAGGTGCTGCCAGTTGACCTGGACAAGGCCCGCAGGCGCCCTCGGCCCTGGCTGAGTAGTCGCTCCATAAGCACGCATGTGCAGCTCTGTCCTGCAACTGCCAATATGTCCACCATGGCACCTGGCATGCTCCGTGCCCCAAGGAGGCTCGTGGTCTTCCGGAATGGTGACCCGAA\n"
     ]
    }
   ],
   "source": [
    "%run script/grepFasta.py"
   ]
  },
  {
   "cell_type": "code",
   "execution_count": 17,
   "metadata": {
    "collapsed": true
   },
   "outputs": [
    {
     "name": "stdout",
     "output_type": "stream",
     "text": [
      "Overwriting grepFastq.py\n"
     ]
    }
   ],
   "source": [
    "%%writefile script/grepFastq.py\n",
    "#作业7.2\n",
    "seqFile = \"data/test1.fq\"\n",
    "nameFile = \"data/fastq.name\"\n",
    "\n",
    "aDict = {}\n",
    "count = 0\n",
    "for line in open(seqFile):\n",
    "    count += 1\n",
    "    if count % 4 == 1:\n",
    "        name = line.strip()[1:] #去掉开头的@\n",
    "        aDict[name] = [line] #存储名字行\n",
    "    else:\n",
    "        aDict[name].append(line)\n",
    "#-------END reading----------这行知识注释，可有可无------\n",
    "for line in open(nameFile):\n",
    "    name = line.strip()\n",
    "    print ''.join(aDict[name]),"
   ]
  },
  {
   "cell_type": "code",
   "execution_count": 18,
   "metadata": {
    "collapsed": false
   },
   "outputs": [
    {
     "name": "stdout",
     "output_type": "stream",
     "text": [
      "@HWI-ST1223:80:D1FMTACXX:2:1101:1243:2213 1:N:0:AGTCAA\n",
      "TCTGTGTAGCCNTGGCTGTCCTGGAACTCACTTTGTAGACCAGGCTGGCATGCACCACCACNNNCGGCTCATTTGTCTTTNNTTTTTGTTTTGTTCTGTA\n",
      "+\n",
      "BCCFFFFFFHH#4AFHIJJJJJJJJJJJJJJJJJIJIJJJJJGHIJJJJJJJJJJJJJIIJ###--5ABECFFDDEEEEE##,5=@B8?CDD<AD>C:@>\n",
      "@HWI-ST1223:80:D1FMTACXX:2:1101:1375:2060 1:N:0:AGTCAA\n",
      "NTGCTGAGCCACGACAAGGATCCCAGAGGGCCNAGCCCTGCATCTTGTATGGACCAGTTACNCATCAAAAGAGACTACTGTAGGCACCATCAATCAGATC\n",
      "+\n",
      "#1:DDDD;?CFFHDFEEIGIIIIIIG;DHFGG#)0?BFBDHBFF<FCFEFD;@DD@A=7?E#,,,;=(>3;=;;C>ACCC@CCCCCBBBCCAACCCCCCC\n",
      "@HWI-ST1223:80:D1FMTACXX:2:1101:1383:2091 1:N:0:AGTCAA\n",
      "NGTTCGTGTGGAACCTGGCGCTAAACCATTCGTAGACGACCTGCTTCTGGGTCGGGGTTTCGTACGTAGCAGAGCAGCTCCCTCGCTGCGATCTATTGAA\n",
      "+\n",
      "#1=DDFDFHHHHHJGJJJJJJJJJJJJJJJIJIGDHIHIGIJJJJJJJIIIGHHFDD3>BDDBDDDDDDDDDDBDCCBDDDDDDDDDDDBBDDDDEEACD\n",
      "@HWI-ST1223:80:D1FMTACXX:2:1101:1452:2138 1:N:0:AGTCAA\n",
      "NTCTAGGAGGTCTAGAAAGCCCAGGCCACCGGTACAAACATCAAGGGTGTTACGGATGTGCCGCTCTGAACCTCCAGGACGACTTTGATTTCAACTACAA\n",
      "+\n",
      "#4=DFFEFHHHHHJJJJJIJJJJHIIJGJJJJ@GIIJJJJJJIJJJJFGHIIIJJHHHDFFFFDDDDDDDDDDDDCDDDDDDDDDDDCCCEDEDDDDDDD\n"
     ]
    }
   ],
   "source": [
    "%run script/grepFastq"
   ]
  },
  {
   "cell_type": "code",
   "execution_count": 19,
   "metadata": {
    "collapsed": false
   },
   "outputs": [
    {
     "name": "stdout",
     "output_type": "stream",
     "text": [
      "Overwriting screenResult.py\n"
     ]
    }
   ],
   "source": [
    "%%writefile script/screenResult.py\n",
    "#作业8\n",
    "file = \"data/test.expr\"\n",
    "\n",
    "head = 1 #This is used to indicate there is one head line needing to skip\n",
    "for line in open(file):\n",
    "    if head:\n",
    "        head -= 1\n",
    "        continue\n",
    "    #-----Begin data lines------\n",
    "    lineL = line.split()\n",
    "    \n",
    "    foldChange = float(lineL[9])\n",
    "    adjP = float(lineL[12])\n",
    "    if foldChange > 2 and adjP < 0.05:\n",
    "        print lineL[0]"
   ]
  },
  {
   "cell_type": "code",
   "execution_count": 20,
   "metadata": {
    "collapsed": false
   },
   "outputs": [
    {
     "name": "stdout",
     "output_type": "stream",
     "text": [
      "Novel00011\n",
      "Novel00043\n",
      "Novel00047\n",
      "Novel00077\n",
      "Novel00079\n",
      "Novel00080\n",
      "Novel00084\n",
      "Novel00085\n",
      "Novel00086\n",
      "Novel00087\n",
      "Novel00090\n",
      "Novel00124\n",
      "Novel00148\n",
      "Novel00156\n",
      "Novel00162\n",
      "Novel00166\n"
     ]
    }
   ],
   "source": [
    "%run script/screenResult"
   ]
  },
  {
   "cell_type": "code",
   "execution_count": 21,
   "metadata": {
    "collapsed": false
   },
   "outputs": [
    {
     "name": "stdout",
     "output_type": "stream",
     "text": [
      "Overwriting transferMultipleColumToMatrix.py\n"
     ]
    }
   ],
   "source": [
    "%%writefile script/transferMultipleColumToMatrix.py\n",
    "#作业9\n",
    "file = \"data/multipleColExpr.txt\"\n",
    "head = 1\n",
    "tissueSet = set()\n",
    "aDict = {}\n",
    "for line in open(file):\n",
    "    if head: #skip header line\n",
    "        head -= 1\n",
    "        continue\n",
    "    #-------------------------------\n",
    "    lineL = line.split()\n",
    "    gene = lineL[0]\n",
    "    tissue = lineL[1]\n",
    "    expr = lineL[2]\n",
    "    if gene not in aDict:\n",
    "        aDict[gene] = {}\n",
    "    assert tissue not in aDict[gene], \"Duplicate tissues\"\n",
    "    aDict[gene][tissue] = expr\n",
    "    tissueSet.add(tissue)\n",
    "#---END reading----------------------------\n",
    "tissueL = list(tissueSet)\n",
    "tissueL.sort()\n",
    "print \"Gene\\t%s\" % '\\t'.join(tissueL)\n",
    "\n",
    "for gene, tissueD in aDict.items():\n",
    "    exprL = [gene]\n",
    "    for tissue in tissueL:\n",
    "        exprL.append(tissueD[tissue])\n",
    "    print '\\t'.join(exprL)\n",
    "    "
   ]
  },
  {
   "cell_type": "code",
   "execution_count": 22,
   "metadata": {
    "collapsed": false
   },
   "outputs": [
    {
     "name": "stdout",
     "output_type": "stream",
     "text": [
      "Gene\tA-431\tA-549\tAN3-CA\tBEWO\tCACO-2\n",
      "ENSG00000000460\t25.2\t14.2\t10.6\t24.4\t14.2\n",
      "ENSG00000000938\t0.0\t0.0\t0.0\t0.0\t0.0\n",
      "ENSG00000000457\t2.8\t3.4\t3.8\t5.8\t2.9\n",
      "ENSG00000000419\t73.8\t38.6\t33.9\t53.7\t155.5\n",
      "ENSG00000000003\t21.3\t32.5\t38.2\t31.4\t63.9\n",
      "ENSG00000000005\t0.0\t0.0\t0.0\t0.0\t0.0\n"
     ]
    }
   ],
   "source": [
    "%run script/transferMultipleColumToMatrix"
   ]
  },
  {
   "cell_type": "code",
   "execution_count": 23,
   "metadata": {
    "collapsed": false
   },
   "outputs": [
    {
     "name": "stdout",
     "output_type": "stream",
     "text": [
      "Overwriting reverseComplementary.py\n"
     ]
    }
   ],
   "source": [
    "%%writefile script/reverseComplementary.py\n",
    "#作业10\n",
    "str1 = \"ACGTACGTACGTCACGTCAGCTAGAC\"\n",
    "\n",
    "ATCG_dict = {'A':'T','T':'A','C':'G','G':'C', 'a':'t','t':'a','c':'g','g':'c'}\n",
    "\n",
    "tmpL = []\n",
    "for i in str1:\n",
    "    tmpL.append(ATCG_dict[i])\n",
    "tmpL.reverse()\n",
    "print ''.join(tmpL)"
   ]
  },
  {
   "cell_type": "code",
   "execution_count": 24,
   "metadata": {
    "collapsed": false
   },
   "outputs": [
    {
     "name": "stdout",
     "output_type": "stream",
     "text": [
      "GTCTAGCTGACGTGACGTACGTACGT\n"
     ]
    }
   ],
   "source": [
    "%run script/reverseComplementary"
   ]
  },
  {
   "cell_type": "code",
   "execution_count": 25,
   "metadata": {
    "collapsed": false
   },
   "outputs": [
    {
     "name": "stdout",
     "output_type": "stream",
     "text": [
      "Overwriting collapsemiRNAreads.py\n"
     ]
    }
   ],
   "source": [
    "%%writefile script/collapsemiRNAreads.py\n",
    "#作业11\n",
    "smRNA_file = \"data/mir.collapse\"\n",
    "\n",
    "head = 1\n",
    "sample = 'ESB'\n",
    "lineno = 0\n",
    "for line in open(smRNA_file):\n",
    "    if head:\n",
    "        head -= 1\n",
    "        continue\n",
    "    #----end skip header line---\n",
    "    seq, value = line.split()\n",
    "    lineno += 1\n",
    "    print \">%s_%d_x%s\\n%s\" % (sample, lineno, value, seq)"
   ]
  },
  {
   "cell_type": "code",
   "execution_count": 26,
   "metadata": {
    "collapsed": false
   },
   "outputs": [
    {
     "name": "stdout",
     "output_type": "stream",
     "text": [
      ">ESB_1_x2\n",
      "ACTGCCCTAAGTGCTCCTTCTGGC\n",
      ">ESB_2_x2\n",
      "ATAAGGTGCATCTAGTGCAGATA\n",
      ">ESB_3_x1\n",
      "TGAGGTAGTAGTTTGTGCTGTTT\n",
      ">ESB_4_x1\n",
      "TCCTACGAGTTGCATGGATTC\n",
      ">ESB_5_x1\n",
      "ACCGGGTGGAGCCGCCGCA\n",
      ">ESB_6_x1\n",
      "ACTGCCCTAAGTGCTCCTTCTGGT\n",
      ">ESB_7_x1\n",
      "TACAGGGCTGGGGATGG\n",
      ">ESB_8_x1\n",
      "CCCTGGATGCTGTAGGATG\n",
      ">ESB_9_x1\n",
      "AAAATGCTACTACTTTTGAGTC\n",
      ">ESB_10_x1\n",
      "TCCCTGGTGGTCTAGTGGCTAGGAT\n",
      ">ESB_11_x4\n",
      "CTCTTAGATCGATGTGGTGCTC\n",
      ">ESB_12_x1\n",
      "TTGGTGGTTCAGTGGTA\n",
      ">ESB_13_x1\n",
      "TCACAATTCCCCTATACCATGGGCCAT\n",
      ">ESB_14_x1\n",
      "CAAATGCTAGGGTTGGTGG\n",
      ">ESB_15_x4\n",
      "AGGCAGCTTCCACAGCA\n",
      ">ESB_16_x3\n",
      "GCACTGAGATGGAGTGGTGTAA\n",
      ">ESB_17_x3\n",
      "CTCCATTTGTTTGATGATGGA\n",
      ">ESB_18_x1\n",
      "GCACTGAGATGGAGTGGTGTAT\n",
      ">ESB_19_x2\n",
      "AGTGCCCAGAGTTTGTAGTGT\n",
      ">ESB_20_x1\n",
      "ATAAGGTGCATCTAGTGCTGTTAGA\n",
      ">ESB_21_x9\n",
      "AAAATGCTTCCACTTTGTGTG\n",
      ">ESB_22_x2\n",
      "GGTAATTCTAGAGCTAATACATGCCG\n",
      ">ESB_23_x6\n",
      "CCGGGCGGAAACACCA\n",
      ">ESB_24_x1\n",
      "TGAAAGGCTGACCCGCCGGGC\n",
      ">ESB_25_x1\n",
      "TTCGTACAGTGGTCGTAAGTTCGTGC\n",
      ">ESB_26_x1\n",
      "GGTTAGCACTCTGGACTC\n"
     ]
    }
   ],
   "source": [
    "%run script/collapsemiRNAreads"
   ]
  },
  {
   "cell_type": "code",
   "execution_count": 27,
   "metadata": {
    "collapsed": false
   },
   "outputs": [
    {
     "name": "stdout",
     "output_type": "stream",
     "text": [
      "Overwriting map.py\n"
     ]
    }
   ],
   "source": [
    "%%writefile script/map.py\n",
    "#作业12\n",
    "ref = \"data/ref.fa\"\n",
    "short = \"data/short.fa\"\n",
    "\n",
    "refD = {}\n",
    "for line in open(ref):\n",
    "    if line[0] == '>':\n",
    "        name = line[1:-1]\n",
    "        assert name not in refD\n",
    "        refD[name] = []\n",
    "    else:\n",
    "        refD[name].append(line.strip())\n",
    "#---------END reading----------------\n",
    "for key, valueL in refD.items():\n",
    "    refD[key] = ''.join(valueL)\n",
    "#------------------------------------\n",
    "for line in open(short):\n",
    "    if line[0] == '>':\n",
    "        pass\n",
    "    else:\n",
    "        seq = line.strip()\n",
    "        len_seq = len(seq)\n",
    "        for key, value in refD.items():\n",
    "            pos = value.find(seq)\n",
    "            while pos != -1:\n",
    "                print \"%s\\t%d\\t%d\\t%s\" % (key, pos, pos+len_seq, seq)\n",
    "                current = pos + 1\n",
    "                newpos = value[current:].find(seq)\n",
    "                if newpos == -1:\n",
    "                    break\n",
    "                pos = current + newpos"
   ]
  },
  {
   "cell_type": "code",
   "execution_count": 28,
   "metadata": {
    "collapsed": false
   },
   "outputs": [
    {
     "name": "stdout",
     "output_type": "stream",
     "text": [
      "chr1\t199\t208\tTGGCGTTCA\n",
      "chr1\t207\t216\tACCCCGCTG\n",
      "chr2\t63\t70\tAAATTGC\n",
      "chr3\t0\t7\tAATAAAT\n",
      "chr3\t66\t74\tCCACACAA\n",
      "chr3\t206\t214\tATATCACT\n",
      "chr2\t163\t171\tATATCACT\n",
      "chr3\t417\t423\tAGAGGA\n",
      "chr2\t374\t380\tAGAGGA\n",
      "chrX\t137\t143\tAGAGGA\n"
     ]
    }
   ],
   "source": [
    "%run script/map"
   ]
  },
  {
   "cell_type": "markdown",
   "metadata": {},
   "source": [
    "## 作业（二）"
   ]
  },
  {
   "cell_type": "markdown",
   "metadata": {},
   "source": [
    "6. 将 “作业（一）” 中的程序块用函数的方式重写，并调用执行\n",
    "    * 用到的知识点\n",
    "        * def func(para1,para2,...):\n",
    "        * func(para1,para2,...)\n",
    "10. 备注：\n",
    "    * 每个提到提到的“用到的知识点”为相对于前面的题目新增的知识点，请综合考虑。此外，对于不同的思路并不是所有提到的知识点都会用着，而且也可能会用到未提到的知识点。但是所有知识点都在前面的讲义部分有介绍。\n",
    "    * 每个程序对于你身边会写的人来说都很简单，因此你一定要克制住，独立去把答案做出，多看错误提示，多比对程序输出结果和预期结果的差异。\n",
    "    * 学习锻炼“读程序”，即对着文件模拟整个的读入、处理过程来发现可能的逻辑问题。\n",
    "    * 程序运行没有错误不代表你写的程序完成了你的需求，你要去插眼输出结果是不是你想要的。\n",
    "11. 关于程序调试\n",
    "    * 在初写程序时，可能会出现各种各样的错误，常见的有缩进不一致，变量名字拼写错误，丢失冒号，文件名未加引号等，这时要根据错误提示查看错误类型是什么，出错的是哪一行来定位错误。当然，有的时候报错的行自身不一定有错，可能是其前面或后面的行出现了错误。\n",
    "    * 当结果不符合预期时，要学会使用print来查看每步的操作是否正确，比如我读入了字典，我就打印下字典，看看读入的是不是我想要的，是否含有不该存在的字符；或者在每个判断句、函数调入的情况下打印个字符，来跟踪程序的运行轨迹。"
   ]
  },
  {
   "cell_type": "code",
   "execution_count": 33,
   "metadata": {
    "collapsed": false
   },
   "outputs": [
    {
     "name": "stdout",
     "output_type": "stream",
     "text": [
      "Overwriting script/cat.py\n"
     ]
    }
   ],
   "source": [
    "%%writefile script/cat.py\n",
    "#作业1和2, cat.py\n",
    "#包含了三中处理换行符的写法\n",
    "\n",
    "def cat(file):\n",
    "    for line in open(file):\n",
    "        print line,\n",
    "#------END of cat---------\n",
    "cat(\"data/test1.fa\")\n",
    "cat(\"data/test2.fa\")\n",
    "cat(\"data/test1.fq\")"
   ]
  },
  {
   "cell_type": "code",
   "execution_count": 34,
   "metadata": {
    "collapsed": false
   },
   "outputs": [
    {
     "name": "stdout",
     "output_type": "stream",
     "text": [
      ">NM_001011874 gene=Xkr4 CDS=151-2091\n",
      "gcggcggcgggcgagcgggcgctggagtaggagctggggagcggcgcggccggggaaggaagccagggcg\n",
      ">NM_001195662 gene=Rp1 CDS=55-909\n",
      "AGGTCTCACCCAAAATGAGTGACACACCTTCTACTAGTTTCTCCATGATTCATCTGACTTCTGAAGGTCA\n",
      ">NM_011283 gene=Rp1 CDS=128-6412\n",
      "AATAAATCCAAAGACATTTGTTTACGTGAAACAAGCAGGTTGCATATCCAGTGACGTTTATACAGACCAC\n",
      ">NM_0112835 gene=Rp15 CDS=128-6412\n",
      "AATAAATCCAAAGACATTTGTTTACGTGAAACAAGCAGGTTGCATATCCAGTGACGTTTATACAGACCAC\n",
      ">NM_001011874 gene=Xkr4 CDS=151-2091\n",
      "gcggcggcgggcgagcgggcgctggagtaggagctggggagcggcgcggccggggaaggaagccagggcg\n",
      "aggcgaggaggtggcgggaggaggagacagcagggacaggTGTCAGATAAAGGAGTGCTCTCCTCCGCTG\n",
      "CCGAGGCATCATGGCCGCTAAGTCAGACGGGAGGCTGAAGATGAAGAAGAGCAGCGACGTGGCGTTCACC\n",
      "CCGCTGCAGAACTCGGACAATTCGGGCTCTGTGCAAGGACTGGCTCCAGGCTTGCCGTCGGGGTCCGGAG\n",
      ">NM_001195662 gene=Rp1 CDS=55-909\n",
      "AAGCTCAGCCTTTGCTCAGATTCTCCTCTTGATGAAACAAAGGGATTTCTGCACATGCTTGAGAAATTGC\n",
      "AGGTCTCACCCAAAATGAGTGACACACCTTCTACTAGTTTCTCCATGATTCATCTGACTTCTGAAGGTCA\n",
      "AGTTCCTTCCCCTCGCCATTCAAATATCACTCATCCTGTAGTGGCTAAACGCATCAGTTTCTATAAGAGT\n",
      "GGAGACCCACAGTTTGGCGGCGTTCGGGTGGTGGTCAACCCTCGTTCCTTTAAGACTTTTGACGCTCTGC\n",
      "TGGACAGTTTATCCAGGAAGGTACCCCTGCCCTTTGGGGTAAGGAACATCAGCACGCCCCGTGGACGACA\n",
      "CAGCATCACCAGGCTGGAGGAGCTAGAGGACGGCAAGTCTTATGTGTGCTCCCACAATAAGAAGGTGCTG\n",
      ">NM_011283 gene=Rp1 CDS=128-6412\n",
      "AATAAATCCAAAGACATTTGTTTACGTGAAACAAGCAGGTTGCATATCCAGTGACGTTTATACAGACCAC\n",
      "ACAAACTATTTACTCTTTTCTTCGTAAGGAAAGGTTCAACTTCTGGTCTCACCCAAAATGAGTGACACAC\n",
      "CTTCTACTAGTTTCTCCATGATTCATCTGACTTCTGAAGGTCAAGTTCCTTCCCCTCGCCATTCAAATAT\n",
      "CACTCATCCTGTAGTGGCTAAACGCATCAGTTTCTATAAGAGTGGAGACCCACAGTTTGGCGGCGTTCGG\n",
      "GTGGTGGTCAACCCTCGTTCCTTTAAGACTTTTGACGCTCTGCTGGACAGTTTATCCAGGAAGGTACCCC\n",
      "TGCCCTTTGGGGTAAGGAACATCAGCACGCCCCGTGGACGACACAGCATCACCAGGCTGGAGGAGCTAGA\n",
      "GGACGGCAAGTCTTATGTGTGCTCCCACAATAAGAAGGTGCTGCCAGTTGACCTGGACAAGGCCCGCAGG\n",
      "CGCCCTCGGCCCTGGCTGAGTAGTCGCTCCATAAGCACGCATGTGCAGCTCTGTCCTGCAACTGCCAATA\n",
      "TGTCCACCATGGCACCTGGCATGCTCCGTGCCCCAAGGAGGCTCGTGGTCTTCCGGAATGGTGACCCGAA\n",
      ">NM_0112835 gene=Rp1 CDS=128-6412\n",
      "AATAAATCCAAAGACATTTGTTTACGTGAAACAAGCAGGTTGCATATCCAGTGACGTTTATACAGACCAC\n",
      "ACAAACTATTTACTCTTTTCTTCGTAAGGAAAGGTTCAACTTCTGGTCTCACCCAAAATGAGTGACACAC\n",
      "CTTCTACTAGTTTCTCCATGATTCATCTGACTTCTGAAGGTCAAGTTCCTTCCCCTCGCCATTCAAATAT\n",
      "CACTCATCCTGTAGTGGCTAAACGCATCAGTTTCTATAAGAGTGGAGACCCACAGTTTGGCGGCGTTCGG\n",
      "GTGGTGGTCAACCCTCGTTCCTTTAAGACTTTTGACGCTCTGCTGGACAGTTTATCCAGGAAGGTACCCC\n",
      "TGCCCTTTGGGGTAAGGAACATCAGCACGCCCCGTGGACGACACAGCATCACCAGGCTGGAGGAGCTAGA\n",
      "GGACGGCAAGTCTTATGTGTGCTCCCACAATAAGAAGGTGCTGCCAGTTGACCTGGACAAGGCCCGCAGG\n",
      "CGCCCTCGGCCCTGGCTGAGTAGTCGCTCCATAAGCACGCATGTGCAGCTCTGTCCTGCAACTGCCAATA\n",
      "TGTCCACCATGGCACCTGGCATGCTCCGTGCCCCAAGGAGGCTCGTGGTCTTCCGGAATGGTGACCCGAA\n",
      "@HWI-ST1223:80:D1FMTACXX:2:1101:1243:2213 1:N:0:AGTCAA\n",
      "TCTGTGTAGCCNTGGCTGTCCTGGAACTCACTTTGTAGACCAGGCTGGCATGCACCACCACNNNCGGCTCATTTGTCTTTNNTTTTTGTTTTGTTCTGTA\n",
      "+\n",
      "BCCFFFFFFHH#4AFHIJJJJJJJJJJJJJJJJJIJIJJJJJGHIJJJJJJJJJJJJJIIJ###--5ABECFFDDEEEEE##,5=@B8?CDD<AD>C:@>\n",
      "@HWI-ST1223:80:D1FMTACXX:2:1101:1375:2060 1:N:0:AGTCAA\n",
      "NTGCTGAGCCACGACAAGGATCCCAGAGGGCCNAGCCCTGCATCTTGTATGGACCAGTTACNCATCAAAAGAGACTACTGTAGGCACCATCAATCAGATC\n",
      "+\n",
      "#1:DDDD;?CFFHDFEEIGIIIIIIG;DHFGG#)0?BFBDHBFF<FCFEFD;@DD@A=7?E#,,,;=(>3;=;;C>ACCC@CCCCCBBBCCAACCCCCCC\n",
      "@HWI-ST1223:80:D1FMTACXX:2:1101:1383:2091 1:N:0:AGTCAA\n",
      "NGTTCGTGTGGAACCTGGCGCTAAACCATTCGTAGACGACCTGCTTCTGGGTCGGGGTTTCGTACGTAGCAGAGCAGCTCCCTCGCTGCGATCTATTGAA\n",
      "+\n",
      "#1=DDFDFHHHHHJGJJJJJJJJJJJJJJJIJIGDHIHIGIJJJJJJJIIIGHHFDD3>BDDBDDDDDDDDDDBDCCBDDDDDDDDDDDBBDDDDEEACD\n",
      "@HWI-ST1223:80:D1FMTACXX:2:1101:1452:2138 1:N:0:AGTCAA\n",
      "NTCTAGGAGGTCTAGAAAGCCCAGGCCACCGGTACAAACATCAAGGGTGTTACGGATGTGCCGCTCTGAACCTCCAGGACGACTTTGATTTCAACTACAA\n",
      "+\n",
      "#4=DFFEFHHHHHJJJJJIJJJJHIIJGJJJJ@GIIJJJJJJIJJJJFGHIIIJJHHHDFFFFDDDDDDDDDDDDCDDDDDDDDDDDCCCEDEDDDDDDD\n"
     ]
    }
   ],
   "source": [
    "%run script/cat"
   ]
  },
  {
   "cell_type": "code",
   "execution_count": 35,
   "metadata": {
    "collapsed": false
   },
   "outputs": [
    {
     "name": "stdout",
     "output_type": "stream",
     "text": [
      "Overwriting script/splitName.py\n"
     ]
    }
   ],
   "source": [
    "%%writefile script/splitName.py\n",
    "#作业3\n",
    "filename = \"data/test2.fa\"\n",
    "def splitName(filename):\n",
    "    for line in open(filename):\n",
    "        if line[0] == '>':\n",
    "            lineL = line.split(' ')\n",
    "            print lineL[0]\n",
    "        else:\n",
    "            print line,\n",
    "#------END splitName---------------\n",
    "splitName(filename)"
   ]
  },
  {
   "cell_type": "code",
   "execution_count": 36,
   "metadata": {
    "collapsed": false
   },
   "outputs": [
    {
     "name": "stdout",
     "output_type": "stream",
     "text": [
      ">NM_001011874\n",
      "gcggcggcgggcgagcgggcgctggagtaggagctggggagcggcgcggccggggaaggaagccagggcg\n",
      "aggcgaggaggtggcgggaggaggagacagcagggacaggTGTCAGATAAAGGAGTGCTCTCCTCCGCTG\n",
      "CCGAGGCATCATGGCCGCTAAGTCAGACGGGAGGCTGAAGATGAAGAAGAGCAGCGACGTGGCGTTCACC\n",
      "CCGCTGCAGAACTCGGACAATTCGGGCTCTGTGCAAGGACTGGCTCCAGGCTTGCCGTCGGGGTCCGGAG\n",
      ">NM_001195662\n",
      "AAGCTCAGCCTTTGCTCAGATTCTCCTCTTGATGAAACAAAGGGATTTCTGCACATGCTTGAGAAATTGC\n",
      "AGGTCTCACCCAAAATGAGTGACACACCTTCTACTAGTTTCTCCATGATTCATCTGACTTCTGAAGGTCA\n",
      "AGTTCCTTCCCCTCGCCATTCAAATATCACTCATCCTGTAGTGGCTAAACGCATCAGTTTCTATAAGAGT\n",
      "GGAGACCCACAGTTTGGCGGCGTTCGGGTGGTGGTCAACCCTCGTTCCTTTAAGACTTTTGACGCTCTGC\n",
      "TGGACAGTTTATCCAGGAAGGTACCCCTGCCCTTTGGGGTAAGGAACATCAGCACGCCCCGTGGACGACA\n",
      "CAGCATCACCAGGCTGGAGGAGCTAGAGGACGGCAAGTCTTATGTGTGCTCCCACAATAAGAAGGTGCTG\n",
      ">NM_011283\n",
      "AATAAATCCAAAGACATTTGTTTACGTGAAACAAGCAGGTTGCATATCCAGTGACGTTTATACAGACCAC\n",
      "ACAAACTATTTACTCTTTTCTTCGTAAGGAAAGGTTCAACTTCTGGTCTCACCCAAAATGAGTGACACAC\n",
      "CTTCTACTAGTTTCTCCATGATTCATCTGACTTCTGAAGGTCAAGTTCCTTCCCCTCGCCATTCAAATAT\n",
      "CACTCATCCTGTAGTGGCTAAACGCATCAGTTTCTATAAGAGTGGAGACCCACAGTTTGGCGGCGTTCGG\n",
      "GTGGTGGTCAACCCTCGTTCCTTTAAGACTTTTGACGCTCTGCTGGACAGTTTATCCAGGAAGGTACCCC\n",
      "TGCCCTTTGGGGTAAGGAACATCAGCACGCCCCGTGGACGACACAGCATCACCAGGCTGGAGGAGCTAGA\n",
      "GGACGGCAAGTCTTATGTGTGCTCCCACAATAAGAAGGTGCTGCCAGTTGACCTGGACAAGGCCCGCAGG\n",
      "CGCCCTCGGCCCTGGCTGAGTAGTCGCTCCATAAGCACGCATGTGCAGCTCTGTCCTGCAACTGCCAATA\n",
      "TGTCCACCATGGCACCTGGCATGCTCCGTGCCCCAAGGAGGCTCGTGGTCTTCCGGAATGGTGACCCGAA\n",
      ">NM_0112835\n",
      "AATAAATCCAAAGACATTTGTTTACGTGAAACAAGCAGGTTGCATATCCAGTGACGTTTATACAGACCAC\n",
      "ACAAACTATTTACTCTTTTCTTCGTAAGGAAAGGTTCAACTTCTGGTCTCACCCAAAATGAGTGACACAC\n",
      "CTTCTACTAGTTTCTCCATGATTCATCTGACTTCTGAAGGTCAAGTTCCTTCCCCTCGCCATTCAAATAT\n",
      "CACTCATCCTGTAGTGGCTAAACGCATCAGTTTCTATAAGAGTGGAGACCCACAGTTTGGCGGCGTTCGG\n",
      "GTGGTGGTCAACCCTCGTTCCTTTAAGACTTTTGACGCTCTGCTGGACAGTTTATCCAGGAAGGTACCCC\n",
      "TGCCCTTTGGGGTAAGGAACATCAGCACGCCCCGTGGACGACACAGCATCACCAGGCTGGAGGAGCTAGA\n",
      "GGACGGCAAGTCTTATGTGTGCTCCCACAATAAGAAGGTGCTGCCAGTTGACCTGGACAAGGCCCGCAGG\n",
      "CGCCCTCGGCCCTGGCTGAGTAGTCGCTCCATAAGCACGCATGTGCAGCTCTGTCCTGCAACTGCCAATA\n",
      "TGTCCACCATGGCACCTGGCATGCTCCGTGCCCCAAGGAGGCTCGTGGTCTTCCGGAATGGTGACCCGAA\n"
     ]
    }
   ],
   "source": [
    "%run script/splitName"
   ]
  },
  {
   "cell_type": "code",
   "execution_count": 37,
   "metadata": {
    "collapsed": false
   },
   "outputs": [
    {
     "name": "stdout",
     "output_type": "stream",
     "text": [
      "Overwriting script/formatFasta.py\n"
     ]
    }
   ],
   "source": [
    "%%writefile script/formatFasta.py\n",
    "#作业4\n",
    "filename = \"data/test2.fa\"\n",
    "\n",
    "def formatFasta(filename):\n",
    "    aList = []\n",
    "    for line in open(filename):\n",
    "        if line[0] == '>':\n",
    "            lineL = line.split(' ')\n",
    "            if aList:\n",
    "                print ''.join(aList)\n",
    "                aList = []\n",
    "            name = lineL[0]\n",
    "            print name\n",
    "        else:\n",
    "            aList.append(line.strip())\n",
    "#不要忘了最后一个序列\n",
    "    print ''.join(aList)\n",
    "#-----End formatFasta----------------\n",
    "formatFasta(filename)"
   ]
  },
  {
   "cell_type": "code",
   "execution_count": 38,
   "metadata": {
    "collapsed": false
   },
   "outputs": [
    {
     "name": "stdout",
     "output_type": "stream",
     "text": [
      ">NM_001011874\n",
      "gcggcggcgggcgagcgggcgctggagtaggagctggggagcggcgcggccggggaaggaagccagggcgaggcgaggaggtggcgggaggaggagacagcagggacaggTGTCAGATAAAGGAGTGCTCTCCTCCGCTGCCGAGGCATCATGGCCGCTAAGTCAGACGGGAGGCTGAAGATGAAGAAGAGCAGCGACGTGGCGTTCACCCCGCTGCAGAACTCGGACAATTCGGGCTCTGTGCAAGGACTGGCTCCAGGCTTGCCGTCGGGGTCCGGAG\n",
      ">NM_001195662\n",
      "AAGCTCAGCCTTTGCTCAGATTCTCCTCTTGATGAAACAAAGGGATTTCTGCACATGCTTGAGAAATTGCAGGTCTCACCCAAAATGAGTGACACACCTTCTACTAGTTTCTCCATGATTCATCTGACTTCTGAAGGTCAAGTTCCTTCCCCTCGCCATTCAAATATCACTCATCCTGTAGTGGCTAAACGCATCAGTTTCTATAAGAGTGGAGACCCACAGTTTGGCGGCGTTCGGGTGGTGGTCAACCCTCGTTCCTTTAAGACTTTTGACGCTCTGCTGGACAGTTTATCCAGGAAGGTACCCCTGCCCTTTGGGGTAAGGAACATCAGCACGCCCCGTGGACGACACAGCATCACCAGGCTGGAGGAGCTAGAGGACGGCAAGTCTTATGTGTGCTCCCACAATAAGAAGGTGCTG\n",
      ">NM_011283\n",
      "AATAAATCCAAAGACATTTGTTTACGTGAAACAAGCAGGTTGCATATCCAGTGACGTTTATACAGACCACACAAACTATTTACTCTTTTCTTCGTAAGGAAAGGTTCAACTTCTGGTCTCACCCAAAATGAGTGACACACCTTCTACTAGTTTCTCCATGATTCATCTGACTTCTGAAGGTCAAGTTCCTTCCCCTCGCCATTCAAATATCACTCATCCTGTAGTGGCTAAACGCATCAGTTTCTATAAGAGTGGAGACCCACAGTTTGGCGGCGTTCGGGTGGTGGTCAACCCTCGTTCCTTTAAGACTTTTGACGCTCTGCTGGACAGTTTATCCAGGAAGGTACCCCTGCCCTTTGGGGTAAGGAACATCAGCACGCCCCGTGGACGACACAGCATCACCAGGCTGGAGGAGCTAGAGGACGGCAAGTCTTATGTGTGCTCCCACAATAAGAAGGTGCTGCCAGTTGACCTGGACAAGGCCCGCAGGCGCCCTCGGCCCTGGCTGAGTAGTCGCTCCATAAGCACGCATGTGCAGCTCTGTCCTGCAACTGCCAATATGTCCACCATGGCACCTGGCATGCTCCGTGCCCCAAGGAGGCTCGTGGTCTTCCGGAATGGTGACCCGAA\n",
      ">NM_0112835\n",
      "AATAAATCCAAAGACATTTGTTTACGTGAAACAAGCAGGTTGCATATCCAGTGACGTTTATACAGACCACACAAACTATTTACTCTTTTCTTCGTAAGGAAAGGTTCAACTTCTGGTCTCACCCAAAATGAGTGACACACCTTCTACTAGTTTCTCCATGATTCATCTGACTTCTGAAGGTCAAGTTCCTTCCCCTCGCCATTCAAATATCACTCATCCTGTAGTGGCTAAACGCATCAGTTTCTATAAGAGTGGAGACCCACAGTTTGGCGGCGTTCGGGTGGTGGTCAACCCTCGTTCCTTTAAGACTTTTGACGCTCTGCTGGACAGTTTATCCAGGAAGGTACCCCTGCCCTTTGGGGTAAGGAACATCAGCACGCCCCGTGGACGACACAGCATCACCAGGCTGGAGGAGCTAGAGGACGGCAAGTCTTATGTGTGCTCCCACAATAAGAAGGTGCTGCCAGTTGACCTGGACAAGGCCCGCAGGCGCCCTCGGCCCTGGCTGAGTAGTCGCTCCATAAGCACGCATGTGCAGCTCTGTCCTGCAACTGCCAATATGTCCACCATGGCACCTGGCATGCTCCGTGCCCCAAGGAGGCTCGTGGTCTTCCGGAATGGTGACCCGAA\n"
     ]
    }
   ],
   "source": [
    "%run script/formatFasta"
   ]
  },
  {
   "cell_type": "code",
   "execution_count": 39,
   "metadata": {
    "collapsed": false
   },
   "outputs": [
    {
     "name": "stdout",
     "output_type": "stream",
     "text": [
      "Overwriting script/formatFasta-2.py\n"
     ]
    }
   ],
   "source": [
    "%%writefile script/formatFasta-2.py\n",
    "#作业5 \n",
    "filename = \"data/test2.fa\"\n",
    "length = 80\n",
    "def formatSeq(aList):\n",
    "    seq = ''.join(aList)\n",
    "    len_seq = len(seq)\n",
    "    for i in range(0,len_seq,length):\n",
    "        print seq[i:i+length] \n",
    "#----END formatSeq-------------------\n",
    "\n",
    "def formatFasta(filename,length):\n",
    "    aList = []\n",
    "    for line in open(filename):\n",
    "        if line[0] == '>':\n",
    "            lineL = line.split(' ')\n",
    "            if aList:\n",
    "                formatSeq(aList)\n",
    "                aList = []\n",
    "            name = lineL[0]\n",
    "            print name\n",
    "        else:\n",
    "            aList.append(line.strip())\n",
    "    #不要忘了最后一个序列\n",
    "    formatSeq(aList)\n",
    "#------------END of formatFasta------------\n",
    "formatFasta(filename,length)"
   ]
  },
  {
   "cell_type": "code",
   "execution_count": 40,
   "metadata": {
    "collapsed": false
   },
   "outputs": [
    {
     "name": "stdout",
     "output_type": "stream",
     "text": [
      ">NM_001011874\n",
      "gcggcggcgggcgagcgggcgctggagtaggagctggggagcggcgcggccggggaaggaagccagggcgaggcgaggag\n",
      "gtggcgggaggaggagacagcagggacaggTGTCAGATAAAGGAGTGCTCTCCTCCGCTGCCGAGGCATCATGGCCGCTA\n",
      "AGTCAGACGGGAGGCTGAAGATGAAGAAGAGCAGCGACGTGGCGTTCACCCCGCTGCAGAACTCGGACAATTCGGGCTCT\n",
      "GTGCAAGGACTGGCTCCAGGCTTGCCGTCGGGGTCCGGAG\n",
      ">NM_001195662\n",
      "AAGCTCAGCCTTTGCTCAGATTCTCCTCTTGATGAAACAAAGGGATTTCTGCACATGCTTGAGAAATTGCAGGTCTCACC\n",
      "CAAAATGAGTGACACACCTTCTACTAGTTTCTCCATGATTCATCTGACTTCTGAAGGTCAAGTTCCTTCCCCTCGCCATT\n",
      "CAAATATCACTCATCCTGTAGTGGCTAAACGCATCAGTTTCTATAAGAGTGGAGACCCACAGTTTGGCGGCGTTCGGGTG\n",
      "GTGGTCAACCCTCGTTCCTTTAAGACTTTTGACGCTCTGCTGGACAGTTTATCCAGGAAGGTACCCCTGCCCTTTGGGGT\n",
      "AAGGAACATCAGCACGCCCCGTGGACGACACAGCATCACCAGGCTGGAGGAGCTAGAGGACGGCAAGTCTTATGTGTGCT\n",
      "CCCACAATAAGAAGGTGCTG\n",
      ">NM_011283\n",
      "AATAAATCCAAAGACATTTGTTTACGTGAAACAAGCAGGTTGCATATCCAGTGACGTTTATACAGACCACACAAACTATT\n",
      "TACTCTTTTCTTCGTAAGGAAAGGTTCAACTTCTGGTCTCACCCAAAATGAGTGACACACCTTCTACTAGTTTCTCCATG\n",
      "ATTCATCTGACTTCTGAAGGTCAAGTTCCTTCCCCTCGCCATTCAAATATCACTCATCCTGTAGTGGCTAAACGCATCAG\n",
      "TTTCTATAAGAGTGGAGACCCACAGTTTGGCGGCGTTCGGGTGGTGGTCAACCCTCGTTCCTTTAAGACTTTTGACGCTC\n",
      "TGCTGGACAGTTTATCCAGGAAGGTACCCCTGCCCTTTGGGGTAAGGAACATCAGCACGCCCCGTGGACGACACAGCATC\n",
      "ACCAGGCTGGAGGAGCTAGAGGACGGCAAGTCTTATGTGTGCTCCCACAATAAGAAGGTGCTGCCAGTTGACCTGGACAA\n",
      "GGCCCGCAGGCGCCCTCGGCCCTGGCTGAGTAGTCGCTCCATAAGCACGCATGTGCAGCTCTGTCCTGCAACTGCCAATA\n",
      "TGTCCACCATGGCACCTGGCATGCTCCGTGCCCCAAGGAGGCTCGTGGTCTTCCGGAATGGTGACCCGAA\n",
      ">NM_0112835\n",
      "AATAAATCCAAAGACATTTGTTTACGTGAAACAAGCAGGTTGCATATCCAGTGACGTTTATACAGACCACACAAACTATT\n",
      "TACTCTTTTCTTCGTAAGGAAAGGTTCAACTTCTGGTCTCACCCAAAATGAGTGACACACCTTCTACTAGTTTCTCCATG\n",
      "ATTCATCTGACTTCTGAAGGTCAAGTTCCTTCCCCTCGCCATTCAAATATCACTCATCCTGTAGTGGCTAAACGCATCAG\n",
      "TTTCTATAAGAGTGGAGACCCACAGTTTGGCGGCGTTCGGGTGGTGGTCAACCCTCGTTCCTTTAAGACTTTTGACGCTC\n",
      "TGCTGGACAGTTTATCCAGGAAGGTACCCCTGCCCTTTGGGGTAAGGAACATCAGCACGCCCCGTGGACGACACAGCATC\n",
      "ACCAGGCTGGAGGAGCTAGAGGACGGCAAGTCTTATGTGTGCTCCCACAATAAGAAGGTGCTGCCAGTTGACCTGGACAA\n",
      "GGCCCGCAGGCGCCCTCGGCCCTGGCTGAGTAGTCGCTCCATAAGCACGCATGTGCAGCTCTGTCCTGCAACTGCCAATA\n",
      "TGTCCACCATGGCACCTGGCATGCTCCGTGCCCCAAGGAGGCTCGTGGTCTTCCGGAATGGTGACCCGAA\n"
     ]
    }
   ],
   "source": [
    "%run script/formatFasta-2"
   ]
  },
  {
   "cell_type": "code",
   "execution_count": 41,
   "metadata": {
    "collapsed": false
   },
   "outputs": [
    {
     "name": "stdout",
     "output_type": "stream",
     "text": [
      "Overwriting sortFasta.py\n"
     ]
    }
   ],
   "source": [
    "%%writefile script/sortFasta.py\n",
    "#作业6\n",
    "\n",
    "\n",
    "filename = \"data/test2.fa\"\n",
    "\n",
    "def readFasta(filename):\n",
    "    aDict = {}\n",
    "    for line in open(filename):\n",
    "        if line[0] == '>':\n",
    "            key = line.split()[0]\n",
    "            aDict[key] = [] #字典的值是一个列表, = 左边的字符串可以认为是右边列表的名字\n",
    "        else:\n",
    "            aDict[key].append(line.strip()) \n",
    "    return aDict\n",
    "#-----END readFasta-------------------\n",
    "def sortFasta(aDict):\n",
    "    keyL = aDict.keys()\n",
    "    keyL.sort()\n",
    "    \n",
    "    for key in keyL:\n",
    "        print \"%s\\n%s\" % (key, ''.join(aDict[key]))\n",
    "#--------END sortFasta--------------------\n",
    "aDict = readFasta(filename)\n",
    "sortFasta(aDict)"
   ]
  },
  {
   "cell_type": "code",
   "execution_count": 42,
   "metadata": {
    "collapsed": false
   },
   "outputs": [
    {
     "name": "stdout",
     "output_type": "stream",
     "text": [
      ">NM_001011874\n",
      "gcggcggcgggcgagcgggcgctggagtaggagctggggagcggcgcggccggggaaggaagccagggcgaggcgaggaggtggcgggaggaggagacagcagggacaggTGTCAGATAAAGGAGTGCTCTCCTCCGCTGCCGAGGCATCATGGCCGCTAAGTCAGACGGGAGGCTGAAGATGAAGAAGAGCAGCGACGTGGCGTTCACCCCGCTGCAGAACTCGGACAATTCGGGCTCTGTGCAAGGACTGGCTCCAGGCTTGCCGTCGGGGTCCGGAG\n",
      ">NM_001195662\n",
      "AAGCTCAGCCTTTGCTCAGATTCTCCTCTTGATGAAACAAAGGGATTTCTGCACATGCTTGAGAAATTGCAGGTCTCACCCAAAATGAGTGACACACCTTCTACTAGTTTCTCCATGATTCATCTGACTTCTGAAGGTCAAGTTCCTTCCCCTCGCCATTCAAATATCACTCATCCTGTAGTGGCTAAACGCATCAGTTTCTATAAGAGTGGAGACCCACAGTTTGGCGGCGTTCGGGTGGTGGTCAACCCTCGTTCCTTTAAGACTTTTGACGCTCTGCTGGACAGTTTATCCAGGAAGGTACCCCTGCCCTTTGGGGTAAGGAACATCAGCACGCCCCGTGGACGACACAGCATCACCAGGCTGGAGGAGCTAGAGGACGGCAAGTCTTATGTGTGCTCCCACAATAAGAAGGTGCTG\n",
      ">NM_011283\n",
      "AATAAATCCAAAGACATTTGTTTACGTGAAACAAGCAGGTTGCATATCCAGTGACGTTTATACAGACCACACAAACTATTTACTCTTTTCTTCGTAAGGAAAGGTTCAACTTCTGGTCTCACCCAAAATGAGTGACACACCTTCTACTAGTTTCTCCATGATTCATCTGACTTCTGAAGGTCAAGTTCCTTCCCCTCGCCATTCAAATATCACTCATCCTGTAGTGGCTAAACGCATCAGTTTCTATAAGAGTGGAGACCCACAGTTTGGCGGCGTTCGGGTGGTGGTCAACCCTCGTTCCTTTAAGACTTTTGACGCTCTGCTGGACAGTTTATCCAGGAAGGTACCCCTGCCCTTTGGGGTAAGGAACATCAGCACGCCCCGTGGACGACACAGCATCACCAGGCTGGAGGAGCTAGAGGACGGCAAGTCTTATGTGTGCTCCCACAATAAGAAGGTGCTGCCAGTTGACCTGGACAAGGCCCGCAGGCGCCCTCGGCCCTGGCTGAGTAGTCGCTCCATAAGCACGCATGTGCAGCTCTGTCCTGCAACTGCCAATATGTCCACCATGGCACCTGGCATGCTCCGTGCCCCAAGGAGGCTCGTGGTCTTCCGGAATGGTGACCCGAA\n",
      ">NM_0112835\n",
      "AATAAATCCAAAGACATTTGTTTACGTGAAACAAGCAGGTTGCATATCCAGTGACGTTTATACAGACCACACAAACTATTTACTCTTTTCTTCGTAAGGAAAGGTTCAACTTCTGGTCTCACCCAAAATGAGTGACACACCTTCTACTAGTTTCTCCATGATTCATCTGACTTCTGAAGGTCAAGTTCCTTCCCCTCGCCATTCAAATATCACTCATCCTGTAGTGGCTAAACGCATCAGTTTCTATAAGAGTGGAGACCCACAGTTTGGCGGCGTTCGGGTGGTGGTCAACCCTCGTTCCTTTAAGACTTTTGACGCTCTGCTGGACAGTTTATCCAGGAAGGTACCCCTGCCCTTTGGGGTAAGGAACATCAGCACGCCCCGTGGACGACACAGCATCACCAGGCTGGAGGAGCTAGAGGACGGCAAGTCTTATGTGTGCTCCCACAATAAGAAGGTGCTGCCAGTTGACCTGGACAAGGCCCGCAGGCGCCCTCGGCCCTGGCTGAGTAGTCGCTCCATAAGCACGCATGTGCAGCTCTGTCCTGCAACTGCCAATATGTCCACCATGGCACCTGGCATGCTCCGTGCCCCAAGGAGGCTCGTGGTCTTCCGGAATGGTGACCCGAA\n"
     ]
    }
   ],
   "source": [
    "%run script/sortFasta"
   ]
  },
  {
   "cell_type": "code",
   "execution_count": 43,
   "metadata": {
    "collapsed": false
   },
   "outputs": [
    {
     "name": "stdout",
     "output_type": "stream",
     "text": [
      "Overwriting grepFasta.py\n"
     ]
    }
   ],
   "source": [
    "%%writefile script/grepFasta.py\n",
    "#作业7.1\n",
    "\n",
    "\n",
    "seqFile = \"data/test2.fa\"\n",
    "nameFile = \"data/fasta.name\"\n",
    "\n",
    "def readFasta(filename):\n",
    "    aDict = {}\n",
    "    for line in open(filename):\n",
    "        if line[0] == '>':\n",
    "            key = line.split()[0][1:] #注意去掉开头的'>'，只取序列的名字\n",
    "            aDict[key] = []  #字典的值是一个列表\n",
    "        else:\n",
    "            aDict[key].append(line.strip())\n",
    "    return aDict\n",
    "#--------END readFasta--------------------\n",
    "aDict = readFasta(seqFile)\n",
    "for line in open(nameFile):\n",
    "    name = line.strip()\n",
    "    print \">%s\\n%s\" % (name, ''.join(aDict[name]))"
   ]
  },
  {
   "cell_type": "code",
   "execution_count": 44,
   "metadata": {
    "collapsed": false
   },
   "outputs": [
    {
     "name": "stdout",
     "output_type": "stream",
     "text": [
      ">NM_001011874\n",
      "gcggcggcgggcgagcgggcgctggagtaggagctggggagcggcgcggccggggaaggaagccagggcgaggcgaggaggtggcgggaggaggagacagcagggacaggTGTCAGATAAAGGAGTGCTCTCCTCCGCTGCCGAGGCATCATGGCCGCTAAGTCAGACGGGAGGCTGAAGATGAAGAAGAGCAGCGACGTGGCGTTCACCCCGCTGCAGAACTCGGACAATTCGGGCTCTGTGCAAGGACTGGCTCCAGGCTTGCCGTCGGGGTCCGGAG\n",
      ">NM_011283\n",
      "AATAAATCCAAAGACATTTGTTTACGTGAAACAAGCAGGTTGCATATCCAGTGACGTTTATACAGACCACACAAACTATTTACTCTTTTCTTCGTAAGGAAAGGTTCAACTTCTGGTCTCACCCAAAATGAGTGACACACCTTCTACTAGTTTCTCCATGATTCATCTGACTTCTGAAGGTCAAGTTCCTTCCCCTCGCCATTCAAATATCACTCATCCTGTAGTGGCTAAACGCATCAGTTTCTATAAGAGTGGAGACCCACAGTTTGGCGGCGTTCGGGTGGTGGTCAACCCTCGTTCCTTTAAGACTTTTGACGCTCTGCTGGACAGTTTATCCAGGAAGGTACCCCTGCCCTTTGGGGTAAGGAACATCAGCACGCCCCGTGGACGACACAGCATCACCAGGCTGGAGGAGCTAGAGGACGGCAAGTCTTATGTGTGCTCCCACAATAAGAAGGTGCTGCCAGTTGACCTGGACAAGGCCCGCAGGCGCCCTCGGCCCTGGCTGAGTAGTCGCTCCATAAGCACGCATGTGCAGCTCTGTCCTGCAACTGCCAATATGTCCACCATGGCACCTGGCATGCTCCGTGCCCCAAGGAGGCTCGTGGTCTTCCGGAATGGTGACCCGAA\n"
     ]
    }
   ],
   "source": [
    "%run script/grepFasta.py"
   ]
  },
  {
   "cell_type": "code",
   "execution_count": 45,
   "metadata": {
    "collapsed": true
   },
   "outputs": [
    {
     "name": "stdout",
     "output_type": "stream",
     "text": [
      "Overwriting grepFastq.py\n"
     ]
    }
   ],
   "source": [
    "%%writefile script/grepFastq.py\n",
    "#作业7.2\n",
    "seqFile = \"data/test1.fq\"\n",
    "nameFile = \"data/fastq.name\"\n",
    "\n",
    "def readFastq(seqFile):\n",
    "    aDict = {}\n",
    "    count = 0\n",
    "    for line in open(seqFile):\n",
    "        count += 1\n",
    "        if count % 4 == 1:\n",
    "            name = line.strip()[1:] #去掉开头的@\n",
    "            aDict[name] = [line] #存储名字行\n",
    "        else:\n",
    "            aDict[name].append(line)\n",
    "    #----END reading--------------\n",
    "    return aDict\n",
    "#-------END readFastq----------这行只是注释，可有可无------\n",
    "aDict = readFastq(seqFile)\n",
    "\n",
    "for line in open(nameFile):\n",
    "    name = line.strip()\n",
    "    print ''.join(aDict[name]),"
   ]
  },
  {
   "cell_type": "code",
   "execution_count": 46,
   "metadata": {
    "collapsed": false
   },
   "outputs": [
    {
     "name": "stdout",
     "output_type": "stream",
     "text": [
      "@HWI-ST1223:80:D1FMTACXX:2:1101:1243:2213 1:N:0:AGTCAA\n",
      "TCTGTGTAGCCNTGGCTGTCCTGGAACTCACTTTGTAGACCAGGCTGGCATGCACCACCACNNNCGGCTCATTTGTCTTTNNTTTTTGTTTTGTTCTGTA\n",
      "+\n",
      "BCCFFFFFFHH#4AFHIJJJJJJJJJJJJJJJJJIJIJJJJJGHIJJJJJJJJJJJJJIIJ###--5ABECFFDDEEEEE##,5=@B8?CDD<AD>C:@>\n",
      "@HWI-ST1223:80:D1FMTACXX:2:1101:1375:2060 1:N:0:AGTCAA\n",
      "NTGCTGAGCCACGACAAGGATCCCAGAGGGCCNAGCCCTGCATCTTGTATGGACCAGTTACNCATCAAAAGAGACTACTGTAGGCACCATCAATCAGATC\n",
      "+\n",
      "#1:DDDD;?CFFHDFEEIGIIIIIIG;DHFGG#)0?BFBDHBFF<FCFEFD;@DD@A=7?E#,,,;=(>3;=;;C>ACCC@CCCCCBBBCCAACCCCCCC\n",
      "@HWI-ST1223:80:D1FMTACXX:2:1101:1383:2091 1:N:0:AGTCAA\n",
      "NGTTCGTGTGGAACCTGGCGCTAAACCATTCGTAGACGACCTGCTTCTGGGTCGGGGTTTCGTACGTAGCAGAGCAGCTCCCTCGCTGCGATCTATTGAA\n",
      "+\n",
      "#1=DDFDFHHHHHJGJJJJJJJJJJJJJJJIJIGDHIHIGIJJJJJJJIIIGHHFDD3>BDDBDDDDDDDDDDBDCCBDDDDDDDDDDDBBDDDDEEACD\n",
      "@HWI-ST1223:80:D1FMTACXX:2:1101:1452:2138 1:N:0:AGTCAA\n",
      "NTCTAGGAGGTCTAGAAAGCCCAGGCCACCGGTACAAACATCAAGGGTGTTACGGATGTGCCGCTCTGAACCTCCAGGACGACTTTGATTTCAACTACAA\n",
      "+\n",
      "#4=DFFEFHHHHHJJJJJIJJJJHIIJGJJJJ@GIIJJJJJJIJJJJFGHIIIJJHHHDFFFFDDDDDDDDDDDDCDDDDDDDDDDDCCCEDEDDDDDDD\n"
     ]
    }
   ],
   "source": [
    "%run script/grepFastq"
   ]
  },
  {
   "cell_type": "code",
   "execution_count": 47,
   "metadata": {
    "collapsed": false
   },
   "outputs": [
    {
     "name": "stdout",
     "output_type": "stream",
     "text": [
      "Overwriting screenResult.py\n"
     ]
    }
   ],
   "source": [
    "%%writefile script/screenResult.py\n",
    "#作业8\n",
    "filename = \"data/test.expr\"\n",
    "\n",
    "def screenResult(filename, fc_value, adjP_value):\n",
    "    head = 1 #This is used to indicate there is one head line needing to skip\n",
    "    for line in open(filename):\n",
    "        if head:\n",
    "            head -= 1\n",
    "            continue\n",
    "        #-----Begin data lines------\n",
    "        lineL = line.split()\n",
    "    \n",
    "        foldChange = float(lineL[9])\n",
    "        adjP = float(lineL[12])\n",
    "        if foldChange > fc_value and adjP < adjP_value:\n",
    "            print lineL[0]\n",
    "#-------END screenResult-------------------\n",
    "screenResult(filename, 2, 0.05)"
   ]
  },
  {
   "cell_type": "code",
   "execution_count": 48,
   "metadata": {
    "collapsed": false
   },
   "outputs": [
    {
     "name": "stdout",
     "output_type": "stream",
     "text": [
      "Novel00011\n",
      "Novel00043\n",
      "Novel00047\n",
      "Novel00077\n",
      "Novel00079\n",
      "Novel00080\n",
      "Novel00084\n",
      "Novel00085\n",
      "Novel00086\n",
      "Novel00087\n",
      "Novel00090\n",
      "Novel00124\n",
      "Novel00148\n",
      "Novel00156\n",
      "Novel00162\n",
      "Novel00166\n"
     ]
    }
   ],
   "source": [
    "%run script/screenResult"
   ]
  },
  {
   "cell_type": "code",
   "execution_count": 49,
   "metadata": {
    "collapsed": false
   },
   "outputs": [
    {
     "name": "stdout",
     "output_type": "stream",
     "text": [
      "Overwriting transferMultipleColumToMatrix.py\n"
     ]
    }
   ],
   "source": [
    "%%writefile script/transferMultipleColumToMatrix.py\n",
    "#作业9\n",
    "filename = \"data/multipleColExpr.txt\"\n",
    "\n",
    "def readMultipleColFile(filename):\n",
    "    head = 1\n",
    "    tissueSet = set()\n",
    "    aDict = {}\n",
    "    for line in open(filename):\n",
    "        if head: #skip header line\n",
    "            head -= 1\n",
    "            continue\n",
    "        #-------------------------------\n",
    "        lineL = line.split()\n",
    "        gene = lineL[0]\n",
    "        tissue = lineL[1]\n",
    "        expr = lineL[2]\n",
    "        if gene not in aDict:\n",
    "            aDict[gene] = {}\n",
    "        assert tissue not in aDict[gene], \"Duplicate tissues\"\n",
    "        aDict[gene][tissue] = expr\n",
    "        tissueSet.add(tissue)\n",
    "    #---END reading----------------------------\n",
    "    tissueL = list(tissueSet)\n",
    "    tissueL.sort()\n",
    "    return tissueL, aDict\n",
    "#----END readMultipleColFile--------------------------\n",
    "\n",
    "tissueL, aDict = readMultipleColFile(filename)\n",
    "\n",
    "print \"Gene\\t%s\" % '\\t'.join(tissueL)\n",
    "\n",
    "for gene, tissueD in aDict.items():\n",
    "    exprL = [gene]\n",
    "    for tissue in tissueL:\n",
    "        exprL.append(tissueD[tissue])\n",
    "    print '\\t'.join(exprL)\n",
    "    "
   ]
  },
  {
   "cell_type": "code",
   "execution_count": 50,
   "metadata": {
    "collapsed": false
   },
   "outputs": [
    {
     "name": "stdout",
     "output_type": "stream",
     "text": [
      "Gene\tA-431\tA-549\tAN3-CA\tBEWO\tCACO-2\n",
      "ENSG00000000460\t25.2\t14.2\t10.6\t24.4\t14.2\n",
      "ENSG00000000938\t0.0\t0.0\t0.0\t0.0\t0.0\n",
      "ENSG00000000457\t2.8\t3.4\t3.8\t5.8\t2.9\n",
      "ENSG00000000419\t73.8\t38.6\t33.9\t53.7\t155.5\n",
      "ENSG00000000003\t21.3\t32.5\t38.2\t31.4\t63.9\n",
      "ENSG00000000005\t0.0\t0.0\t0.0\t0.0\t0.0\n"
     ]
    }
   ],
   "source": [
    "%run script/transferMultipleColumToMatrix"
   ]
  },
  {
   "cell_type": "code",
   "execution_count": 51,
   "metadata": {
    "collapsed": false
   },
   "outputs": [
    {
     "name": "stdout",
     "output_type": "stream",
     "text": [
      "Overwriting reverseComplementary.py\n"
     ]
    }
   ],
   "source": [
    "%%writefile script/reverseComplementary.py\n",
    "#作业10\n",
    "str1 = \"ACGTACGTACGTCACGTCAGCTAGAC\"\n",
    "\n",
    "def reverseComplementary(string):\n",
    "    ATCG_dict = {'A':'T','T':'A','C':'G','G':'C', 'a':'t','t':'a','c':'g','g':'c'}\n",
    "\n",
    "    tmpL = []\n",
    "    for i in string:\n",
    "        tmpL.append(ATCG_dict[i])\n",
    "    tmpL.reverse()\n",
    "    return ''.join(tmpL)\n",
    "#------END reverseComplementary-------\n",
    "print reverseComplementary(str1)\n",
    "print reverseComplementary('ACGT')"
   ]
  },
  {
   "cell_type": "code",
   "execution_count": 52,
   "metadata": {
    "collapsed": false
   },
   "outputs": [
    {
     "name": "stdout",
     "output_type": "stream",
     "text": [
      "GTCTAGCTGACGTGACGTACGTACGT\n",
      "ACGT\n"
     ]
    }
   ],
   "source": [
    "%run script/reverseComplementary"
   ]
  },
  {
   "cell_type": "code",
   "execution_count": 53,
   "metadata": {
    "collapsed": false
   },
   "outputs": [
    {
     "name": "stdout",
     "output_type": "stream",
     "text": [
      "Overwriting collapsemiRNAreads.py\n"
     ]
    }
   ],
   "source": [
    "%%writefile script/collapsemiRNAreads.py\n",
    "#作业11\n",
    "smRNA_file = \"data/mir.collapse\"\n",
    "def collapsemiRNAreads(smRNA_file, sample, head = 1):\n",
    "    lineno = 0\n",
    "    for line in open(smRNA_file):\n",
    "        if head:\n",
    "            head -= 1\n",
    "            continue\n",
    "        #----end skip header line---\n",
    "        seq, value = line.split()\n",
    "        lineno += 1\n",
    "        print \">%s_%d_x%s\\n%s\" % (sample, lineno, value, seq)\n",
    "#-------end collapsemiRNAreads------------\n",
    "collapsemiRNAreads(smRNA_file, \"ESB\")"
   ]
  },
  {
   "cell_type": "code",
   "execution_count": 54,
   "metadata": {
    "collapsed": false
   },
   "outputs": [
    {
     "name": "stdout",
     "output_type": "stream",
     "text": [
      ">ESB_1_x2\n",
      "ACTGCCCTAAGTGCTCCTTCTGGC\n",
      ">ESB_2_x2\n",
      "ATAAGGTGCATCTAGTGCAGATA\n",
      ">ESB_3_x1\n",
      "TGAGGTAGTAGTTTGTGCTGTTT\n",
      ">ESB_4_x1\n",
      "TCCTACGAGTTGCATGGATTC\n",
      ">ESB_5_x1\n",
      "ACCGGGTGGAGCCGCCGCA\n",
      ">ESB_6_x1\n",
      "ACTGCCCTAAGTGCTCCTTCTGGT\n",
      ">ESB_7_x1\n",
      "TACAGGGCTGGGGATGG\n",
      ">ESB_8_x1\n",
      "CCCTGGATGCTGTAGGATG\n",
      ">ESB_9_x1\n",
      "AAAATGCTACTACTTTTGAGTC\n",
      ">ESB_10_x1\n",
      "TCCCTGGTGGTCTAGTGGCTAGGAT\n",
      ">ESB_11_x4\n",
      "CTCTTAGATCGATGTGGTGCTC\n",
      ">ESB_12_x1\n",
      "TTGGTGGTTCAGTGGTA\n",
      ">ESB_13_x1\n",
      "TCACAATTCCCCTATACCATGGGCCAT\n",
      ">ESB_14_x1\n",
      "CAAATGCTAGGGTTGGTGG\n",
      ">ESB_15_x4\n",
      "AGGCAGCTTCCACAGCA\n",
      ">ESB_16_x3\n",
      "GCACTGAGATGGAGTGGTGTAA\n",
      ">ESB_17_x3\n",
      "CTCCATTTGTTTGATGATGGA\n",
      ">ESB_18_x1\n",
      "GCACTGAGATGGAGTGGTGTAT\n",
      ">ESB_19_x2\n",
      "AGTGCCCAGAGTTTGTAGTGT\n",
      ">ESB_20_x1\n",
      "ATAAGGTGCATCTAGTGCTGTTAGA\n",
      ">ESB_21_x9\n",
      "AAAATGCTTCCACTTTGTGTG\n",
      ">ESB_22_x2\n",
      "GGTAATTCTAGAGCTAATACATGCCG\n",
      ">ESB_23_x6\n",
      "CCGGGCGGAAACACCA\n",
      ">ESB_24_x1\n",
      "TGAAAGGCTGACCCGCCGGGC\n",
      ">ESB_25_x1\n",
      "TTCGTACAGTGGTCGTAAGTTCGTGC\n",
      ">ESB_26_x1\n",
      "GGTTAGCACTCTGGACTC\n"
     ]
    }
   ],
   "source": [
    "%run script/collapsemiRNAreads"
   ]
  },
  {
   "cell_type": "code",
   "execution_count": 55,
   "metadata": {
    "collapsed": false
   },
   "outputs": [
    {
     "name": "stdout",
     "output_type": "stream",
     "text": [
      "Overwriting map.py\n"
     ]
    }
   ],
   "source": [
    "%%writefile script/map.py\n",
    "#作业12\n",
    "ref = \"data/ref.fa\"\n",
    "short = \"data/short.fa\"\n",
    "\n",
    "def readRef(ref):\n",
    "    refD = {}\n",
    "    for line in open(ref):\n",
    "        if line[0] == '>':\n",
    "            name = line[1:-1]\n",
    "            assert name not in refD\n",
    "            refD[name] = []\n",
    "        else:\n",
    "            refD[name].append(line.strip())\n",
    "    #---------END reading----------------\n",
    "    for key, valueL in refD.items():\n",
    "        refD[key] = ''.join(valueL)\n",
    "    return refD\n",
    "#---------END readRef----------------\n",
    "def mapSeq(seq, refD):\n",
    "    len_seq = len(seq)\n",
    "    for key, value in refD.items():\n",
    "        pos = value.find(seq)\n",
    "        while pos != -1:\n",
    "            print \"%s\\t%d\\t%d\\t%s\" % (key, pos, pos+len_seq, seq)\n",
    "            current = pos + 1\n",
    "            newpos = value[current:].find(seq)\n",
    "            if newpos == -1:\n",
    "                break\n",
    "            pos = current + newpos\n",
    "#----------END mapSeq------------\n",
    "refD = readRef(ref)\n",
    "#------------------------------------\n",
    "for line in open(short):\n",
    "    if line[0] == '>':\n",
    "        pass\n",
    "    else:\n",
    "        seq = line.strip()\n",
    "        mapSeq(seq, refD)"
   ]
  },
  {
   "cell_type": "code",
   "execution_count": 102,
   "metadata": {
    "collapsed": false
   },
   "outputs": [
    {
     "name": "stderr",
     "output_type": "stream",
     "text": [
      "ERROR: File `u'script/map.py'` not found.\n"
     ]
    }
   ],
   "source": [
    "%run script/map"
   ]
  },
  {
   "cell_type": "markdown",
   "metadata": {},
   "source": [
    "## 作业（三）"
   ]
  },
  {
   "cell_type": "markdown",
   "metadata": {},
   "source": [
    "7. 使 “作业（二）” 中的程序都能接受命令行参数\n",
    "    * 用到的知识点\n",
    "        * import sys\n",
    "        * sys.argv\n",
    "        * import optparse\n",
    "        \n",
    "10. 备注\n",
    "    * 每个提到提到的“用到的知识点”为相对于前面的题目新增的知识点，请综合考虑。此外，对于不同的思路并不是所有提到的知识点都会用着，而且也可能会用到未提到的知识点。但是所有知识点都在前面的讲义部分有介绍。\n",
    "    * 每个程序对于你身边会写的人来说都很简单，因此你一定要克制住，独立去把答案做出，多看错误提示，多比对程序输出结果和预期结果的差异。\n",
    "    * 学习锻炼“读程序”，即对着文件模拟整个的读入、处理过程来发现可能的逻辑问题。\n",
    "    * 程序运行没有错误不代表你写的程序完成了你的需求，你要去插眼输出结果是不是你想要的。\n",
    "11. 关于程序调试\n",
    "    * 在初写程序时，可能会出现各种各样的错误，常见的有缩进不一致，变量名字拼写错误，丢失冒号，文件名未加引号等，这时要根据错误提示查看错误类型是什么，出错的是哪一行来定位错误。当然，有的时候报错的行自身不一定有错，可能是其前面或后面的行出现了错误。\n",
    "    * 当结果不符合预期时，要学会使用print来查看每步的操作是否正确，比如我读入了字典，我就打印下字典，看看读入的是不是我想要的，是否含有不该存在的字符；或者在每个判断句、函数调入的情况下打印个字符，来跟踪程序的运行轨迹。"
   ]
  },
  {
   "cell_type": "code",
   "execution_count": 66,
   "metadata": {
    "collapsed": false
   },
   "outputs": [
    {
     "name": "stdout",
     "output_type": "stream",
     "text": [
      "Overwriting script/cat.py\n"
     ]
    }
   ],
   "source": [
    "%%writefile script/cat.py\n",
    "#作业1和2, cat.py\n",
    "#包含了三中处理换行符的写法\n",
    "import sys\n",
    "    \n",
    "def cat(file):\n",
    "    for line in open(file):\n",
    "        print line,\n",
    "#------END of cat---------\n",
    "\n",
    "def main():\n",
    "    if len(sys.argv) < 2:  #\n",
    "        print >>sys.stderr, \"Usage: python %s filename\" % sys.argv[0] #一般提示信息输出到标准错误\n",
    "        sys.exit(0)\n",
    "\n",
    "    file = sys.argv[1]\n",
    "    cat(file)\n",
    "#-------END main---------------\n",
    "if __name__ == '__main__':\n",
    "    main()\n"
   ]
  },
  {
   "cell_type": "code",
   "execution_count": 67,
   "metadata": {
    "collapsed": false
   },
   "outputs": [
    {
     "name": "stdout",
     "output_type": "stream",
     "text": [
      ">NM_001011874 gene=Xkr4 CDS=151-2091\n",
      "gcggcggcgggcgagcgggcgctggagtaggagctggggagcggcgcggccggggaaggaagccagggcg\n",
      ">NM_001195662 gene=Rp1 CDS=55-909\n",
      "AGGTCTCACCCAAAATGAGTGACACACCTTCTACTAGTTTCTCCATGATTCATCTGACTTCTGAAGGTCA\n",
      ">NM_011283 gene=Rp1 CDS=128-6412\n",
      "AATAAATCCAAAGACATTTGTTTACGTGAAACAAGCAGGTTGCATATCCAGTGACGTTTATACAGACCAC\n",
      ">NM_0112835 gene=Rp15 CDS=128-6412\n",
      "AATAAATCCAAAGACATTTGTTTACGTGAAACAAGCAGGTTGCATATCCAGTGACGTTTATACAGACCAC\n"
     ]
    }
   ],
   "source": [
    "%run script/cat data/test1.fa"
   ]
  },
  {
   "cell_type": "code",
   "execution_count": 68,
   "metadata": {
    "collapsed": false
   },
   "outputs": [
    {
     "name": "stdout",
     "output_type": "stream",
     "text": [
      "Overwriting script/splitName.py\n"
     ]
    }
   ],
   "source": [
    "%%writefile script/splitName.py\n",
    "#作业3\n",
    "import sys\n",
    "\n",
    "def splitName(filename):\n",
    "    for line in open(filename):\n",
    "        if line[0] == '>':\n",
    "            lineL = line.split(' ')\n",
    "            print lineL[0]\n",
    "        else:\n",
    "            print line,\n",
    "#------END splitName---------------\n",
    "\n",
    "def main():\n",
    "    if len(sys.argv) < 2:  #\n",
    "        print >>sys.stderr, \"Usage: python %s filename\" % sys.argv[0] #一般提示信息输出到标准错误\n",
    "        sys.exit(0)\n",
    "\n",
    "    filename = sys.argv[1]\n",
    "    splitName(filename)\n",
    "#-------END main------------------\n",
    "\n",
    "if __name__ == '__main__':\n",
    "    main()"
   ]
  },
  {
   "cell_type": "code",
   "execution_count": 69,
   "metadata": {
    "collapsed": false
   },
   "outputs": [
    {
     "name": "stdout",
     "output_type": "stream",
     "text": [
      ">NM_001011874\n",
      "gcggcggcgggcgagcgggcgctggagtaggagctggggagcggcgcggccggggaaggaagccagggcg\n",
      "aggcgaggaggtggcgggaggaggagacagcagggacaggTGTCAGATAAAGGAGTGCTCTCCTCCGCTG\n",
      "CCGAGGCATCATGGCCGCTAAGTCAGACGGGAGGCTGAAGATGAAGAAGAGCAGCGACGTGGCGTTCACC\n",
      "CCGCTGCAGAACTCGGACAATTCGGGCTCTGTGCAAGGACTGGCTCCAGGCTTGCCGTCGGGGTCCGGAG\n",
      ">NM_001195662\n",
      "AAGCTCAGCCTTTGCTCAGATTCTCCTCTTGATGAAACAAAGGGATTTCTGCACATGCTTGAGAAATTGC\n",
      "AGGTCTCACCCAAAATGAGTGACACACCTTCTACTAGTTTCTCCATGATTCATCTGACTTCTGAAGGTCA\n",
      "AGTTCCTTCCCCTCGCCATTCAAATATCACTCATCCTGTAGTGGCTAAACGCATCAGTTTCTATAAGAGT\n",
      "GGAGACCCACAGTTTGGCGGCGTTCGGGTGGTGGTCAACCCTCGTTCCTTTAAGACTTTTGACGCTCTGC\n",
      "TGGACAGTTTATCCAGGAAGGTACCCCTGCCCTTTGGGGTAAGGAACATCAGCACGCCCCGTGGACGACA\n",
      "CAGCATCACCAGGCTGGAGGAGCTAGAGGACGGCAAGTCTTATGTGTGCTCCCACAATAAGAAGGTGCTG\n",
      ">NM_011283\n",
      "AATAAATCCAAAGACATTTGTTTACGTGAAACAAGCAGGTTGCATATCCAGTGACGTTTATACAGACCAC\n",
      "ACAAACTATTTACTCTTTTCTTCGTAAGGAAAGGTTCAACTTCTGGTCTCACCCAAAATGAGTGACACAC\n",
      "CTTCTACTAGTTTCTCCATGATTCATCTGACTTCTGAAGGTCAAGTTCCTTCCCCTCGCCATTCAAATAT\n",
      "CACTCATCCTGTAGTGGCTAAACGCATCAGTTTCTATAAGAGTGGAGACCCACAGTTTGGCGGCGTTCGG\n",
      "GTGGTGGTCAACCCTCGTTCCTTTAAGACTTTTGACGCTCTGCTGGACAGTTTATCCAGGAAGGTACCCC\n",
      "TGCCCTTTGGGGTAAGGAACATCAGCACGCCCCGTGGACGACACAGCATCACCAGGCTGGAGGAGCTAGA\n",
      "GGACGGCAAGTCTTATGTGTGCTCCCACAATAAGAAGGTGCTGCCAGTTGACCTGGACAAGGCCCGCAGG\n",
      "CGCCCTCGGCCCTGGCTGAGTAGTCGCTCCATAAGCACGCATGTGCAGCTCTGTCCTGCAACTGCCAATA\n",
      "TGTCCACCATGGCACCTGGCATGCTCCGTGCCCCAAGGAGGCTCGTGGTCTTCCGGAATGGTGACCCGAA\n",
      ">NM_0112835\n",
      "AATAAATCCAAAGACATTTGTTTACGTGAAACAAGCAGGTTGCATATCCAGTGACGTTTATACAGACCAC\n",
      "ACAAACTATTTACTCTTTTCTTCGTAAGGAAAGGTTCAACTTCTGGTCTCACCCAAAATGAGTGACACAC\n",
      "CTTCTACTAGTTTCTCCATGATTCATCTGACTTCTGAAGGTCAAGTTCCTTCCCCTCGCCATTCAAATAT\n",
      "CACTCATCCTGTAGTGGCTAAACGCATCAGTTTCTATAAGAGTGGAGACCCACAGTTTGGCGGCGTTCGG\n",
      "GTGGTGGTCAACCCTCGTTCCTTTAAGACTTTTGACGCTCTGCTGGACAGTTTATCCAGGAAGGTACCCC\n",
      "TGCCCTTTGGGGTAAGGAACATCAGCACGCCCCGTGGACGACACAGCATCACCAGGCTGGAGGAGCTAGA\n",
      "GGACGGCAAGTCTTATGTGTGCTCCCACAATAAGAAGGTGCTGCCAGTTGACCTGGACAAGGCCCGCAGG\n",
      "CGCCCTCGGCCCTGGCTGAGTAGTCGCTCCATAAGCACGCATGTGCAGCTCTGTCCTGCAACTGCCAATA\n",
      "TGTCCACCATGGCACCTGGCATGCTCCGTGCCCCAAGGAGGCTCGTGGTCTTCCGGAATGGTGACCCGAA\n"
     ]
    }
   ],
   "source": [
    "%run script/splitName data/test2.fa"
   ]
  },
  {
   "cell_type": "code",
   "execution_count": 70,
   "metadata": {
    "collapsed": false
   },
   "outputs": [
    {
     "name": "stdout",
     "output_type": "stream",
     "text": [
      "Overwriting script/formatFasta.py\n"
     ]
    }
   ],
   "source": [
    "%%writefile script/formatFasta.py\n",
    "#作业4\n",
    "\n",
    "import sys\n",
    "\n",
    "def formatFasta(filename):\n",
    "    aList = []\n",
    "    for line in open(filename):\n",
    "        if line[0] == '>':\n",
    "            lineL = line.split(' ')\n",
    "            if aList:\n",
    "                print ''.join(aList)\n",
    "                aList = []\n",
    "            name = lineL[0]\n",
    "            print name\n",
    "        else:\n",
    "            aList.append(line.strip())\n",
    "#不要忘了最后一个序列\n",
    "    print ''.join(aList)\n",
    "#-----End formatFasta----------------\n",
    "def main():\n",
    "    if len(sys.argv) < 2:  #\n",
    "        print >>sys.stderr, \"Usage: python %s filename\" % sys.argv[0] #一般提示信息输出到标准错误\n",
    "        sys.exit(0)\n",
    "\n",
    "    filename = sys.argv[1]\n",
    "    formatFasta(filename)\n",
    "#-------END main------------------\n",
    "\n",
    "if __name__ == '__main__':\n",
    "    main()"
   ]
  },
  {
   "cell_type": "code",
   "execution_count": 71,
   "metadata": {
    "collapsed": false
   },
   "outputs": [
    {
     "name": "stdout",
     "output_type": "stream",
     "text": [
      ">NM_001011874\n",
      "gcggcggcgggcgagcgggcgctggagtaggagctggggagcggcgcggccggggaaggaagccagggcgaggcgaggaggtggcgggaggaggagacagcagggacaggTGTCAGATAAAGGAGTGCTCTCCTCCGCTGCCGAGGCATCATGGCCGCTAAGTCAGACGGGAGGCTGAAGATGAAGAAGAGCAGCGACGTGGCGTTCACCCCGCTGCAGAACTCGGACAATTCGGGCTCTGTGCAAGGACTGGCTCCAGGCTTGCCGTCGGGGTCCGGAG\n",
      ">NM_001195662\n",
      "AAGCTCAGCCTTTGCTCAGATTCTCCTCTTGATGAAACAAAGGGATTTCTGCACATGCTTGAGAAATTGCAGGTCTCACCCAAAATGAGTGACACACCTTCTACTAGTTTCTCCATGATTCATCTGACTTCTGAAGGTCAAGTTCCTTCCCCTCGCCATTCAAATATCACTCATCCTGTAGTGGCTAAACGCATCAGTTTCTATAAGAGTGGAGACCCACAGTTTGGCGGCGTTCGGGTGGTGGTCAACCCTCGTTCCTTTAAGACTTTTGACGCTCTGCTGGACAGTTTATCCAGGAAGGTACCCCTGCCCTTTGGGGTAAGGAACATCAGCACGCCCCGTGGACGACACAGCATCACCAGGCTGGAGGAGCTAGAGGACGGCAAGTCTTATGTGTGCTCCCACAATAAGAAGGTGCTG\n",
      ">NM_011283\n",
      "AATAAATCCAAAGACATTTGTTTACGTGAAACAAGCAGGTTGCATATCCAGTGACGTTTATACAGACCACACAAACTATTTACTCTTTTCTTCGTAAGGAAAGGTTCAACTTCTGGTCTCACCCAAAATGAGTGACACACCTTCTACTAGTTTCTCCATGATTCATCTGACTTCTGAAGGTCAAGTTCCTTCCCCTCGCCATTCAAATATCACTCATCCTGTAGTGGCTAAACGCATCAGTTTCTATAAGAGTGGAGACCCACAGTTTGGCGGCGTTCGGGTGGTGGTCAACCCTCGTTCCTTTAAGACTTTTGACGCTCTGCTGGACAGTTTATCCAGGAAGGTACCCCTGCCCTTTGGGGTAAGGAACATCAGCACGCCCCGTGGACGACACAGCATCACCAGGCTGGAGGAGCTAGAGGACGGCAAGTCTTATGTGTGCTCCCACAATAAGAAGGTGCTGCCAGTTGACCTGGACAAGGCCCGCAGGCGCCCTCGGCCCTGGCTGAGTAGTCGCTCCATAAGCACGCATGTGCAGCTCTGTCCTGCAACTGCCAATATGTCCACCATGGCACCTGGCATGCTCCGTGCCCCAAGGAGGCTCGTGGTCTTCCGGAATGGTGACCCGAA\n",
      ">NM_0112835\n",
      "AATAAATCCAAAGACATTTGTTTACGTGAAACAAGCAGGTTGCATATCCAGTGACGTTTATACAGACCACACAAACTATTTACTCTTTTCTTCGTAAGGAAAGGTTCAACTTCTGGTCTCACCCAAAATGAGTGACACACCTTCTACTAGTTTCTCCATGATTCATCTGACTTCTGAAGGTCAAGTTCCTTCCCCTCGCCATTCAAATATCACTCATCCTGTAGTGGCTAAACGCATCAGTTTCTATAAGAGTGGAGACCCACAGTTTGGCGGCGTTCGGGTGGTGGTCAACCCTCGTTCCTTTAAGACTTTTGACGCTCTGCTGGACAGTTTATCCAGGAAGGTACCCCTGCCCTTTGGGGTAAGGAACATCAGCACGCCCCGTGGACGACACAGCATCACCAGGCTGGAGGAGCTAGAGGACGGCAAGTCTTATGTGTGCTCCCACAATAAGAAGGTGCTGCCAGTTGACCTGGACAAGGCCCGCAGGCGCCCTCGGCCCTGGCTGAGTAGTCGCTCCATAAGCACGCATGTGCAGCTCTGTCCTGCAACTGCCAATATGTCCACCATGGCACCTGGCATGCTCCGTGCCCCAAGGAGGCTCGTGGTCTTCCGGAATGGTGACCCGAA\n"
     ]
    }
   ],
   "source": [
    "%run script/formatFasta data/test2.fa"
   ]
  },
  {
   "cell_type": "code",
   "execution_count": 72,
   "metadata": {
    "collapsed": false
   },
   "outputs": [
    {
     "name": "stdout",
     "output_type": "stream",
     "text": [
      "Overwriting script/formatFasta-2.py\n"
     ]
    }
   ],
   "source": [
    "%%writefile script/formatFasta-2.py\n",
    "#作业5 \n",
    "\n",
    "import sys\n",
    "\n",
    "def formatSeq(aList, length):\n",
    "    seq = ''.join(aList)\n",
    "    len_seq = len(seq)\n",
    "    for i in range(0,len_seq,length):\n",
    "        print seq[i:i+length] \n",
    "#----END formatSeq-------------------\n",
    "\n",
    "def formatFasta(filename,length):\n",
    "    aList = []\n",
    "    for line in open(filename):\n",
    "        if line[0] == '>':\n",
    "            lineL = line.split(' ')\n",
    "            if aList:\n",
    "                formatSeq(aList, length)\n",
    "                aList = []\n",
    "            name = lineL[0]\n",
    "            print name\n",
    "        else:\n",
    "            aList.append(line.strip())\n",
    "    #不要忘了最后一个序列\n",
    "    formatSeq(aList, length)\n",
    "#------------END of formatFasta------------\n",
    "def main():\n",
    "    if len(sys.argv) < 3:  #注意这儿参数改变了\n",
    "        print >>sys.stderr, \"Usage: python %s filename length_of_seq_in_each_line\" % sys.argv[0] #一般提示信息输出到标准错误\n",
    "        sys.exit(0)\n",
    "\n",
    "    filename = sys.argv[1]\n",
    "    length = int(sys.argv[2])\n",
    "    formatFasta(filename, length)\n",
    "#-------END main------------------\n",
    "\n",
    "if __name__ == '__main__':\n",
    "    main()\n"
   ]
  },
  {
   "cell_type": "code",
   "execution_count": 73,
   "metadata": {
    "collapsed": false
   },
   "outputs": [
    {
     "name": "stdout",
     "output_type": "stream",
     "text": [
      ">NM_001011874\n",
      "gcggcggcgggcgagcgggcgctggagtaggagctggggagcggcgcggccggggaaggaagccagggcgaggcgaggag\n",
      "gtggcgggaggaggagacagcagggacaggTGTCAGATAAAGGAGTGCTCTCCTCCGCTGCCGAGGCATCATGGCCGCTA\n",
      "AGTCAGACGGGAGGCTGAAGATGAAGAAGAGCAGCGACGTGGCGTTCACCCCGCTGCAGAACTCGGACAATTCGGGCTCT\n",
      "GTGCAAGGACTGGCTCCAGGCTTGCCGTCGGGGTCCGGAG\n",
      ">NM_001195662\n",
      "AAGCTCAGCCTTTGCTCAGATTCTCCTCTTGATGAAACAAAGGGATTTCTGCACATGCTTGAGAAATTGCAGGTCTCACC\n",
      "CAAAATGAGTGACACACCTTCTACTAGTTTCTCCATGATTCATCTGACTTCTGAAGGTCAAGTTCCTTCCCCTCGCCATT\n",
      "CAAATATCACTCATCCTGTAGTGGCTAAACGCATCAGTTTCTATAAGAGTGGAGACCCACAGTTTGGCGGCGTTCGGGTG\n",
      "GTGGTCAACCCTCGTTCCTTTAAGACTTTTGACGCTCTGCTGGACAGTTTATCCAGGAAGGTACCCCTGCCCTTTGGGGT\n",
      "AAGGAACATCAGCACGCCCCGTGGACGACACAGCATCACCAGGCTGGAGGAGCTAGAGGACGGCAAGTCTTATGTGTGCT\n",
      "CCCACAATAAGAAGGTGCTG\n",
      ">NM_011283\n",
      "AATAAATCCAAAGACATTTGTTTACGTGAAACAAGCAGGTTGCATATCCAGTGACGTTTATACAGACCACACAAACTATT\n",
      "TACTCTTTTCTTCGTAAGGAAAGGTTCAACTTCTGGTCTCACCCAAAATGAGTGACACACCTTCTACTAGTTTCTCCATG\n",
      "ATTCATCTGACTTCTGAAGGTCAAGTTCCTTCCCCTCGCCATTCAAATATCACTCATCCTGTAGTGGCTAAACGCATCAG\n",
      "TTTCTATAAGAGTGGAGACCCACAGTTTGGCGGCGTTCGGGTGGTGGTCAACCCTCGTTCCTTTAAGACTTTTGACGCTC\n",
      "TGCTGGACAGTTTATCCAGGAAGGTACCCCTGCCCTTTGGGGTAAGGAACATCAGCACGCCCCGTGGACGACACAGCATC\n",
      "ACCAGGCTGGAGGAGCTAGAGGACGGCAAGTCTTATGTGTGCTCCCACAATAAGAAGGTGCTGCCAGTTGACCTGGACAA\n",
      "GGCCCGCAGGCGCCCTCGGCCCTGGCTGAGTAGTCGCTCCATAAGCACGCATGTGCAGCTCTGTCCTGCAACTGCCAATA\n",
      "TGTCCACCATGGCACCTGGCATGCTCCGTGCCCCAAGGAGGCTCGTGGTCTTCCGGAATGGTGACCCGAA\n",
      ">NM_0112835\n",
      "AATAAATCCAAAGACATTTGTTTACGTGAAACAAGCAGGTTGCATATCCAGTGACGTTTATACAGACCACACAAACTATT\n",
      "TACTCTTTTCTTCGTAAGGAAAGGTTCAACTTCTGGTCTCACCCAAAATGAGTGACACACCTTCTACTAGTTTCTCCATG\n",
      "ATTCATCTGACTTCTGAAGGTCAAGTTCCTTCCCCTCGCCATTCAAATATCACTCATCCTGTAGTGGCTAAACGCATCAG\n",
      "TTTCTATAAGAGTGGAGACCCACAGTTTGGCGGCGTTCGGGTGGTGGTCAACCCTCGTTCCTTTAAGACTTTTGACGCTC\n",
      "TGCTGGACAGTTTATCCAGGAAGGTACCCCTGCCCTTTGGGGTAAGGAACATCAGCACGCCCCGTGGACGACACAGCATC\n",
      "ACCAGGCTGGAGGAGCTAGAGGACGGCAAGTCTTATGTGTGCTCCCACAATAAGAAGGTGCTGCCAGTTGACCTGGACAA\n",
      "GGCCCGCAGGCGCCCTCGGCCCTGGCTGAGTAGTCGCTCCATAAGCACGCATGTGCAGCTCTGTCCTGCAACTGCCAATA\n",
      "TGTCCACCATGGCACCTGGCATGCTCCGTGCCCCAAGGAGGCTCGTGGTCTTCCGGAATGGTGACCCGAA\n"
     ]
    }
   ],
   "source": [
    "%run script/formatFasta-2 data/test2.fa 80"
   ]
  },
  {
   "cell_type": "code",
   "execution_count": 74,
   "metadata": {
    "collapsed": false
   },
   "outputs": [
    {
     "name": "stdout",
     "output_type": "stream",
     "text": [
      "Overwriting sortFasta.py\n"
     ]
    }
   ],
   "source": [
    "%%writefile script/sortFasta.py\n",
    "#作业6\n",
    "\n",
    "import sys\n",
    "\n",
    "def readFasta(filename):\n",
    "    aDict = {}\n",
    "    for line in open(filename):\n",
    "        if line[0] == '>':\n",
    "            key = line.split()[0]\n",
    "            aDict[key] = [] #字典的值是一个列表, = 左边的字符串可以认为是右边列表的名字\n",
    "        else:\n",
    "            aDict[key].append(line.strip()) \n",
    "    return aDict\n",
    "#-----END readFasta-------------------\n",
    "def sortFasta(aDict):\n",
    "    keyL = aDict.keys()\n",
    "    keyL.sort()\n",
    "    \n",
    "    for key in keyL:\n",
    "        print \"%s\\n%s\" % (key, ''.join(aDict[key]))\n",
    "#--------END sortFasta--------------------\n",
    "\n",
    "def main():\n",
    "    if len(sys.argv) < 2:  #注意这儿参数改变了\n",
    "        print >>sys.stderr, \"Usage: python %s filename\" % sys.argv[0] #一般提示信息输出到标准错误\n",
    "        sys.exit(0)\n",
    "\n",
    "    filename = sys.argv[1]\n",
    "    aDict = readFasta(filename)\n",
    "    sortFasta(aDict)\n",
    "    \n",
    "#-------END main------------------\n",
    "\n",
    "if __name__ == '__main__':\n",
    "    main()"
   ]
  },
  {
   "cell_type": "code",
   "execution_count": 75,
   "metadata": {
    "collapsed": false
   },
   "outputs": [
    {
     "name": "stdout",
     "output_type": "stream",
     "text": [
      ">NM_001011874\n",
      "gcggcggcgggcgagcgggcgctggagtaggagctggggagcggcgcggccggggaaggaagccagggcgaggcgaggaggtggcgggaggaggagacagcagggacaggTGTCAGATAAAGGAGTGCTCTCCTCCGCTGCCGAGGCATCATGGCCGCTAAGTCAGACGGGAGGCTGAAGATGAAGAAGAGCAGCGACGTGGCGTTCACCCCGCTGCAGAACTCGGACAATTCGGGCTCTGTGCAAGGACTGGCTCCAGGCTTGCCGTCGGGGTCCGGAG\n",
      ">NM_001195662\n",
      "AAGCTCAGCCTTTGCTCAGATTCTCCTCTTGATGAAACAAAGGGATTTCTGCACATGCTTGAGAAATTGCAGGTCTCACCCAAAATGAGTGACACACCTTCTACTAGTTTCTCCATGATTCATCTGACTTCTGAAGGTCAAGTTCCTTCCCCTCGCCATTCAAATATCACTCATCCTGTAGTGGCTAAACGCATCAGTTTCTATAAGAGTGGAGACCCACAGTTTGGCGGCGTTCGGGTGGTGGTCAACCCTCGTTCCTTTAAGACTTTTGACGCTCTGCTGGACAGTTTATCCAGGAAGGTACCCCTGCCCTTTGGGGTAAGGAACATCAGCACGCCCCGTGGACGACACAGCATCACCAGGCTGGAGGAGCTAGAGGACGGCAAGTCTTATGTGTGCTCCCACAATAAGAAGGTGCTG\n",
      ">NM_011283\n",
      "AATAAATCCAAAGACATTTGTTTACGTGAAACAAGCAGGTTGCATATCCAGTGACGTTTATACAGACCACACAAACTATTTACTCTTTTCTTCGTAAGGAAAGGTTCAACTTCTGGTCTCACCCAAAATGAGTGACACACCTTCTACTAGTTTCTCCATGATTCATCTGACTTCTGAAGGTCAAGTTCCTTCCCCTCGCCATTCAAATATCACTCATCCTGTAGTGGCTAAACGCATCAGTTTCTATAAGAGTGGAGACCCACAGTTTGGCGGCGTTCGGGTGGTGGTCAACCCTCGTTCCTTTAAGACTTTTGACGCTCTGCTGGACAGTTTATCCAGGAAGGTACCCCTGCCCTTTGGGGTAAGGAACATCAGCACGCCCCGTGGACGACACAGCATCACCAGGCTGGAGGAGCTAGAGGACGGCAAGTCTTATGTGTGCTCCCACAATAAGAAGGTGCTGCCAGTTGACCTGGACAAGGCCCGCAGGCGCCCTCGGCCCTGGCTGAGTAGTCGCTCCATAAGCACGCATGTGCAGCTCTGTCCTGCAACTGCCAATATGTCCACCATGGCACCTGGCATGCTCCGTGCCCCAAGGAGGCTCGTGGTCTTCCGGAATGGTGACCCGAA\n",
      ">NM_0112835\n",
      "AATAAATCCAAAGACATTTGTTTACGTGAAACAAGCAGGTTGCATATCCAGTGACGTTTATACAGACCACACAAACTATTTACTCTTTTCTTCGTAAGGAAAGGTTCAACTTCTGGTCTCACCCAAAATGAGTGACACACCTTCTACTAGTTTCTCCATGATTCATCTGACTTCTGAAGGTCAAGTTCCTTCCCCTCGCCATTCAAATATCACTCATCCTGTAGTGGCTAAACGCATCAGTTTCTATAAGAGTGGAGACCCACAGTTTGGCGGCGTTCGGGTGGTGGTCAACCCTCGTTCCTTTAAGACTTTTGACGCTCTGCTGGACAGTTTATCCAGGAAGGTACCCCTGCCCTTTGGGGTAAGGAACATCAGCACGCCCCGTGGACGACACAGCATCACCAGGCTGGAGGAGCTAGAGGACGGCAAGTCTTATGTGTGCTCCCACAATAAGAAGGTGCTGCCAGTTGACCTGGACAAGGCCCGCAGGCGCCCTCGGCCCTGGCTGAGTAGTCGCTCCATAAGCACGCATGTGCAGCTCTGTCCTGCAACTGCCAATATGTCCACCATGGCACCTGGCATGCTCCGTGCCCCAAGGAGGCTCGTGGTCTTCCGGAATGGTGACCCGAA\n"
     ]
    }
   ],
   "source": [
    "%run script/sortFasta data/test2.fa"
   ]
  },
  {
   "cell_type": "code",
   "execution_count": 76,
   "metadata": {
    "collapsed": false
   },
   "outputs": [
    {
     "name": "stdout",
     "output_type": "stream",
     "text": [
      "Overwriting grepFasta.py\n"
     ]
    }
   ],
   "source": [
    "%%writefile script/grepFasta.py\n",
    "#作业7.1\n",
    "\n",
    "import sys\n",
    "\n",
    "def readFasta(filename):\n",
    "    aDict = {}\n",
    "    for line in open(filename):\n",
    "        if line[0] == '>':\n",
    "            key = line.split()[0][1:] #注意去掉开头的'>'，只取序列的名字\n",
    "            aDict[key] = []  #字典的值是一个列表\n",
    "        else:\n",
    "            aDict[key].append(line.strip())\n",
    "    return aDict\n",
    "#--------END readFasta--------------------\n",
    "def main():\n",
    "    if len(sys.argv) < 3:  #注意这儿参数改变了\n",
    "        print >>sys.stderr, \"Usage: python %s seqFile nameFile\" % sys.argv[0] #一般提示信息输出到标准错误\n",
    "        sys.exit(0)\n",
    "\n",
    "    seqFile = sys.argv[1]\n",
    "    nameFile = sys.argv[2]\n",
    "    aDict = readFasta(seqFile)\n",
    "    for line in open(nameFile):\n",
    "        name = line.strip()\n",
    "        print \">%s\\n%s\" % (name, ''.join(aDict[name]))\n",
    "#-------END main------------------\n",
    "\n",
    "if __name__ == '__main__':\n",
    "    main()"
   ]
  },
  {
   "cell_type": "code",
   "execution_count": 77,
   "metadata": {
    "collapsed": false
   },
   "outputs": [
    {
     "name": "stdout",
     "output_type": "stream",
     "text": [
      ">NM_001011874\n",
      "gcggcggcgggcgagcgggcgctggagtaggagctggggagcggcgcggccggggaaggaagccagggcgaggcgaggaggtggcgggaggaggagacagcagggacaggTGTCAGATAAAGGAGTGCTCTCCTCCGCTGCCGAGGCATCATGGCCGCTAAGTCAGACGGGAGGCTGAAGATGAAGAAGAGCAGCGACGTGGCGTTCACCCCGCTGCAGAACTCGGACAATTCGGGCTCTGTGCAAGGACTGGCTCCAGGCTTGCCGTCGGGGTCCGGAG\n",
      ">NM_011283\n",
      "AATAAATCCAAAGACATTTGTTTACGTGAAACAAGCAGGTTGCATATCCAGTGACGTTTATACAGACCACACAAACTATTTACTCTTTTCTTCGTAAGGAAAGGTTCAACTTCTGGTCTCACCCAAAATGAGTGACACACCTTCTACTAGTTTCTCCATGATTCATCTGACTTCTGAAGGTCAAGTTCCTTCCCCTCGCCATTCAAATATCACTCATCCTGTAGTGGCTAAACGCATCAGTTTCTATAAGAGTGGAGACCCACAGTTTGGCGGCGTTCGGGTGGTGGTCAACCCTCGTTCCTTTAAGACTTTTGACGCTCTGCTGGACAGTTTATCCAGGAAGGTACCCCTGCCCTTTGGGGTAAGGAACATCAGCACGCCCCGTGGACGACACAGCATCACCAGGCTGGAGGAGCTAGAGGACGGCAAGTCTTATGTGTGCTCCCACAATAAGAAGGTGCTGCCAGTTGACCTGGACAAGGCCCGCAGGCGCCCTCGGCCCTGGCTGAGTAGTCGCTCCATAAGCACGCATGTGCAGCTCTGTCCTGCAACTGCCAATATGTCCACCATGGCACCTGGCATGCTCCGTGCCCCAAGGAGGCTCGTGGTCTTCCGGAATGGTGACCCGAA\n"
     ]
    }
   ],
   "source": [
    "%run script/grepFasta.py data/test2.fa data/fasta.name"
   ]
  },
  {
   "cell_type": "code",
   "execution_count": 78,
   "metadata": {
    "collapsed": true
   },
   "outputs": [
    {
     "name": "stdout",
     "output_type": "stream",
     "text": [
      "Overwriting grepFastq.py\n"
     ]
    }
   ],
   "source": [
    "%%writefile script/grepFastq.py\n",
    "#作业7.2\n",
    "import sys\n",
    "\n",
    "def readFastq(seqFile):\n",
    "    aDict = {}\n",
    "    count = 0\n",
    "    for line in open(seqFile):\n",
    "        count += 1\n",
    "        if count % 4 == 1:\n",
    "            name = line.strip()[1:] #去掉开头的@\n",
    "            aDict[name] = [line] #存储名字行\n",
    "        else:\n",
    "            aDict[name].append(line)\n",
    "    #----END reading--------------\n",
    "    return aDict\n",
    "#-------END readFastq----------这行只是注释，可有可无------\n",
    "\n",
    "def main():\n",
    "    if len(sys.argv) < 3:  #注意这儿参数改变了\n",
    "        print >>sys.stderr, \"Usage: python %s seqFile nameFile\" % sys.argv[0] #一般提示信息输出到标准错误\n",
    "        sys.exit(0)\n",
    "\n",
    "    seqFile = sys.argv[1]\n",
    "    nameFile = sys.argv[2]\n",
    "    aDict = readFastq(seqFile)\n",
    "    for line in open(nameFile):\n",
    "        name = line.strip()\n",
    "        print ''.join(aDict[name]),\n",
    "#-------END main------------------\n",
    "\n",
    "if __name__ == '__main__':\n",
    "    main()"
   ]
  },
  {
   "cell_type": "code",
   "execution_count": 79,
   "metadata": {
    "collapsed": false
   },
   "outputs": [
    {
     "name": "stdout",
     "output_type": "stream",
     "text": [
      "@HWI-ST1223:80:D1FMTACXX:2:1101:1243:2213 1:N:0:AGTCAA\n",
      "TCTGTGTAGCCNTGGCTGTCCTGGAACTCACTTTGTAGACCAGGCTGGCATGCACCACCACNNNCGGCTCATTTGTCTTTNNTTTTTGTTTTGTTCTGTA\n",
      "+\n",
      "BCCFFFFFFHH#4AFHIJJJJJJJJJJJJJJJJJIJIJJJJJGHIJJJJJJJJJJJJJIIJ###--5ABECFFDDEEEEE##,5=@B8?CDD<AD>C:@>\n",
      "@HWI-ST1223:80:D1FMTACXX:2:1101:1375:2060 1:N:0:AGTCAA\n",
      "NTGCTGAGCCACGACAAGGATCCCAGAGGGCCNAGCCCTGCATCTTGTATGGACCAGTTACNCATCAAAAGAGACTACTGTAGGCACCATCAATCAGATC\n",
      "+\n",
      "#1:DDDD;?CFFHDFEEIGIIIIIIG;DHFGG#)0?BFBDHBFF<FCFEFD;@DD@A=7?E#,,,;=(>3;=;;C>ACCC@CCCCCBBBCCAACCCCCCC\n",
      "@HWI-ST1223:80:D1FMTACXX:2:1101:1383:2091 1:N:0:AGTCAA\n",
      "NGTTCGTGTGGAACCTGGCGCTAAACCATTCGTAGACGACCTGCTTCTGGGTCGGGGTTTCGTACGTAGCAGAGCAGCTCCCTCGCTGCGATCTATTGAA\n",
      "+\n",
      "#1=DDFDFHHHHHJGJJJJJJJJJJJJJJJIJIGDHIHIGIJJJJJJJIIIGHHFDD3>BDDBDDDDDDDDDDBDCCBDDDDDDDDDDDBBDDDDEEACD\n",
      "@HWI-ST1223:80:D1FMTACXX:2:1101:1452:2138 1:N:0:AGTCAA\n",
      "NTCTAGGAGGTCTAGAAAGCCCAGGCCACCGGTACAAACATCAAGGGTGTTACGGATGTGCCGCTCTGAACCTCCAGGACGACTTTGATTTCAACTACAA\n",
      "+\n",
      "#4=DFFEFHHHHHJJJJJIJJJJHIIJGJJJJ@GIIJJJJJJIJJJJFGHIIIJJHHHDFFFFDDDDDDDDDDDDCDDDDDDDDDDDCCCEDEDDDDDDD\n"
     ]
    }
   ],
   "source": [
    "%run script/grepFastq data/test1.fq data/fastq.name"
   ]
  },
  {
   "cell_type": "code",
   "execution_count": 80,
   "metadata": {
    "collapsed": false
   },
   "outputs": [
    {
     "name": "stdout",
     "output_type": "stream",
     "text": [
      "Overwriting screenResult.py\n"
     ]
    }
   ],
   "source": [
    "%%writefile script/screenResult.py\n",
    "#作业8\n",
    "import sys\n",
    "\n",
    "def screenResult(filename, fc_value, adjP_value):\n",
    "    head = 1 #This is used to indicate there is one head line needing to skip\n",
    "    for line in open(filename):\n",
    "        if head:\n",
    "            head -= 1\n",
    "            continue\n",
    "        #-----Begin data lines------\n",
    "        lineL = line.split()\n",
    "    \n",
    "        foldChange = float(lineL[9])\n",
    "        adjP = float(lineL[12])\n",
    "        if foldChange > fc_value and adjP < adjP_value:\n",
    "            print lineL[0]\n",
    "#-------END screenResult-------------------\n",
    "def main():\n",
    "    if len(sys.argv) < 4:  #注意这儿参数改变了\n",
    "        print >>sys.stderr, \"Usage: python %s fileName fold_change adjP\" % sys.argv[0] #一般提示信息输出到标准错误\n",
    "        sys.exit(0)\n",
    "\n",
    "    filename = sys.argv[1]\n",
    "    fc = float(sys.argv[2])\n",
    "    adjP = float(sys.argv[3])\n",
    "    \n",
    "    screenResult(filename, fc, adjP)\n",
    "#-------END main------------------\n",
    "\n",
    "if __name__ == '__main__':\n",
    "    main()"
   ]
  },
  {
   "cell_type": "code",
   "execution_count": 81,
   "metadata": {
    "collapsed": false
   },
   "outputs": [
    {
     "name": "stdout",
     "output_type": "stream",
     "text": [
      "Novel00011\n",
      "Novel00043\n",
      "Novel00047\n",
      "Novel00077\n",
      "Novel00079\n",
      "Novel00080\n",
      "Novel00084\n",
      "Novel00085\n",
      "Novel00086\n",
      "Novel00087\n",
      "Novel00090\n",
      "Novel00124\n",
      "Novel00148\n",
      "Novel00156\n",
      "Novel00162\n",
      "Novel00166\n"
     ]
    }
   ],
   "source": [
    "%run script/screenResult data/test.expr 2 0.05"
   ]
  },
  {
   "cell_type": "code",
   "execution_count": 82,
   "metadata": {
    "collapsed": false
   },
   "outputs": [
    {
     "name": "stdout",
     "output_type": "stream",
     "text": [
      "Overwriting transferMultipleColumToMatrix.py\n"
     ]
    }
   ],
   "source": [
    "%%writefile script/transferMultipleColumToMatrix.py\n",
    "#作业9\n",
    "\n",
    "import sys\n",
    "\n",
    "def readMultipleColFile(filename):\n",
    "    head = 1\n",
    "    tissueSet = set()\n",
    "    aDict = {}\n",
    "    for line in open(filename):\n",
    "        if head: #skip header line\n",
    "            head -= 1\n",
    "            continue\n",
    "        #-------------------------------\n",
    "        lineL = line.split()\n",
    "        gene = lineL[0]\n",
    "        tissue = lineL[1]\n",
    "        expr = lineL[2]\n",
    "        if gene not in aDict:\n",
    "            aDict[gene] = {}\n",
    "        assert tissue not in aDict[gene], \"Duplicate tissues\"\n",
    "        aDict[gene][tissue] = expr\n",
    "        tissueSet.add(tissue)\n",
    "    #---END reading----------------------------\n",
    "    tissueL = list(tissueSet)\n",
    "    tissueL.sort()\n",
    "    return tissueL, aDict\n",
    "#----END readMultipleColFile--------------------------\n",
    "\n",
    "def main():\n",
    "    if len(sys.argv) < 2:  #注意这儿参数改变了\n",
    "        print >>sys.stderr, \"Usage: python %s fileName\" % sys.argv[0] #一般提示信息输出到标准错误\n",
    "        sys.exit(0)\n",
    "\n",
    "    filename = sys.argv[1]\n",
    "    tissueL, aDict = readMultipleColFile(filename)\n",
    "\n",
    "    print \"Gene\\t%s\" % '\\t'.join(tissueL)\n",
    "\n",
    "    for gene, tissueD in aDict.items():\n",
    "        exprL = [gene]\n",
    "        for tissue in tissueL:\n",
    "            exprL.append(tissueD[tissue])\n",
    "        print '\\t'.join(exprL)\n",
    "#-------END main------------------\n",
    "if __name__ == '__main__':\n",
    "    main()    "
   ]
  },
  {
   "cell_type": "code",
   "execution_count": 83,
   "metadata": {
    "collapsed": false
   },
   "outputs": [
    {
     "name": "stdout",
     "output_type": "stream",
     "text": [
      "Gene\tA-431\tA-549\tAN3-CA\tBEWO\tCACO-2\n",
      "ENSG00000000460\t25.2\t14.2\t10.6\t24.4\t14.2\n",
      "ENSG00000000938\t0.0\t0.0\t0.0\t0.0\t0.0\n",
      "ENSG00000000457\t2.8\t3.4\t3.8\t5.8\t2.9\n",
      "ENSG00000000419\t73.8\t38.6\t33.9\t53.7\t155.5\n",
      "ENSG00000000003\t21.3\t32.5\t38.2\t31.4\t63.9\n",
      "ENSG00000000005\t0.0\t0.0\t0.0\t0.0\t0.0\n"
     ]
    }
   ],
   "source": [
    "%run script/transferMultipleColumToMatrix data/multipleColExpr.txt"
   ]
  },
  {
   "cell_type": "code",
   "execution_count": 84,
   "metadata": {
    "collapsed": false
   },
   "outputs": [
    {
     "name": "stdout",
     "output_type": "stream",
     "text": [
      "Overwriting reverseComplementary.py\n"
     ]
    }
   ],
   "source": [
    "%%writefile script/reverseComplementary.py\n",
    "#作业10\n",
    "import sys\n",
    "\n",
    "def reverseComplementary(string):\n",
    "    ATCG_dict = {'A':'T','T':'A','C':'G','G':'C', 'a':'t','t':'a','c':'g','g':'c'}\n",
    "\n",
    "    tmpL = []\n",
    "    for i in string:\n",
    "        tmpL.append(ATCG_dict[i])\n",
    "    tmpL.reverse()\n",
    "    return ''.join(tmpL)\n",
    "#------END reverseComplementary-------\n",
    "def main():\n",
    "    if len(sys.argv) < 2:  #注意这儿参数改变了\n",
    "        print >>sys.stderr, \"Usage: python %s DNAsequence\" % sys.argv[0] #一般提示信息输出到标准错误\n",
    "        sys.exit(0)\n",
    "\n",
    "    DNA = sys.argv[1]\n",
    "    print reverseComplementary(DNA)    \n",
    "#-------END main------------------\n",
    "\n",
    "if __name__ == '__main__':\n",
    "    main()\n"
   ]
  },
  {
   "cell_type": "code",
   "execution_count": 85,
   "metadata": {
    "collapsed": false
   },
   "outputs": [
    {
     "name": "stdout",
     "output_type": "stream",
     "text": [
      "GTCTAGCTGACGTGACGTACGTACGT\n"
     ]
    }
   ],
   "source": [
    "%run script/reverseComplementary ACGTACGTACGTCACGTCAGCTAGAC"
   ]
  },
  {
   "cell_type": "code",
   "execution_count": 86,
   "metadata": {
    "collapsed": false
   },
   "outputs": [
    {
     "name": "stdout",
     "output_type": "stream",
     "text": [
      "Overwriting collapsemiRNAreads.py\n"
     ]
    }
   ],
   "source": [
    "%%writefile script/collapsemiRNAreads.py\n",
    "#作业11\n",
    "\n",
    "import sys\n",
    "\n",
    "def collapsemiRNAreads(smRNA_file, sample, head = 1):\n",
    "    lineno = 0\n",
    "    for line in open(smRNA_file):\n",
    "        if head:\n",
    "            head -= 1\n",
    "            continue\n",
    "        #----end skip header line---\n",
    "        seq, value = line.split()\n",
    "        lineno += 1\n",
    "        print \">%s_%d_x%s\\n%s\" % (sample, lineno, value, seq)\n",
    "#-------end collapsemiRNAreads------------\n",
    "def main():\n",
    "    if len(sys.argv) < 3:  #注意这儿参数改变了\n",
    "        print >>sys.stderr, \\\n",
    "            \"Usage: python %s smRNA_file sampleLabel (Only three letters like ESB)\" % sys.argv[0] #一般提示信息输出到标准错误\n",
    "        sys.exit(0)\n",
    "\n",
    "    smRNA_file = sys.argv[1]\n",
    "    sample = sys.argv[2]\n",
    "    collapsemiRNAreads(smRNA_file, sample)    \n",
    "#-------END main------------------\n",
    "\n",
    "if __name__ == '__main__':\n",
    "    main()"
   ]
  },
  {
   "cell_type": "code",
   "execution_count": 87,
   "metadata": {
    "collapsed": false
   },
   "outputs": [
    {
     "name": "stdout",
     "output_type": "stream",
     "text": [
      ">ESB_1_x2\n",
      "ACTGCCCTAAGTGCTCCTTCTGGC\n",
      ">ESB_2_x2\n",
      "ATAAGGTGCATCTAGTGCAGATA\n",
      ">ESB_3_x1\n",
      "TGAGGTAGTAGTTTGTGCTGTTT\n",
      ">ESB_4_x1\n",
      "TCCTACGAGTTGCATGGATTC\n",
      ">ESB_5_x1\n",
      "ACCGGGTGGAGCCGCCGCA\n",
      ">ESB_6_x1\n",
      "ACTGCCCTAAGTGCTCCTTCTGGT\n",
      ">ESB_7_x1\n",
      "TACAGGGCTGGGGATGG\n",
      ">ESB_8_x1\n",
      "CCCTGGATGCTGTAGGATG\n",
      ">ESB_9_x1\n",
      "AAAATGCTACTACTTTTGAGTC\n",
      ">ESB_10_x1\n",
      "TCCCTGGTGGTCTAGTGGCTAGGAT\n",
      ">ESB_11_x4\n",
      "CTCTTAGATCGATGTGGTGCTC\n",
      ">ESB_12_x1\n",
      "TTGGTGGTTCAGTGGTA\n",
      ">ESB_13_x1\n",
      "TCACAATTCCCCTATACCATGGGCCAT\n",
      ">ESB_14_x1\n",
      "CAAATGCTAGGGTTGGTGG\n",
      ">ESB_15_x4\n",
      "AGGCAGCTTCCACAGCA\n",
      ">ESB_16_x3\n",
      "GCACTGAGATGGAGTGGTGTAA\n",
      ">ESB_17_x3\n",
      "CTCCATTTGTTTGATGATGGA\n",
      ">ESB_18_x1\n",
      "GCACTGAGATGGAGTGGTGTAT\n",
      ">ESB_19_x2\n",
      "AGTGCCCAGAGTTTGTAGTGT\n",
      ">ESB_20_x1\n",
      "ATAAGGTGCATCTAGTGCTGTTAGA\n",
      ">ESB_21_x9\n",
      "AAAATGCTTCCACTTTGTGTG\n",
      ">ESB_22_x2\n",
      "GGTAATTCTAGAGCTAATACATGCCG\n",
      ">ESB_23_x6\n",
      "CCGGGCGGAAACACCA\n",
      ">ESB_24_x1\n",
      "TGAAAGGCTGACCCGCCGGGC\n",
      ">ESB_25_x1\n",
      "TTCGTACAGTGGTCGTAAGTTCGTGC\n",
      ">ESB_26_x1\n",
      "GGTTAGCACTCTGGACTC\n"
     ]
    }
   ],
   "source": [
    "%run script/collapsemiRNAreads data/mir.collapse ESB"
   ]
  },
  {
   "cell_type": "code",
   "execution_count": 88,
   "metadata": {
    "collapsed": false
   },
   "outputs": [
    {
     "name": "stdout",
     "output_type": "stream",
     "text": [
      "Overwriting map.py\n"
     ]
    }
   ],
   "source": [
    "%%writefile script/map.py\n",
    "#作业12\n",
    "import sys\n",
    "\n",
    "def readRef(ref):\n",
    "    refD = {}\n",
    "    for line in open(ref):\n",
    "        if line[0] == '>':\n",
    "            name = line[1:-1]\n",
    "            assert name not in refD\n",
    "            refD[name] = []\n",
    "        else:\n",
    "            refD[name].append(line.strip())\n",
    "    #---------END reading----------------\n",
    "    for key, valueL in refD.items():\n",
    "        refD[key] = ''.join(valueL)\n",
    "    return refD\n",
    "#---------END readRef----------------\n",
    "def mapSeq(seq, refD):\n",
    "    len_seq = len(seq)\n",
    "    for key, value in refD.items():\n",
    "        pos = value.find(seq)\n",
    "        while pos != -1:\n",
    "            print \"%s\\t%d\\t%d\\t%s\" % (key, pos, pos+len_seq, seq)\n",
    "            current = pos + 1\n",
    "            newpos = value[current:].find(seq)\n",
    "            if newpos == -1:\n",
    "                break\n",
    "            pos = current + newpos\n",
    "#----------END mapSeq------------\n",
    "def main():\n",
    "    if len(sys.argv) < 3:  #注意这儿参数改变了\n",
    "        print >>sys.stderr, \\\n",
    "            \"Usage: python %s Ref_genome.fa reads.fa\" % sys.argv[0] #一般提示信息输出到标准错误\n",
    "        sys.exit(0)\n",
    "\n",
    "    ref = sys.argv[1]\n",
    "    read = sys.argv[2]\n",
    "    refD = readRef(ref)\n",
    "    #------------------------------------\n",
    "    for line in open(read):\n",
    "        if line[0] == '>':\n",
    "            pass\n",
    "        else:\n",
    "            seq = line.strip()\n",
    "            mapSeq(seq, refD)   \n",
    "#-------END main------------------\n",
    "\n",
    "if __name__ == '__main__':\n",
    "    main()"
   ]
  },
  {
   "cell_type": "code",
   "execution_count": 89,
   "metadata": {
    "collapsed": false
   },
   "outputs": [
    {
     "name": "stdout",
     "output_type": "stream",
     "text": [
      "chr1\t199\t208\tTGGCGTTCA\n",
      "chr1\t207\t216\tACCCCGCTG\n",
      "chr2\t63\t70\tAAATTGC\n",
      "chr3\t0\t7\tAATAAAT\n",
      "chr3\t66\t74\tCCACACAA\n",
      "chr3\t206\t214\tATATCACT\n",
      "chr2\t163\t171\tATATCACT\n",
      "chr3\t417\t423\tAGAGGA\n",
      "chr2\t374\t380\tAGAGGA\n",
      "chrX\t137\t143\tAGAGGA\n"
     ]
    }
   ],
   "source": [
    "%run script/map data/ref.fa data/short.fa"
   ]
  },
  {
   "cell_type": "markdown",
   "metadata": {},
   "source": [
    "# References"
   ]
  },
  {
   "cell_type": "markdown",
   "metadata": {},
   "source": [
    "* http://www.byteofpython.info/\n",
    "* http://woodpecker.org.cn/abyteofpython_cn/chinese/index.html\n",
    "* http://www.python-course.eu/"
   ]
  }
 ],
 "metadata": {
  "kernelspec": {
   "display_name": "Python 2",
   "language": "python",
   "name": "python2"
  },
  "language_info": {
   "codemirror_mode": {
    "name": "ipython",
    "version": 2
   },
   "file_extension": ".py",
   "mimetype": "text/x-python",
   "name": "python",
   "nbconvert_exporter": "python",
   "pygments_lexer": "ipython2",
   "version": "2.7.11"
  }
 },
 "nbformat": 4,
 "nbformat_minor": 0
}
