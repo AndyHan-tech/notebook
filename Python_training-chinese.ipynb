{
 "cells": [
  {
   "cell_type": "markdown",
   "metadata": {},
   "source": [
    "Python 教程\n",
    "===\n",
    "陈同 (chentong_biology@163.com)\n",
    "=============\n",
    "\n",
    "\n",
    "欢迎来到Python的世界，本教程将带你遨游`Python`，领悟`Python`的魅力。本教程专注于帮助初学者，尤其是生物信息分析人员快速学会`Python`的常用功能和使用方式，因此只精选了部分`Python`的功能，请额外参考Python经典教程[A byte of python](http://www.byteofpython.info/)和它的[中文版](http://woodpecker.org.cn/abyteofpython_cn/chinese/index.html) 来更好的理解*Python*. 本文档的概念和文字描述参考了A byte of python(中文版)，特此感谢。\n",
    "\n",
    "This work is licensed under a <a rel=\"license\" href=\"http://creativecommons.org/licenses/by-nc-sa/2.0/\">Creative Commons Attribution-NonCommercial-ShareAlike 2.0 Generic License</a>.\n"
   ]
  },
  {
   "cell_type": "markdown",
   "metadata": {},
   "source": [
    "# 目录"
   ]
  },
  {
   "cell_type": "markdown",
   "metadata": {},
   "source": [
    "1. [背景介绍](#背景介绍)\n",
    "    1. [编程开篇](#编程开篇)\n",
    "    1. [为什么学习Python](#为什么学习Python)\n",
    "    2. [如何安装Python](#如何安装Python)\n",
    "    3. [如何运行Python命令和脚本](#如何运行Python命令和脚本)\n",
    "    4. [使用什么编辑器写Python脚本](#使用什么编辑器写Python脚本)\n",
    "2. [Python程序事例](#Python程序事例)\n",
    "2. [Python基本语法](#Python语法)\n",
    "    1. [层级缩进](#层级缩进)\n",
    "    2. [变量、数据结构、流程控制](#变量、数据结构、流程控制)\n",
    "        1. [数值变量操作](#数值变量操作)\n",
    "        2. [字符串变量操作](#字符串变量操作)\n",
    "        3. [列表操作](#列表操作)\n",
    "        4. [元组操作](#元组操作)\n",
    "        4. [Range使用](#Range使用)\n",
    "        5. [字典操作](#字典操作)\n",
    "3. [输入输出](#输入输出)\n",
    "    1. [交互式输入输出](#交互式输入输出)\n",
    "    2. [文件读写](#文件读写)\n",
    "4. [实战练习（一）](#实战练习（一）)\n",
    "    1. [背景知识](#背景知识)\n",
    "    2. [作业(一)](#作业（一）)\n",
    "5. [函数操作](#函数操作)\n",
    "    1. [函数操作](#函数操作)\n",
    "    2. [作业（二）](#作业（二）)\n",
    "6. [模块](#模块)\n",
    "7. [命令行参数](#命令行参数)\n",
    "    1. [命令行参数](#命令行参数)\n",
    "    2. [作业（三）](#作业（三）)\n",
    "8. [更多Python内容](#更多Python内容)\n",
    "    1. [单语句块](#单语句块)\n",
    "    2. [列表综合，生成新列表的简化的for循环](#列表综合)\n",
    "    3. [lambda, map, filer, reduce (保留节目)](#lmfr)\n",
    "    4. [exec, eval (执行字符串python语句, 保留节目)](#ee)\n",
    "9. [Reference](#Reference)"
   ]
  },
  {
   "cell_type": "markdown",
   "metadata": {},
   "source": [
    "# 背景介绍"
   ]
  },
  {
   "cell_type": "markdown",
   "metadata": {},
   "source": [
    "## 编程开篇"
   ]
  },
  {
   "cell_type": "markdown",
   "metadata": {},
   "source": [
    "A：最近在看什么书？\n",
    "\n",
    "B：编程。\n",
    "\n",
    "A：沈从文的那本啊。\n",
    "\n",
    "B：……\n",
    "\n",
    "<img src=\"D:/project/GitHub/PBR_training/Image/biancheng.jpg\"></img>\n",
    "\n",
    "---\n",
    "\n",
    "\n",
    "\n",
    "C：最近在学一门新语言，Python。\n",
    "\n",
    "D：那是哪个国家的语言？\n",
    "\n",
    "C：……"
   ]
  },
  {
   "cell_type": "markdown",
   "metadata": {},
   "source": [
    "## 为什么学习Python"
   ]
  },
  {
   "cell_type": "markdown",
   "metadata": {},
   "source": [
    "* 语法简单 \n",
    "    \n",
    "    Python语言写作的程序就像自然语言构建的伪代码一样，“所见即所想”。读`Python`代码就像读最简单的英文短文一样，写`Python`代码比写英文文章都要简单，“所想即所写”。很多刚学习`Python`的朋友都觉得很不可思议，原来怎么想怎么写出来就对了。\n",
    "\n",
    "* 功能强大\n",
    "    \n",
    "    现在程序语言的发展已经很成熟，每一种程序语言都能实现其它程序语言的全部功能。因此就程序语言本身来讲，功能都相差不大。`Python`语言的功能强大在于其活跃的社区和强大的第三方模块支持，使其作为科学计算的能力越来越强。\n",
    "\n",
    "* 可扩展性好\n",
    "    \n",
    "    能与C完美的融合，加快运行速度。可用加速模块有`Cython`, `PyPy`, `Pyrex`, `Psyco`等."
   ]
  },
  {
   "cell_type": "markdown",
   "metadata": {},
   "source": [
    "## 如何安装Python"
   ]
  },
  {
   "cell_type": "markdown",
   "metadata": {},
   "source": [
    "Python社区有很多功能很好的包，但逐个安装需要解决繁杂的依赖关系。通常我会推荐安装已经做好的集成包，一劳永逸的解决后续问题。这儿推荐的两个集成包有完全免费的[Anaconda](https://store.continuum.io/cshop/anaconda/)和对学术用户、教育用户免费的[Canopy](https://www.enthought.com/products/canopy/). 这两个分发包集成了常用的数值计算、图形处理、可视化等工具包如`IPython`, `matplotlib`, `numpy`, `scipy`, 而且设定了更简单的安装Python模块的方法，可以节省大量的安装时间。 "
   ]
  },
  {
   "cell_type": "markdown",
   "metadata": {},
   "source": [
    "## 如何运行Python命令和脚本"
   ]
  },
  {
   "cell_type": "markdown",
   "metadata": {},
   "source": [
    "* 对于初学者，本手册推荐直接在`IPython Notebook`下学习`Python`命令和脚本。我们这套教程也是用`IPython Notebook`写作而成，里面的代码可以随时修改和运行，并能同时记录你的脚本和输出，符合现在流行的“可重复性计算”的概念。\n",
    "    * Linux/Unix用户直接在终端(Terminal)进入你的目标文件夹`cd /working_dir`[回车]，然后在终端输入`Ipython notebook`[回车]即可启动`Ipython notebook`。\n",
    "    * Windows用户可以新建一个`Ipython_notebook.bat`文件(新建一个txt文件，写入内容后修改后缀为`.bat`。若不能修改后缀，请Google搜索“Window是如何显示文件扩展名”)，并写入以下内容（注意把前两行的*盘符*和*路径*替换为你的工作目录），双击即可运行。\n",
    "```\n",
    "        D:\n",
    "        cd PBR_training\n",
    "        ipython notebook\n",
    "        pause\n",
    "```\n",
    "    * `Ipython notebook`启动后会打开默认的浏览器（需要在图形用户界面下工作），这时可以`新建`或`打开`相应路径下的ipynb文件。\n",
    "    \n",
    "* 对于LInux或Unix用户，直接在终端输入 `python` 然后回车即可打开交互式`python`解释器，如下图所示。在这个解释器了敲入任何合法的`python`语句即可执行。此外，所有的命令还可以存储到一个文件一起执行，如下图所示。我们有一个包含`python`程序的文件`test.py`，我们只要在终端输入`python test.py`并回车就可以运行这个文件。同时我们也可在终端通过输入`chmod 755 test.py`赋予程序`test.py`可执行权限，并在终端输入`./test.py`运行`Python`脚本。更多Linux下的高级使用和Linux命令使用请见教程Bash_training-chinese.ipynb。  <img src=\"Image/Python_start_run_linux.png\">\n",
    "\n",
    "* 对于Windows用户，可以通过“Windows键+R”调出“Run”窗口并输入“cmd”打开Windows命令解释器，输入`python`即可打开交互式`python`解释器。同时也可以双击安装后的软件的快捷方式打开图形界面的`Python`解释器，可以处理交互式命令和导入Python文件并执行。下图所示是Canopy的界面：<img src=\"Image/Python_start_run_winCanopy.png\">\n",
    "\n",
    "* 对于交互式`Python`解释器，在使用结束后，通过键盘组合键`Ctrl-d` (Linux/Unix)或`Ctrl-z` (Windows)关闭。"
   ]
  },
  {
   "cell_type": "markdown",
   "metadata": {},
   "source": [
    "## 使用什么编辑器写Python脚本"
   ]
  },
  {
   "cell_type": "markdown",
   "metadata": {},
   "source": [
    "在你学成之后，可能主要操作都在服务器完成，而且日常工作一般会以脚本的形式解决。我个人推荐使用[Vim](http://www.vim.org/download.php)来写作Python脚本。\n",
    "\n",
    "Linux下`vim`的配置文件可从[我的 github](https://github.com/Tong-Chen/vim)下载，Windows版可从[我的百度云](http://pan.baidu.com/s/1kT5KIN1) 下载。 "
   ]
  },
  {
   "cell_type": "markdown",
   "metadata": {},
   "source": [
    "# Python程序事例"
   ]
  },
  {
   "cell_type": "code",
   "execution_count": 6,
   "metadata": {
    "collapsed": false
   },
   "outputs": [
    {
     "name": "stdout",
     "output_type": "stream",
     "text": [
      ">NM_001011874 gene=Xkr4 CDS=151-2091\n",
      "gcggcggcgggcgagcgggcgctggagtaggagctggggagcggcgcggccggggaaggaagccagggcg\n",
      "aggcgaggaggtggcgggaggaggagacagcagggacaggTGTCAGATAAAGGAGTGCTCTCCTCCGCTG\n",
      "CCGAGGCATCATGGCCGCTAAGTCAGACGGGAGGCTGAAGATGAAGAAGAGCAGCGACGTGGCGTTCACC\n",
      "CCGCTGCAGAACTCGGACAATTCGGGCTCTGTGCAAGGACTGGCTCCAGGCTTGCCGTCGGGGTCCGGAG\n",
      ">NM_001195662 gene=Rp1 CDS=55-909\n",
      "AAGCTCAGCCTTTGCTCAGATTCTCCTCTTGATGAAACAAAGGGATTTCTGCACATGCTTGAGAAATTGC\n",
      "AGGTCTCACCCAAAATGAGTGACACACCTTCTACTAGTTTCTCCATGATTCATCTGACTTCTGAAGGTCA\n",
      "AGTTCCTTCCCCTCGCCATTCAAATATCACTCATCCTGTAGTGGCTAAACGCATCAGTTTCTATAAGAGT\n",
      "GGAGACCCACAGTTTGGCGGCGTTCGGGTGGTGGTCAACCCTCGTTCCTTTAAGACTTTTGACGCTCTGC\n",
      "TGGACAGTTTATCCAGGAAGGTACCCCTGCCCTTTGGGGTAAGGAACATCAGCACGCCCCGTGGACGACA\n",
      "CAGCATCACCAGGCTGGAGGAGCTAGAGGACGGCAAGTCTTATGTGTGCTCCCACAATAAGAAGGTGCTG\n",
      ">NM_011283 gene=Rp1 CDS=128-6412\n",
      "AATAAATCCAAAGACATTTGTTTACGTGAAACAAGCAGGTTGCATATCCAGTGACGTTTATACAGACCAC\n",
      "ACAAACTATTTACTCTTTTCTTCGTAAGGAAAGGTTCAACTTCTGGTCTCACCCAAAATGAGTGACACAC\n",
      "CTTCTACTAGTTTCTCCATGATTCATCTGACTTCTGAAGGTCAAGTTCCTTCCCCTCGCCATTCAAATAT\n",
      "CACTCATCCTGTAGTGGCTAAACGCATCAGTTTCTATAAGAGTGGAGACCCACAGTTTGGCGGCGTTCGG\n",
      "GTGGTGGTCAACCCTCGTTCCTTTAAGACTTTTGACGCTCTGCTGGACAGTTTATCCAGGAAGGTACCCC\n",
      "TGCCCTTTGGGGTAAGGAACATCAGCACGCCCCGTGGACGACACAGCATCACCAGGCTGGAGGAGCTAGA\n",
      "GGACGGCAAGTCTTATGTGTGCTCCCACAATAAGAAGGTGCTGCCAGTTGACCTGGACAAGGCCCGCAGG\n",
      "CGCCCTCGGCCCTGGCTGAGTAGTCGCTCCATAAGCACGCATGTGCAGCTCTGTCCTGCAACTGCCAATA\n",
      "TGTCCACCATGGCACCTGGCATGCTCCGTGCCCCAAGGAGGCTCGTGGTCTTCCGGAATGGTGACCCGAA\n",
      ">NM_0112835 gene=Rp1 CDS=128-6412\n",
      "AATAAATCCAAAGACATTTGTTTACGTGAAACAAGCAGGTTGCATATCCAGTGACGTTTATACAGACCAC\n",
      "ACAAACTATTTACTCTTTTCTTCGTAAGGAAAGGTTCAACTTCTGGTCTCACCCAAAATGAGTGACACAC\n",
      "CTTCTACTAGTTTCTCCATGATTCATCTGACTTCTGAAGGTCAAGTTCCTTCCCCTCGCCATTCAAATAT\n",
      "CACTCATCCTGTAGTGGCTAAACGCATCAGTTTCTATAAGAGTGGAGACCCACAGTTTGGCGGCGTTCGG\n",
      "GTGGTGGTCAACCCTCGTTCCTTTAAGACTTTTGACGCTCTGCTGGACAGTTTATCCAGGAAGGTACCCC\n",
      "TGCCCTTTGGGGTAAGGAACATCAGCACGCCCCGTGGACGACACAGCATCACCAGGCTGGAGGAGCTAGA\n",
      "GGACGGCAAGTCTTATGTGTGCTCCCACAATAAGAAGGTGCTGCCAGTTGACCTGGACAAGGCCCGCAGG\n",
      "CGCCCTCGGCCCTGGCTGAGTAGTCGCTCCATAAGCACGCATGTGCAGCTCTGTCCTGCAACTGCCAATA\n",
      "TGTCCACCATGGCACCTGGCATGCTCCGTGCCCCAAGGAGGCTCGTGGTCTTCCGGAATGGTGACCCGAA\n"
     ]
    }
   ],
   "source": [
    "#假如我们有如下FASTA格式的文件，我们想把多行序列合并为一行，怎么做？\n",
    "for line in open(\"data/test2.fa\"):\n",
    "    print line,"
   ]
  },
  {
   "cell_type": "code",
   "execution_count": 10,
   "metadata": {
    "collapsed": false
   },
   "outputs": [
    {
     "name": "stdout",
     "output_type": "stream",
     "text": [
      ">NM_011283 gene=Rp1 CDS=128-6412\n",
      "AATAAATCCAAAGACATTTGTTTACGTGAAACAAGCAGGTTGCATATCCAGTGACGTTTATACAGACCACACAAACTATTTACTCTTTTCTTCGTAAGGAAAGGTTCAACTTCTGGTCTCACCCAAAATGAGTGACACACCTTCTACTAGTTTCTCCATGATTCATCTGACTTCTGAAGGTCAAGTTCCTTCCCCTCGCCATTCAAATATCACTCATCCTGTAGTGGCTAAACGCATCAGTTTCTATAAGAGTGGAGACCCACAGTTTGGCGGCGTTCGGGTGGTGGTCAACCCTCGTTCCTTTAAGACTTTTGACGCTCTGCTGGACAGTTTATCCAGGAAGGTACCCCTGCCCTTTGGGGTAAGGAACATCAGCACGCCCCGTGGACGACACAGCATCACCAGGCTGGAGGAGCTAGAGGACGGCAAGTCTTATGTGTGCTCCCACAATAAGAAGGTGCTGCCAGTTGACCTGGACAAGGCCCGCAGGCGCCCTCGGCCCTGGCTGAGTAGTCGCTCCATAAGCACGCATGTGCAGCTCTGTCCTGCAACTGCCAATATGTCCACCATGGCACCTGGCATGCTCCGTGCCCCAAGGAGGCTCGTGGTCTTCCGGAATGGTGACCCGAA\n",
      ">NM_0112835 gene=Rp1 CDS=128-6412\n",
      "AATAAATCCAAAGACATTTGTTTACGTGAAACAAGCAGGTTGCATATCCAGTGACGTTTATACAGACCACACAAACTATTTACTCTTTTCTTCGTAAGGAAAGGTTCAACTTCTGGTCTCACCCAAAATGAGTGACACACCTTCTACTAGTTTCTCCATGATTCATCTGACTTCTGAAGGTCAAGTTCCTTCCCCTCGCCATTCAAATATCACTCATCCTGTAGTGGCTAAACGCATCAGTTTCTATAAGAGTGGAGACCCACAGTTTGGCGGCGTTCGGGTGGTGGTCAACCCTCGTTCCTTTAAGACTTTTGACGCTCTGCTGGACAGTTTATCCAGGAAGGTACCCCTGCCCTTTGGGGTAAGGAACATCAGCACGCCCCGTGGACGACACAGCATCACCAGGCTGGAGGAGCTAGAGGACGGCAAGTCTTATGTGTGCTCCCACAATAAGAAGGTGCTGCCAGTTGACCTGGACAAGGCCCGCAGGCGCCCTCGGCCCTGGCTGAGTAGTCGCTCCATAAGCACGCATGTGCAGCTCTGTCCTGCAACTGCCAATATGTCCACCATGGCACCTGGCATGCTCCGTGCCCCAAGGAGGCTCGTGGTCTTCCGGAATGGTGACCCGAA\n",
      ">NM_001011874 gene=Xkr4 CDS=151-2091\n",
      "gcggcggcgggcgagcgggcgctggagtaggagctggggagcggcgcggccggggaaggaagccagggcgaggcgaggaggtggcgggaggaggagacagcagggacaggTGTCAGATAAAGGAGTGCTCTCCTCCGCTGCCGAGGCATCATGGCCGCTAAGTCAGACGGGAGGCTGAAGATGAAGAAGAGCAGCGACGTGGCGTTCACCCCGCTGCAGAACTCGGACAATTCGGGCTCTGTGCAAGGACTGGCTCCAGGCTTGCCGTCGGGGTCCGGAG\n",
      ">NM_001195662 gene=Rp1 CDS=55-909\n",
      "AAGCTCAGCCTTTGCTCAGATTCTCCTCTTGATGAAACAAAGGGATTTCTGCACATGCTTGAGAAATTGCAGGTCTCACCCAAAATGAGTGACACACCTTCTACTAGTTTCTCCATGATTCATCTGACTTCTGAAGGTCAAGTTCCTTCCCCTCGCCATTCAAATATCACTCATCCTGTAGTGGCTAAACGCATCAGTTTCTATAAGAGTGGAGACCCACAGTTTGGCGGCGTTCGGGTGGTGGTCAACCCTCGTTCCTTTAAGACTTTTGACGCTCTGCTGGACAGTTTATCCAGGAAGGTACCCCTGCCCTTTGGGGTAAGGAACATCAGCACGCCCCGTGGACGACACAGCATCACCAGGCTGGAGGAGCTAGAGGACGGCAAGTCTTATGTGTGCTCCCACAATAAGAAGGTGCTG\n"
     ]
    }
   ],
   "source": [
    "aDict = {}\n",
    "for line in open('data/test2.fa'):\n",
    "    if line[0] == '>':\n",
    "        key = line.strip()\n",
    "        aDict[key] = []\n",
    "    else:\n",
    "        aDict[key].append(line.strip())\n",
    "#------------------------------------------\n",
    "for key, valueL in aDict.items():\n",
    "    print key\n",
    "    print ''.join(valueL)"
   ]
  },
  {
   "cell_type": "markdown",
   "metadata": {},
   "source": [
    "# Python语法"
   ]
  },
  {
   "cell_type": "markdown",
   "metadata": {},
   "source": [
    "## 层级缩进"
   ]
  },
  {
   "cell_type": "markdown",
   "metadata": {},
   "source": [
    "* 合适的缩进。空白在Python中是很重要的，它称为缩进。在逻辑行首的空白（空格和制表符）用来决定逻辑行的缩进层次，从而用来决定语句的分组。这意味着同一层次的语句必须有相同的缩进。每一组这样的语句称为一个块。通常的缩进为4个空格, 在`Ipython Notebook`中为一个`Tab`键。\n",
    "  \n",
    " 从下面这两个例子可以看出错误的缩进类型和对应的提示。\n",
    " * \"unexpected indent\" 表示在不该出现空白的地方多了空白，并且指出问题出在第三行(line 3)。\n",
    " * \"expected an indented block\" 表示应该有缩进的地方未缩进，也指出了问题所在行。\n",
    " * \"unindent does not match any outer indentation level\" 表示缩进出现了不一致，问题通常会在指定行**及其前面的行**。"
   ]
  },
  {
   "cell_type": "code",
   "execution_count": 123,
   "metadata": {
    "collapsed": false
   },
   "outputs": [
    {
     "ename": "IndentationError",
     "evalue": "unexpected indent (<ipython-input-123-085115ffae95>, line 3)",
     "output_type": "error",
     "traceback": [
      "\u001b[1;36m  File \u001b[1;32m\"<ipython-input-123-085115ffae95>\"\u001b[1;36m, line \u001b[1;32m3\u001b[0m\n\u001b[1;33m    b = '我前面有个空格……'\u001b[0m\n\u001b[1;37m    ^\u001b[0m\n\u001b[1;31mIndentationError\u001b[0m\u001b[1;31m:\u001b[0m unexpected indent\n"
     ]
    }
   ],
   "source": [
    "print \"不合适的缩进会引发错误，不该有的缩进\"\n",
    "a = 'No indent'\n",
    " b = '我前面有个空格……'"
   ]
  },
  {
   "cell_type": "code",
   "execution_count": 2,
   "metadata": {
    "collapsed": false
   },
   "outputs": [
    {
     "ename": "IndentationError",
     "evalue": "expected an indented block (<ipython-input-2-1b9e89963ac3>, line 5)",
     "output_type": "error",
     "traceback": [
      "\u001b[1;36m  File \u001b[1;32m\"<ipython-input-2-1b9e89963ac3>\"\u001b[1;36m, line \u001b[1;32m5\u001b[0m\n\u001b[1;33m    print \"我应该被缩进，我从属于for循环!!!\\n\"\u001b[0m\n\u001b[1;37m        ^\u001b[0m\n\u001b[1;31mIndentationError\u001b[0m\u001b[1;31m:\u001b[0m expected an indented block\n"
     ]
    }
   ],
   "source": [
    "print \"不合适的缩进，应该有，却漏掉的缩进\"\n",
    "a = [1,2,3]\n",
    "\n",
    "for i in a:\n",
    "print \"我应该被缩进，我从属于for循环!!!\\n\"\n"
   ]
  },
  {
   "cell_type": "code",
   "execution_count": 203,
   "metadata": {
    "collapsed": false
   },
   "outputs": [
    {
     "ename": "IndentationError",
     "evalue": "unindent does not match any outer indentation level (<ipython-input-203-1af46ff5a29f>, line 5)",
     "output_type": "error",
     "traceback": [
      "\u001b[1;36m  File \u001b[1;32m\"<ipython-input-203-1af46ff5a29f>\"\u001b[1;36m, line \u001b[1;32m5\u001b[0m\n\u001b[1;33m    print i + 1, \"为什么我的缩进跟其它行不一样呢，我的空格被谁吃了？\"\u001b[0m\n\u001b[1;37m                                            \n^\u001b[0m\n\u001b[1;31mIndentationError\u001b[0m\u001b[1;31m:\u001b[0m unindent does not match any outer indentation level\n"
     ]
    }
   ],
   "source": [
    "a = [1,2, 3]\n",
    "if a:\n",
    "    for i in a:\n",
    "        print i\n",
    "       print i + 1, \"为什么我的缩进跟其它行不一样呢，我的空格被谁吃了？\"\n",
    "         print i + 1, \"为什么我的缩进跟其它行不一样呢，谁给了我个空格？\""
   ]
  },
  {
   "cell_type": "markdown",
   "metadata": {},
   "source": [
    "## 变量、数据结构、流程控制"
   ]
  },
  {
   "cell_type": "markdown",
   "metadata": {},
   "source": [
    "* 常量，指固定的数字或字符串，如`2`, `2.9`, `Hello world`等。 \n",
    "\n",
    "* 变量，存储了数字或字符串的事物称为变量，它可以被赋值或被修改。简单的可以理解为变量是一个盒子，你可以把任何东西放在里面，通过盒子的名字来取出盒子内的东西。\n",
    "    * 数值变量：存储了数的变量。     \n",
    "    * 字符串变量：存储了字符串的变量。字符串变量的名字最好不为`str`，可以使用`aStr`。\n",
    "    * 列表 (list): list是处理一组*有序*项目的数据结构，即你可以在一个列表中存储一个 *序列* 的项目。假想你有一个购物列表，上面记载着你要买的东西，你就容易理解列表了。只不过在你的购物表上，可能每样东西都独自占有一行，而在Python中，你在每个项目之间用逗号分割。列表中的项目应该包括在**方括号**中，这样Python就知道你是在指明一个列表。一旦你创建了一个列表，你可以添加、删除或是搜索列表中的项目。由于你可以增加或删除项目，我们说列表是 *可变的* 数据类型，即这种类型是可以被改变的。列表变量的名字最好不为`list`，可以使用`aList`。\n",
    "    * 元组 (set，集合)：元组和列表十分类似，但元组中不允许重复值出现。元组通过**圆括号中用逗号分割的项目**定义。元组通常用在使语句或用户定义的函数能够安全地采用一组值的时候，即被使用的元组的值不会改变。元组变量的名字最好不为`set`，可以使用`aSet`。\n",
    "    * 字典 (dict): 字典类似于你通过联系人名字查找地址和联系人详细情况的地址簿，即，我们把键（名字）和值（详细情况）联系在一起。注意，键必须是唯一的，就像如果有两个人恰巧同名的话，你无法找到正确的信息。多个键可以指向同一个值。当一个键需要指向多个值时，这些值需要放在列表、元组或字典里面。注意，你只能使用不可变的对象（字符串，数字，元组）来作为字典的键，但是可以用不可变或可变的对象作为字典的值。键值对在字典中以这样的方式标记：d = {key1 : value1, key2 : value2 }。注意它们的键/值对用冒号分割，而各个对用逗号分割，所有这些都包括在**花括号**中。记住字典中的键/值对是没有顺序的。如果你想要一个特定的顺序，那么你应该在使用前自己对它们排序。列表变量的名字最好不为`dict`，可以使用`aDict`。\n",
    "    * 序列：列表、元组、字符串都是一种序列格式。同时还可以使用range来产生序列。序列的两个主要操作时*索引操作*和*切片操作*。\n",
    "\n",
    "* 标示符  \n",
    "      * 变量的名字被称为标示符。标识符对大小写敏感，第一个字符必须是字母表中的字母（大写或小写）或者一个下划线（\\_），其它部分额外包含数字。有效的标示符有: `abc`, `_abc`, `a_b_2`, `__23`等。无效的标示符有: `2a`, `3b`。\n",
    "      * 标示符最好不使用Python内置的关键字，如`str`, `list`, `int`, `def`, `split`, `dict`等。\n",
    "      * 标示符最好能言词达意，即展示变量的类型，又带有变量的实际含义。如`line`表示文件的一行，`lineL`表示存有从文件读入的每一行的列表。\n",
    "\n",
    "* 控制流\n",
    "    * `if`语句\n",
    "      \n",
    "      `if`语句用来检验一个条件，如果条件为真，我们运行一块语句（称为 `if-块`），否则我们处理另外一块语句（称为 `else-块`）。`else` 从句是可选的。如果有多个条件，中间使用`elif`。\n",
    "      \n",
    "      举个例子：“买五个包子，如果看到卖西瓜的，买一个”——最后程序猿买了一个包子”\n",
    "      ```\n",
    "      买包子 = 5\n",
    "      if 看到卖西瓜的:\n",
    "          买包子 = 1\n",
    "      ```\n",
    "      \n",
    "    * `For`语句\n",
    "      \n",
    "      for..in是一个循环语句，它在一序列的对象上递归,即逐一使用队列中的每个项目。\n",
    "      \n",
    "    * `While`语句\n",
    "      \n",
    "      只要在一个条件为真的情况下，`while`语句允许你重复执行一块语句。`while`语句是所谓 *循环* 语句的一个例子。`while`语句有一个可选的`else`从句。\n",
    "       \n",
    "    * `break`语句是用来 *终止* 循环语句的，即哪怕循环条件没有成为False或序列还没有被完全递归，也停止执行循环语句。\n",
    "    \n",
    "      一个重要的注释是，如果你从`for`或`while`循环中 *终止* ，任何对应的循环else块将不执行。\n",
    "      \n",
    "    * `continue`语句被用来告诉`Python`跳过当前循环块中的剩余语句，然后 *继续* 进行下一轮循环。\n",
    "    \n",
    "    * 逻辑运算符 `and`, `or`, `not`。 \n",
    "    "
   ]
  },
  {
   "cell_type": "markdown",
   "metadata": {},
   "source": [
    "### 数值变量操作"
   ]
  },
  {
   "cell_type": "code",
   "execution_count": 1,
   "metadata": {
    "collapsed": false
   },
   "outputs": [
    {
     "name": "stdout",
     "output_type": "stream",
     "text": [
      "数值变量\n",
      "5\n",
      "\n",
      "The type of a is <type 'int'>\n"
     ]
    }
   ],
   "source": [
    "print \"数值变量\"\n",
    "a = 5   #注意等号两边的空格，为了易于辨识，操作符两侧最后有空格，数量不限\n",
    "print a\n",
    "\n",
    "print\n",
    "print \"The type of a is\", type(a)\n",
    "\n",
    "#print \"这是保留节目，通常判断变量的类型使用的不是type是isinstance.\"\n",
    "#print \"a is an int, \", isinstance(a,int)\n"
   ]
  },
  {
   "cell_type": "code",
   "execution_count": 205,
   "metadata": {
    "collapsed": false
   },
   "outputs": [
    {
     "name": "stdout",
     "output_type": "stream",
     "text": [
      "比较数值的大小\n",
      "a is larger than 4.\n"
     ]
    }
   ],
   "source": [
    "#判断\n",
    "print \"比较数值的大小\"\n",
    "a = 5 \n",
    "\n",
    "#注意大于号两边的空格，为了易于辨识，操作符两侧最后有空格，数量不限\n",
    "if a > 4: \n",
    "    print \"a is larger than 4.\"\n",
    "elif a == 4:\n",
    "    print \"a is equal to 4.\"\n",
    "else:\n",
    "    print \"a is less than 4\""
   ]
  },
  {
   "cell_type": "code",
   "execution_count": 206,
   "metadata": {
    "collapsed": false
   },
   "outputs": [
    {
     "name": "stdout",
     "output_type": "stream",
     "text": [
      "给定数值变量a和b的值，通过判断和重新赋值使得a的值小，b的值大\n",
      "3\n",
      "5\n"
     ]
    }
   ],
   "source": [
    "print \"给定数值变量a和b的值，通过判断和重新赋值使得a的值小，b的值大\"\n",
    "a = 5\n",
    "b = 3\n",
    "\n",
    "if a > b:\n",
    "    c = a\n",
    "    a = b\n",
    "    b = c\n",
    "    #print \"保留节目，Python特有，不通过中间变量直接做交换，神奇吧！！\"\n",
    "    #a,b = b,a\n",
    "#-------------------\n",
    "print a \n",
    "print b"
   ]
  },
  {
   "cell_type": "code",
   "execution_count": 1,
   "metadata": {
    "collapsed": false
   },
   "outputs": [
    {
     "name": "stdout",
     "output_type": "stream",
     "text": [
      "#数值运算, 符合传统的优先级，需要使用括号来改变优先级，\n",
      "和小学学的数学一模一样！！\n",
      "a + b = 8\n",
      "a * b = 15\n",
      "a / b = 1\n",
      "2 * (a+b) = 16\n",
      "取余数： a % b = 2\n",
      "取余数是很好的判断循环的地方，因为每个固定的周期余数就会循环一次\n"
     ]
    }
   ],
   "source": [
    "print '''#数值运算, 符合传统的优先级，需要使用括号来改变优先级，\n",
    "和小学学的数学一模一样！！'''\n",
    "a = 5\n",
    "b = 3\n",
    "\n",
    "print \"a + b =\", a + b\n",
    "print \"a * b =\", a * b\n",
    "print \"a / b =\", a/b  # 1\n",
    "print \"2 * (a+b) =\", 2 * (a+b)\n",
    "print \"取余数： a % b =\", a % b\n",
    "print \"取余数是很好的判断循环的地方，因为每个固定的周期余数就会循环一次\""
   ]
  },
  {
   "cell_type": "markdown",
   "metadata": {},
   "source": [
    "### 字符串变量操作"
   ]
  },
  {
   "cell_type": "code",
   "execution_count": 208,
   "metadata": {
    "collapsed": false
   },
   "outputs": [
    {
     "name": "stdout",
     "output_type": "stream",
     "text": [
      "字符串变量\n",
      "The string a is: Hello, welcome to Python\n",
      "\n",
      "The length of this string <Hello, welcome to Python> is 24\n",
      "\n",
      "The type of a is <type 'str'>\n"
     ]
    }
   ],
   "source": [
    "print \"字符串变量\"\n",
    "\n",
    "a = \"Hello, welcome to Python\"\n",
    "\n",
    "#a = 123\n",
    "#a = str(a)\n",
    "\n",
    "print \"The string a is:\", a\n",
    "print\n",
    "\n",
    "#占位符\n",
    "print \"The length of this string <%s> is %d\" % (a, len(a))\n",
    "print\n",
    "\n",
    "print \"The type of a is\", type(a)"
   ]
  },
  {
   "cell_type": "code",
   "execution_count": 1,
   "metadata": {
    "collapsed": false
   },
   "outputs": [
    {
     "name": "stdout",
     "output_type": "stream",
     "text": [
      "The string a is: 大事赖独断而不赖众谋\n",
      "\n",
      "The length of this string <大事赖独断而不赖众谋> is 30\n",
      "\n"
     ]
    }
   ],
   "source": [
    "a = \"大事赖独断而不赖众谋\"\n",
    "print \"The string a is:\", a\n",
    "print\n",
    "\n",
    "print \"The length of this string <%s> is %d\" % (a, len(a))\n",
    "print"
   ]
  },
  {
   "cell_type": "code",
   "execution_count": 209,
   "metadata": {
    "collapsed": false
   },
   "outputs": [
    {
     "name": "stdout",
     "output_type": "stream",
     "text": [
      "取出字符串的第一个字符、最后一个字符、中间部分字符\n",
      "The first character of a is H\n",
      "\n",
      "The first five characters of a are Hello\n",
      "\n",
      "The last character of a is n\n",
      "\n",
      "The last character of a is n\n",
      "\n",
      "\n",
      "这部分很重要啊，字符的索引和切片操作是及其常用的。\n"
     ]
    }
   ],
   "source": [
    "a = \"Hello, welcome to Python\"\n",
    "\n",
    "print \"取出字符串的第一个字符、最后一个字符、中间部分字符\"\n",
    "print \"The first character of a is %s\\n\" % a[0]\n",
    "\n",
    "print \"The first five characters of a are %s\\n\" % a[0:5]\n",
    "\n",
    "print \"The last character of a is %s\\n\" % a[-1]\n",
    "print \"The last character of a is %s\\n\" % a[len(a)-1]\n",
    "print \"\\n这部分很重要啊，字符串的索引和切片操作是及其常用的。\""
   ]
  },
  {
   "cell_type": "code",
   "execution_count": 4,
   "metadata": {
    "collapsed": false
   },
   "outputs": [
    {
     "name": "stdout",
     "output_type": "stream",
     "text": [
      "遍历字符串\n",
      "o\n",
      "a\n",
      "o\n",
      "a\n",
      "o\n",
      "a\n",
      "o\n",
      "a\n",
      "输出符合特定要求的字符的位置\n",
      "\n",
      "1\n",
      "3\n",
      "5\n",
      "7\n",
      "\n",
      "知道吗？不经意间我们写出了Python的\n",
      "一个内置的标准函数find或者index,而且功能还更强大\n"
     ]
    }
   ],
   "source": [
    "a = \"oaoaoaoa\"\n",
    "\n",
    "print \"遍历字符串\"\n",
    "for i in a:\n",
    "    print i\n",
    "\n",
    "print \"输出符合特定要求的字符的位置\"\n",
    "print\n",
    "pos = 0\n",
    "for i in a:\n",
    "    pos += 1\n",
    "    if i == 'o':\n",
    "        print pos\n",
    "    #-------------------\n",
    "#-----------------------\n",
    "print '''\\n知道吗？不经意间我们写出了Python的\n",
    "一个内置的标准函数find或者index,而且功能还更强大'''\n",
    "\n",
    "print '''\\n自己尝试实现程序语言内建的函数是学习程序语言\n",
    "的很好方法。'''"
   ]
  },
  {
   "cell_type": "code",
   "execution_count": 211,
   "metadata": {
    "collapsed": false
   },
   "outputs": [
    {
     "name": "stdout",
     "output_type": "stream",
     "text": [
      "我们看看用内置函数如何找到所有 o 的位置\n",
      "\n",
      "内置函数find只能确定最先出现的 o 的位置\n",
      "因此，我们要在发现 o 之后，截取其后的字符串，再执行find操作\n",
      "1\n",
      "3\n",
      "5\n",
      "7\n"
     ]
    }
   ],
   "source": [
    "print \"我们看看用内置函数如何找到所有 o 的位置\\n\"\n",
    "a = \"oaoaoaoa\"\n",
    "\n",
    "print \"内置函数find只能确定最先出现的 o 的位置\"\n",
    "pos = a.find('o')\n",
    "\n",
    "print \"因此，我们要在发现 o 之后，截取其后的字符串，再执行find操作\"\n",
    "while 1:\n",
    "    print pos + 1\n",
    "    new = a[pos+1:].find('o')\n",
    "    if new == -1:\n",
    "        break\n",
    "    pos = new + pos + 1\n",
    "#help(str)"
   ]
  },
  {
   "cell_type": "code",
   "execution_count": 212,
   "metadata": {
    "collapsed": false
   },
   "outputs": [
    {
     "name": "stdout",
     "output_type": "stream",
     "text": [
      "\n",
      "利用split分割字符串\n",
      "\n",
      "['a', 'b', 'c', 'd', 'e', 'f', 'g']\n",
      "\n",
      "使用split命令就可以把字符串分成列表了，想取用哪一列都随便我了。\n",
      "\n"
     ]
    }
   ],
   "source": [
    "print\n",
    "print \"利用split分割字符串\\n\"\n",
    "str1 = \"a b c d e f g\"\n",
    "strL = str1.split(' ')\n",
    "print strL\n",
    "print \"\\n使用split命令就可以把字符串分成列表了，想取用哪一列都随便你了。\"\n",
    "#使用下面的命令查看可以对字符串进行的操作\n",
    "#help(str)"
   ]
  },
  {
   "cell_type": "code",
   "execution_count": 3,
   "metadata": {
    "collapsed": false
   },
   "outputs": [
    {
     "name": "stdout",
     "output_type": "stream",
     "text": [
      "字符串的连接\n",
      "\n",
      "Hello, Python\n",
      "\n",
      "原来字符串相加就可以连起来啊！\n",
      "\n",
      "注意，这不是连接字符串最好的方式。\n",
      "考虑到字符串是不可修改的，每次连接操作都是新开辟一个内存空间，\n",
      "把字符串存到里面，这样的连接操作执行几十万次会很影响运行速度。\n"
     ]
    }
   ],
   "source": [
    "print \"字符串的连接\\n\"\n",
    "\n",
    "a = \"Hello\"\n",
    "b = \"Python\"\n",
    "c = a + ', ' + b\n",
    "print c\n",
    "print \"\\n原来字符串相加就可以连起来啊！\\n\"\n",
    "print '''注意，这不是连接字符串最好的方式。\n",
    "考虑到字符串是不可修改的，每次连接操作都是新开辟一个内存空间，\n",
    "把字符串存到里面，这样的连接操作执行几十万次会很影响运行速度。'''"
   ]
  },
  {
   "cell_type": "code",
   "execution_count": 1,
   "metadata": {
    "collapsed": false
   },
   "outputs": [
    {
     "name": "stdout",
     "output_type": "stream",
     "text": [
      "去除字符串中特定的字符。通常我们在文件中读取的一行都包含换行符，\n",
      "linux下为\\n \n",
      "\n",
      "Currently, the string <a> is ** oneline\n",
      "**. \n",
      " The length of string <a> is ** 8 **. \n",
      " 我为什么换到下一行了？\n",
      "\n",
      "Currently, the string <a> is ** oneline **. \n",
      " The length of string <a> is ** 7 **. \n",
      " 删掉了换行符后，少了个字符，而且没换行！\n",
      "\n",
      "Currently, the string <a> is ** neline **. \n",
      " The length of string <a> is ** 6 **. 又少了个字符！！\n",
      "\n",
      "Currently, the string <a> is ** li **. \n",
      " The length of string <a> is ** 2 **. 又少字符了！！\n",
      "\n"
     ]
    }
   ],
   "source": [
    "print '''去除字符串中特定的字符。通常我们在文件中读取的一行都包含换行符，\n",
    "linux下为\\\\n \\n''' #\\\\转义字符\n",
    "\n",
    "a = \"oneline\\n\"\n",
    "print \"Currently, the string <a> is **\", a, \"**. \\\n",
    "\\n The length of string <a> is **\", len(a),\"**. \\\n",
    "\\n 我为什么换到下一行了？\\n\"\n",
    "\n",
    "a = a.strip()\n",
    "print \"Currently, the string <a> is **\", a, \"**. \\\n",
    "\\n The length of string <a> is **\", len(a),\"**. \\\n",
    "\\n 删掉了换行符后，少了个字符，而且没换行！\\n\"\n",
    "\n",
    "a = a.strip('o')\n",
    "print \"Currently, the string <a> is **\", a, \"**. \\\n",
    "\\n The length of string <a> is **\", len(a), \"**. \\\n",
    "又少了个字符！！\\n\"\n",
    "\n",
    "a = a.strip('one')\n",
    "print \"Currently, the string <a> is **\", a, \"**. \\\n",
    "\\n The length of string <a> is **\", len(a), \"**. \\\n",
    "又少字符了！！\\n\""
   ]
  },
  {
   "cell_type": "code",
   "execution_count": 5,
   "metadata": {
    "collapsed": false
   },
   "outputs": [
    {
     "name": "stdout",
     "output_type": "stream",
     "text": [
      "字符串的替换\n",
      "\n",
      "原始字符串是: Hello, Python\n",
      "\n",
      "替换后的字符串是: Welcome, Python\n",
      "\n",
      "HellO, PythOn\n",
      "所有的o都被替换了！\n",
      "\n",
      "如果我只第一个o怎么办呢？\n",
      "\n",
      "HellO, Python\n"
     ]
    }
   ],
   "source": [
    "print \"字符串的替换\\n\"\n",
    "\n",
    "a = \"Hello, Python\"\n",
    "b = a.replace(\"Hello\",\"Welcome\")\n",
    "print \"原始字符串是:\", a\n",
    "print\n",
    "print \"替换后的字符串是:\", b\n",
    "print\n",
    "\n",
    "c = a.replace(\"o\",\"O\")\n",
    "print c\n",
    "print \"所有的o都被替换了！\\n\"\n",
    "\n",
    "print \"如果我只替换第一个o怎么办呢？\\n\"\n",
    "c = a.replace(\"o\",\"O\",1)\n",
    "print c"
   ]
  },
  {
   "cell_type": "code",
   "execution_count": 3,
   "metadata": {
    "collapsed": false
   },
   "outputs": [
    {
     "name": "stdout",
     "output_type": "stream",
     "text": [
      "忙处事为，常向闲中先检点，过举自稀\n",
      "动时念想，预从静里密操持，非心自息。\n"
     ]
    }
   ],
   "source": [
    "a = \"忙处事为，常向闲中先检点，过举自稀；动时念想，预从静里密操持，非心自息。\"\n",
    "print a.replace('；','\\n')"
   ]
  },
  {
   "cell_type": "code",
   "execution_count": null,
   "metadata": {
    "collapsed": false
   },
   "outputs": [],
   "source": [
    "print \"字符串帮助\"\n",
    "help(str)"
   ]
  },
  {
   "cell_type": "code",
   "execution_count": 4,
   "metadata": {
    "collapsed": false
   },
   "outputs": [
    {
     "name": "stdout",
     "output_type": "stream",
     "text": [
      "大小写判断和转换\n",
      "All elements in <Sdsdsd> is lowercase: False\n",
      "Transfer all elments in <Sdsdsd> to lowerse <sdsdsd>\n",
      "Transfer all elments in <Sdsdsd> to upperse <SDSDSD>\n"
     ]
    }
   ],
   "source": [
    "print \"大小写判断和转换\"\n",
    "a = 'Sdsdsd'\n",
    "print \"All elements in <%s> is lowercase: %s\" % (a, a.islower())\n",
    "print \"Transfer all elments in <%s> to lowerse <%s>\" % (a, a.lower())\n",
    "print \"Transfer all elments in <%s> to upperse <%s>\" % (a, a.upper())"
   ]
  },
  {
   "cell_type": "code",
   "execution_count": 218,
   "metadata": {
    "collapsed": false
   },
   "outputs": [
    {
     "name": "stdout",
     "output_type": "stream",
     "text": [
      "这个是个保留节目，有兴趣的看，无兴趣的跳过不影响学习\n",
      "字符串是不可修改的，同一个变量名字赋不同的只实际是产生了多个不同的变量。不同的变量名字赋同样的值，用于比较时相等，但引用不同的区域\n",
      "The memory index of b is 37117024\n",
      "The memory index of b is 56557120\n",
      "The memory index of b is 57454016\n",
      "The memory index of b is 57334640\n",
      "The memory index of b is 57334640\n",
      "The memory index of b is 57350952\n",
      "The memory index of b is 57201408\n",
      "The memory index of b is 57142240\n"
     ]
    }
   ],
   "source": [
    "print \"这个是个保留节目，有兴趣的看，无兴趣的跳过不影响学习\"\n",
    "print '''字符串是不可修改的，\n",
    "同一个变量名字赋不同的只实际是产生了多个不同的变量。\n",
    "不同的变量名字赋同样的值，用于比较时相等，但引用不同的区域'''\n",
    "\n",
    "\n",
    "b = \"123456\"\n",
    "#print b\n",
    "print \"The memory index of b is\", id(b)\n",
    "for i in range(1,15,2):\n",
    "    b = b + '123456'\n",
    "    #print b\n",
    "    print \"The memory index of b is\", id(b)\n",
    "    "
   ]
  },
  {
   "cell_type": "code",
   "execution_count": 219,
   "metadata": {
    "collapsed": false
   },
   "outputs": [
    {
     "name": "stdout",
     "output_type": "stream",
     "text": [
      "字符串转数组\n",
      "['a', 'r', 'r', 'a', 'y']\n",
      "yarra\n"
     ]
    }
   ],
   "source": [
    "print \"字符串转数组\"\n",
    "str1 = \"array\"\n",
    "print list(str1)\n",
    "a = list(str1)\n",
    "a.reverse()\n",
    "print ''.join(a)"
   ]
  },
  {
   "cell_type": "code",
   "execution_count": 3,
   "metadata": {
    "collapsed": false
   },
   "outputs": [
    {
     "name": "stdout",
     "output_type": "stream",
     "text": [
      "数字字符串转数值\n",
      "1231 124\n",
      "124.5\n",
      "从文件或命令行参数中取出的数字都是字符串形式出现，\n",
      "做四则运算时要先用int 或 float转换。\n"
     ]
    }
   ],
   "source": [
    "print \"数字字符串转数值\"\n",
    "a = '123'\n",
    "print a+'1', int(a)+1\n",
    "a = '123.5'\n",
    "#print a + 1\n",
    "print float(a)+1\n",
    "print '''从文件或命令行参数中取出的数字都是字符串形式出现，\n",
    "做四则运算时要先用int 或 float转换。'''"
   ]
  },
  {
   "cell_type": "markdown",
   "metadata": {},
   "source": [
    "### 列表操作"
   ]
  },
  {
   "cell_type": "code",
   "execution_count": 220,
   "metadata": {
    "collapsed": false
   },
   "outputs": [
    {
     "name": "stdout",
     "output_type": "stream",
     "text": [
      "#构建一个数组\n",
      "[1, 2, 3, 4, 5]\n",
      "\n",
      "The first element is 1.\n",
      "\n",
      "The last element is 5.\n",
      "\n",
      "The first two elements are [1, 2]\n",
      "\n",
      "数组索引和切片操作与字符串是一样一样的，而且都很重要。\n"
     ]
    }
   ],
   "source": [
    "print \"#构建一个数组\"\n",
    "aList = [1,2,3,4,5]\n",
    "print aList\n",
    "print\n",
    "print \"The first element is %d.\" % aList[0]\n",
    "print\n",
    "print \"The last element is %d.\" % aList[-1]\n",
    "print\n",
    "print \"The first two elements are\", aList[:2]\n",
    "print \"\\n数组索引和切片操作与字符串是一样一样的，而且都很重要。\""
   ]
  },
  {
   "cell_type": "code",
   "execution_count": 221,
   "metadata": {
    "collapsed": false
   },
   "outputs": [
    {
     "name": "stdout",
     "output_type": "stream",
     "text": [
      "#向数组中增加元素\n",
      "[6]\n",
      "\n",
      "#向数组中增加一个数组\n",
      "\n",
      "[6, 'a', 'b', 'c']\n"
     ]
    }
   ],
   "source": [
    "aList = []\n",
    "print \"#向数组中增加元素\"\n",
    "aList.append(6)\n",
    "print aList\n",
    "\n",
    "print \"\\n#向数组中增加一个数组\"\n",
    "print \n",
    "bList = ['a','b','c']\n",
    "aList.extend(bList)\n",
    "print aList"
   ]
  },
  {
   "cell_type": "code",
   "execution_count": 5,
   "metadata": {
    "collapsed": false
   },
   "outputs": [
    {
     "name": "stdout",
     "output_type": "stream",
     "text": [
      "在数组中删除元素\n",
      "\n",
      "[1, 2, 4, 3, 5]\n",
      "\n",
      "[1, 2, 4, 5]\n",
      "\n",
      "pop和remove是不一样的，remove是移除等于给定值的元素，\n",
      "pop是移除给定位置的元素\n",
      "\n"
     ]
    }
   ],
   "source": [
    "aList = [1,2,3,4,3,5]\n",
    "print \"在数组中删除元素\"\n",
    "aList.remove(3) #只删除第一个匹配的 3 \n",
    "print\n",
    "print aList\n",
    "\n",
    "aList.pop(3) #移除元素的下标为3的字符\n",
    "print\n",
    "print aList\n",
    "print '''\\npop和remove是不一样的，remove是移除等于给定值的元素，\n",
    "pop是移除给定位置的元素\\n'''"
   ]
  },
  {
   "cell_type": "code",
   "execution_count": 223,
   "metadata": {
    "collapsed": false
   },
   "outputs": [
    {
     "name": "stdout",
     "output_type": "stream",
     "text": [
      "#遍历数组的每个元素\n",
      "\n",
      "1\n",
      "2\n",
      "3\n",
      "4\n",
      "5\n",
      "#输出数组中大于3的元素\n",
      "\n",
      "4\n",
      "5\n"
     ]
    }
   ],
   "source": [
    "aList = [1,2,3,4,5]\n",
    "\n",
    "print \"#遍历数组的每个元素\"\n",
    "print\n",
    "for ele in aList:\n",
    "    print ele\n",
    "\n",
    "print \"#输出数组中大于3的元素\"\n",
    "print \n",
    "\n",
    "for ele in aList:\n",
    "    if ele > 3:\n",
    "        print ele"
   ]
  },
  {
   "cell_type": "code",
   "execution_count": 224,
   "metadata": {
    "collapsed": false
   },
   "outputs": [
    {
     "name": "stdout",
     "output_type": "stream",
     "text": [
      "#输出数组中大于3,且小于10的元素\n",
      "\n",
      "4\n",
      "5\n",
      "6\n",
      "7\n",
      "8\n",
      "9\n"
     ]
    }
   ],
   "source": [
    "aList = [i for i in range(30)]\n",
    "print \"#输出数组中大于3,且小于10的元素\"\n",
    "print \n",
    "\n",
    "for ele in aList:\n",
    "    if ele > 3 and ele < 10: #逻辑与，当两个条件都符合时才输出\n",
    "        print ele"
   ]
  },
  {
   "cell_type": "code",
   "execution_count": 6,
   "metadata": {
    "collapsed": false
   },
   "outputs": [
    {
     "name": "stdout",
     "output_type": "stream",
     "text": [
      "#输出数组中大于25,或小于5的元素\n",
      "\n",
      "0\n",
      "1\n",
      "2\n",
      "3\n",
      "4\n",
      "26\n",
      "27\n",
      "28\n",
      "29\n"
     ]
    }
   ],
   "source": [
    "aList = [i for i in range(30)]\n",
    "print \"#输出数组中大于25,或小于5的元素\"\n",
    "print \n",
    "\n",
    "for ele in aList:\n",
    "    if ele > 25 or ele < 5: #逻辑或，当两个条件满足一个时就输出\n",
    "        print ele"
   ]
  },
  {
   "cell_type": "code",
   "execution_count": 6,
   "metadata": {
    "collapsed": false
   },
   "outputs": [
    {
     "name": "stdout",
     "output_type": "stream",
     "text": [
      "#输出数组中大于3,且小于10的元素\n",
      "\n",
      "0\n",
      "1\n",
      "2\n",
      "3\n"
     ]
    }
   ],
   "source": [
    "aList = [i for i in range(30)]\n",
    "print \"#输出数组中大于3,且小于10的元素\"\n",
    "print \n",
    "\n",
    "for ele in aList:\n",
    "    #逻辑非，当不符合给定条件时才输出。\n",
    "    #对于这个例子就是ele不大于3时才输出，相当于 if ele <= 3:\n",
    "    if not ele > 3: \n",
    "        print ele"
   ]
  },
  {
   "cell_type": "code",
   "execution_count": 5,
   "metadata": {
    "collapsed": false
   },
   "outputs": [
    {
     "name": "stdout",
     "output_type": "stream",
     "text": [
      "连接数组的每个元素（每个元素必须为字符串）\n",
      "[1, 2, 3, 4, 5]\n",
      "['1', '2', '3', '4', '5']\n",
      "1\t2\t3\t4\t5\n",
      "1:2:3:4:5\n",
      "12345\n",
      "\n",
      "先把字符串存到列表，再使用join连接，\n",
      "是最合适的连接大量字符串的方式\n"
     ]
    }
   ],
   "source": [
    "print \"连接数组的每个元素（每个元素必须为字符串）\"\n",
    "aList = [1,2,3,4,5] \n",
    "#print '\\t'.join(aList) #wrong\n",
    "\n",
    "print aList\n",
    "aList = [str(i) for i in aList]\n",
    "print aList\n",
    "print '\\t'.join(aList) \n",
    "\n",
    "print ':'.join(aList)\n",
    "print ''.join(aList)\n",
    "\n",
    "print '''\\n先把字符串存到列表，再使用join连接，\n",
    "是最合适的连接大量字符串的方式'''"
   ]
  },
  {
   "cell_type": "code",
   "execution_count": 228,
   "metadata": {
    "collapsed": false
   },
   "outputs": [
    {
     "name": "stdout",
     "output_type": "stream",
     "text": [
      "数组反序\n",
      "[5, 4, 3, 2, 1]\n",
      "数组元素排序\n",
      "[1, 2, 3, 4, 5]\n"
     ]
    }
   ],
   "source": [
    "aList = [1,2,3,4,5]\n",
    "\n",
    "print \"数组反序\"\n",
    "aList.reverse()\n",
    "print aList\n",
    "\n",
    "print \"数组元素排序\"\n",
    "aList.sort()\n",
    "print aList\n",
    "\n",
    "#print \"lambda排序，保留节目\"\n",
    "#aList.sort(key=lambda x: x*(-1))\n",
    "#print aList"
   ]
  },
  {
   "cell_type": "markdown",
   "metadata": {},
   "source": [
    "### 元组操作"
   ]
  },
  {
   "cell_type": "code",
   "execution_count": 229,
   "metadata": {
    "collapsed": false
   },
   "outputs": [
    {
     "name": "stdout",
     "output_type": "stream",
     "text": [
      "构建一个元组\n",
      "set([1, 2, 3])\n",
      "增加一个元素\n",
      "set([1, 2, 3, 4])\n",
      "set([1, 2, 3, 4])\n"
     ]
    }
   ],
   "source": [
    "print \"构建一个元组\"\n",
    "aSet = set([1,2,3])\n",
    "print aSet\n",
    "\n",
    "print \"增加一个元素\"\n",
    "aSet.add(4)\n",
    "print aSet\n",
    "aSet.add(3)\n",
    "print aSet"
   ]
  },
  {
   "cell_type": "code",
   "execution_count": 230,
   "metadata": {
    "collapsed": false
   },
   "outputs": [
    {
     "name": "stdout",
     "output_type": "stream",
     "text": [
      "采用转换为元组去除列表中的重复元素\n",
      "[1, 2, 1, 3, 1, 5, 2, 4, 3, 3, 6]\n",
      "set([1, 2, 3, 4, 5, 6])\n",
      "[1, 2, 3, 4, 5, 6]\n"
     ]
    }
   ],
   "source": [
    "print \"采用转换为元组去除列表中的重复元素\"\n",
    "aList = [1,2,1,3,1,5,2,4,3,3,6]\n",
    "print aList\n",
    "print set(aList)\n",
    "print list(set(aList))"
   ]
  },
  {
   "cell_type": "markdown",
   "metadata": {},
   "source": [
    "### Range使用"
   ]
  },
  {
   "cell_type": "code",
   "execution_count": 231,
   "metadata": {
    "collapsed": false
   },
   "outputs": [
    {
     "name": "stdout",
     "output_type": "stream",
     "text": [
      "使用range，产生一系列的字符串\n",
      "0\n",
      "4\n",
      "8\n",
      "12\n",
      "通过指定步长产生4的倍数的数\n",
      "0\n",
      "4\n",
      "8\n",
      "12\n"
     ]
    }
   ],
   "source": [
    "print \"使用range，产生一系列的字符串\"\n",
    "for i in range(16):\n",
    "    if i % 4 == 0:\n",
    "        print i\n",
    "print \"通过指定步长产生4的倍数的数\"\n",
    "for i in range(0,16,4):\n",
    "    print i"
   ]
  },
  {
   "cell_type": "markdown",
   "metadata": {},
   "source": [
    "### 字典操作"
   ]
  },
  {
   "cell_type": "code",
   "execution_count": 232,
   "metadata": {
    "collapsed": false
   },
   "outputs": [
    {
     "name": "stdout",
     "output_type": "stream",
     "text": [
      "#构建一个字典\n",
      "打印字典\n",
      "{'a': 'b', 1: 2, 3: 4, 'd': 'c'}\n",
      "向字典中添加键值对\n",
      "{'a': 'b', 1: 2, 3: 4, 'e': 'f', 'd': 'c', 5: 6}\n"
     ]
    }
   ],
   "source": [
    "print \"#构建一个字典\"\n",
    "aDict = {1:2,3:4,'a':'b','d':'c'}\n",
    "\n",
    "print \"打印字典\"\n",
    "print aDict\n",
    "\n",
    "print \"向字典中添加键值对\"\n",
    "aDict[5] = 6\n",
    "aDict['e'] = 'f'\n",
    "print aDict"
   ]
  },
  {
   "cell_type": "code",
   "execution_count": 233,
   "metadata": {
    "collapsed": false
   },
   "outputs": [
    {
     "name": "stdout",
     "output_type": "stream",
     "text": [
      "\n",
      "输出字典的键值对(key-value)\n",
      "a b\n",
      "1 2\n",
      "3 4\n",
      "e f\n",
      "d c\n",
      "5 6\n"
     ]
    }
   ],
   "source": [
    "print\n",
    "aDict = {1:2,3:4,'a':'b','d':'c'}\n",
    "print \"输出字典的键值对(key-value)\"\n",
    "for key, value in aDict.items():\n",
    "    print key,value"
   ]
  },
  {
   "cell_type": "code",
   "execution_count": 234,
   "metadata": {
    "collapsed": false
   },
   "outputs": [
    {
     "name": "stdout",
     "output_type": "stream",
     "text": [
      "有序输出字典的键值对(key-value)\n",
      "['a', 1, 3, 'e', 'd', 5]\n",
      "[1, 3, 5, 'a', 'd', 'e']\n",
      "1 2\n",
      "3 4\n",
      "5 6\n",
      "a b\n",
      "d c\n",
      "e f\n"
     ]
    }
   ],
   "source": [
    "print \"有序输出字典的键值对(key-value)\"\n",
    "aDict = {1:2,3:4,'a':'b','d':'c'}\n",
    "keyL = aDict.keys()\n",
    "print keyL\n",
    "keyL.sort()\n",
    "print keyL\n",
    "for key in keyL:\n",
    "    print key, aDict[key]"
   ]
  },
  {
   "cell_type": "code",
   "execution_count": 235,
   "metadata": {
    "collapsed": false
   },
   "outputs": [
    {
     "name": "stdout",
     "output_type": "stream",
     "text": [
      "字典的value可以是一个列表\n",
      "{}\n",
      "{'key': []}\n",
      "{'key': [1, 2]}\n",
      "\n",
      "key2\n",
      "\t3\n",
      "\t4\n",
      "\t5\n",
      "key\n",
      "\t1\n",
      "\t2\n",
      "这个在存取读入的文件时会很有用的，下面的实战练习会用到这个。\n"
     ]
    }
   ],
   "source": [
    "print \"字典的value可以是一个列表\"\n",
    "a = 'key'\n",
    "b = 'key2'\n",
    "aDict = {}\n",
    "print aDict\n",
    "aDict[a] = []\n",
    "print aDict\n",
    "aDict[a].append(1)\n",
    "aDict[a].append(2)\n",
    "print aDict\n",
    "aDict[b] = [3,4,5]\n",
    "\n",
    "print\n",
    "for key, subL in aDict.items():\n",
    "    print key\n",
    "    for item in subL:\n",
    "        print \"\\t%s\" % item\n",
    "\n",
    "print \"这个在存取读入的文件时会很有用的，下面的实战练习会用到这个。\""
   ]
  },
  {
   "cell_type": "code",
   "execution_count": 8,
   "metadata": {
    "collapsed": false
   },
   "outputs": [
    {
     "name": "stdout",
     "output_type": "stream",
     "text": [
      "事理因人言而悟者，有悟还有迷，总不如自悟之了了；意兴从外境而得者，有得还有失，总不如自得之休休。\n",
      "书不如思贵，意不可言传\n"
     ]
    }
   ],
   "source": [
    "aDict = {'菜根谭':'事理因人言而悟者，有悟还有迷，总不如自悟之了了；意兴从外境而得者，有得还有失，总不如自得之休休。'}\n",
    "print aDict['菜根谭']\n",
    "aDict['庄子'] = '书不如思贵，意不可言传'\n",
    "print aDict['庄子'] "
   ]
  },
  {
   "cell_type": "code",
   "execution_count": 6,
   "metadata": {
    "collapsed": false
   },
   "outputs": [
    {
     "name": "stdout",
     "output_type": "stream",
     "text": [
      "字典的value也可以是字典\n",
      "{}\n",
      "{'key': {}}\n",
      "{'key': {'subkey': 'subvalue'}}\n",
      "\n",
      "key2\n",
      "\t1\t2\n",
      "\t3\t4\n",
      "key\n",
      "\tsubkey\tsubvalue\n",
      "\n",
      "这个在存取读入的文件时会很有用的，下面的实战练习会用到这个。\n"
     ]
    }
   ],
   "source": [
    "print \"字典的value也可以是字典\"\n",
    "a = 'key'\n",
    "b = 'key2'\n",
    "aDict = {}\n",
    "print aDict\n",
    "aDict[a] = {}\n",
    "print aDict\n",
    "aDict[a]['subkey'] = 'subvalue'\n",
    "print aDict\n",
    "aDict[b] = {1:2,3:4}\n",
    "\n",
    "#aDict[(a,b)] = 2\n",
    "#aDict['a'] = 2\n",
    "#aDict['b'] = 2\n",
    "\n",
    "print\n",
    "for key, subD in aDict.items():\n",
    "    print key\n",
    "    for subKey, subV in subD.items():\n",
    "        print \"\\t%s\\t%s\" % (subKey, subV)\n",
    "\n",
    "print \"\\n这个在存取读入的文件时会很有用的，下面的实战练习会用到这个。\""
   ]
  },
  {
   "cell_type": "markdown",
   "metadata": {},
   "source": [
    "# 输入输出"
   ]
  },
  {
   "cell_type": "markdown",
   "metadata": {},
   "source": [
    "## 交互式输入输出"
   ]
  },
  {
   "cell_type": "markdown",
   "metadata": {},
   "source": [
    "在很多时候，你会想要让你的程序与用户（可能是你自己）交互。你会从用户那里得到输入，然后打印一些结果。我们可以分别使用raw_input和print语句来完成这些功能。"
   ]
  },
  {
   "cell_type": "code",
   "execution_count": null,
   "metadata": {
    "collapsed": false
   },
   "outputs": [
    {
     "name": "stdout",
     "output_type": "stream",
     "text": [
      "Please input a string\n",
      "> a\n",
      "The string you typed in is:  a\n"
     ]
    }
   ],
   "source": [
    "a = raw_input(\"Please input a string\\n> \")\n",
    "\n",
    "print \"The string you typed in is: \", a"
   ]
  },
  {
   "cell_type": "code",
   "execution_count": 7,
   "metadata": {
    "collapsed": false
   },
   "outputs": [
    {
     "name": "stdout",
     "output_type": "stream",
     "text": [
      "这是一个保留例子，仅供玩耍\n",
      "\n",
      "Please input a number to check if you are lucky enough to guess right: \n",
      "5\n",
      "\n",
      "Your are so smart!!! ^_^ ^_^\n",
      "Please input a number to check if you are lucky enough to guess right: \n",
      "7\n",
      "\n",
      "Sorry, but you are not right. %>_<%\n",
      "Do you want to try again? [Y/N] \n",
      "Y\n",
      "\n",
      "Here comes another run. Enjoy!\n",
      "\n",
      "Please input a number to check if you are lucky enough to guess right: \n",
      "8\n",
      "\n",
      "Sorry, but you are not right. %>_<%\n",
      "Do you want to try again? [Y/N] \n",
      "N\n",
      "\n",
      "Bye-bye\n",
      "\n"
     ]
    }
   ],
   "source": [
    "print \"这是一个保留例子，仅供玩耍\\n\"\n",
    "lucky_num = 5\n",
    "c = 0\n",
    "\n",
    "while True:\n",
    "    b = int(raw_input(\"Please input a number to check if you are \\\n",
    "lucky enough to guess right: \\n\"))\n",
    "    if b == lucky_num:\n",
    "        print \"\\nYour are so smart!!! ^_^ ^_^\"\n",
    "        #----------------------------------------------------\n",
    "    #--------------------------------------------------------\n",
    "    else:\n",
    "        print \"\\nSorry, but you are not right. %>_<%\"\n",
    "        while 1:\n",
    "            c = raw_input(\"Do you want to try again? [Y/N] \\n\")\n",
    "            if c == 'Y':\n",
    "                try_again = 1\n",
    "                break                \n",
    "            elif c == 'N':\n",
    "                try_again = 0\n",
    "                break\n",
    "            else:\n",
    "                print \"I can not understand you, please check your input. \\n\"\n",
    "                continue\n",
    "        #----------------------------------------------------\n",
    "        if try_again:\n",
    "            print \"\\nHere comes another run. Enjoy!\\n\"\n",
    "            continue\n",
    "        else:\n",
    "            print \"\\nBye-bye\\n\"\n",
    "            break"
   ]
  },
  {
   "cell_type": "markdown",
   "metadata": {},
   "source": [
    "## 文件读写"
   ]
  },
  {
   "cell_type": "markdown",
   "metadata": {},
   "source": [
    "文件读写是最常见的输入和输出操作。你可以实用`file`或`open`来实现。"
   ]
  },
  {
   "cell_type": "code",
   "execution_count": 8,
   "metadata": {
    "collapsed": false
   },
   "outputs": [
    {
     "name": "stdout",
     "output_type": "stream",
     "text": [
      "新建一个文件\n",
      "以写入模式(w)打开一个文件并命名为(Test_file.txt)\n"
     ]
    }
   ],
   "source": [
    "print \"新建一个文件\"\n",
    "\n",
    "context = '''The best way to learn python contains two steps:\n",
    "1. Rember basic things mentionded here masterly.\n",
    "\n",
    "2. Practise with real demands.\n",
    "'''\n",
    "\n",
    "print \"以写入模式(w)打开一个文件并命名为(Test_file.txt)\"\n",
    "fh = open(\"Test_file.txt\",\"w\") \n",
    "print >>fh, context\n",
    "#fh.write(context)\n",
    "fh.close() #文件操作完成后必须关闭文件句柄"
   ]
  },
  {
   "cell_type": "code",
   "execution_count": 7,
   "metadata": {
    "collapsed": false
   },
   "outputs": [
    {
     "name": "stdout",
     "output_type": "stream",
     "text": [
      "以只读模式(r)读入一个名为(Test_file.txt)的文件\n",
      "\n",
      "The best way to learn python contains two steps:\n",
      "\n",
      "1. Rember basic things mentionded here masterly.\n",
      "\n",
      "\n",
      "\n",
      "2. Practise with real demands.\n",
      "\n",
      "\n",
      "\n"
     ]
    }
   ],
   "source": [
    "print \"以只读模式(r)读入一个名为(Test_file.txt)的文件\"\n",
    "\n",
    "print\n",
    "\n",
    "for line in open(\"Test_file.txt\"):\n",
    "    print line"
   ]
  },
  {
   "cell_type": "code",
   "execution_count": 10,
   "metadata": {
    "collapsed": false
   },
   "outputs": [
    {
     "name": "stdout",
     "output_type": "stream",
     "text": [
      "避免中间空行的输出。\n",
      "从文件中读取的每一行都带有一个换行符，\n",
      "而Python的print默认会在输出结束时加上换行符，\n",
      "因此打印一行会空出一行。为了解决这个问题，有下面两套方案。\n",
      "在print语句后加上逗号(,)可以阻止Python对每次输出自动添加的换行符\n",
      "\n",
      "The best way to learn python contains two steps:\n",
      "1. Rember basic things mentionded here masterly.\n",
      "\n",
      "2. Practise with real demands.\n",
      "\n",
      "\n",
      "去掉每行自身的换行符\n",
      "The best way to learn python contains two steps:\n",
      "1. Rember basic things mentionded here masterly.\n",
      "\n",
      "2. Practise with real demands.\n",
      "\n"
     ]
    }
   ],
   "source": [
    "print '''避免中间空行的输出。\n",
    "从文件中读取的每一行都带有一个换行符，\n",
    "而Python的print默认会在输出结束时加上换行符，\n",
    "因此打印一行会空出一行。为了解决这个问题，有下面两套方案。'''\n",
    "\n",
    "print \"在print语句后加上逗号(,)可以阻止Python对每次输出自动添加的换行符\"\n",
    "print\n",
    "\n",
    "for line in open(\"Test_file.txt\"):\n",
    "    print line,\n",
    "\n",
    "print\n",
    "\n",
    "print \"去掉每行自身的换行符\"\n",
    "for line in open(\"Test_file.txt\"):\n",
    "    print line.strip()"
   ]
  },
  {
   "cell_type": "markdown",
   "metadata": {},
   "source": [
    "# 实战练习（一）"
   ]
  },
  {
   "cell_type": "markdown",
   "metadata": {},
   "source": [
    "## 背景知识"
   ]
  },
  {
   "cell_type": "markdown",
   "metadata": {},
   "source": [
    "**1. FASTA文件格式**\n",
    "\n",
    "> \\>seq_name_1\n",
    "\n",
    "> sequence1\n",
    "\n",
    "> \\>seq_name_2\n",
    "\n",
    ">sequence2\n",
    "\n",
    "**2. FASTQ文件格式**\n",
    "\n",
    "> @HWI-ST1223:80:D1FMTACXX:2:1101:1243:2213 1:N:0:AGTCAA\n",
    "\n",
    "> TCTGTGTAGCCNTGGCTGTCCTGGAACTCACTTTGTAGACCAGGCTGGCATGCA\n",
    "\n",
    "> +\n",
    "\n",
    "> BCCFFFFFFHH#4AFHIJJJJJJJJJJJJJJJJJIJIJJJJJGHIJJJJJJJJJ\n",
    "\n",
    "<img src=\"Image/fastq_format.png\">"
   ]
  },
  {
   "cell_type": "markdown",
   "metadata": {},
   "source": [
    "## 作业 (一)"
   ]
  },
  {
   "cell_type": "markdown",
   "metadata": {},
   "source": [
    "1. 给定FASTA格式的文件(test1.fa 和 test2.fa)，写一个程序 `cat.py` 读入文件，并输出到屏幕\n",
    "    * 用到的知识点\n",
    "        * open(file)\n",
    "        * for .. in loop\n",
    "        * print\n",
    "        * the amazng , or strip() function\n",
    "2. 给定FASTQ格式的文件(test1.fq), 写一个程序 `cat.py` 读入文件，并输出到屏幕\n",
    "    * 用到的知识点\n",
    "        * 同上\n",
    "3. 写程序 `splitName.py`, 读入test2.fa, 并取原始序列名字第一个空格前的名字为处理后的序列名字，输出到屏幕\n",
    "    * 用到的知识点\n",
    "        * split\n",
    "        * 字符串的索引\n",
    "    * 输出格式为：\n",
    "```\n",
    ">NM_001011874\n",
    "gcggcggcgggcgagcgggcgctggagtaggagctg.......\n",
    "```\n",
    "\n",
    "4. 写程序 `formatFasta.py`, 读入test2.fa，把每条FASTA序列连成一行然后输出\n",
    "    * 用到的知识点\n",
    "        * join\n",
    "        * strip    \n",
    "    * 输出格式为:\n",
    "```\n",
    "    >NM_001011874\n",
    "    gcggcggcgggc......TCCGCTG......GCGTTCACC......CGGGGTCCGGAG\n",
    "```\n",
    "4. 写程序 `formatFasta-2.py`, 读入test2.fa，把每条FASTA序列分割成80个字母一行的序列\n",
    "    * 用到的知识点\n",
    "        * 字符串切片操作\n",
    "        * range\n",
    "    * 输出格式为\n",
    "```    \n",
    "    >NM_001011874\n",
    "    gcggcggcgc.(60个字母).TCCGCTGACG #(每行80个字母)\n",
    "    acgtgctacg.(60个字母).GCGTTCACCC\n",
    "    ACGTACGATG(最后一行可不足80个字母)\n",
    "```     \n",
    "4. 写程序 `sortFasta.py`, 读入test2.fa, 并取原始序列名字第一个空格前的名字为处理后的序列名字，排序后输出\n",
    "    * 用到的知识点\n",
    "        * sort\n",
    "        * dict\n",
    "        * aDict[key] = []\n",
    "        * aDict[key].append(value)\n",
    "        \n",
    "5. 提取给定名字的序列\n",
    "    * 写程序 `grepFasta.py`, 提取fasta.name中名字对应的test2.fa的序列，并输出到屏幕。\n",
    "    * 写程序 `grepFastq.py`, 提取fastq.name中名字对应的test1.fq的序列，并输出到文件。\n",
    "        * 用到的知识点\n",
    "            * print >>fh, or fh.write()\n",
    "            * 取模运算，4 % 2 == 0\n",
    "    \n",
    "6. 写程序 `screenResult.py`, 筛选test.expr中foldChange大于2的基因并且padj小于0.05的基，可以输出整行或只输出基因名字\n",
    "    * 用到的知识点\n",
    "        * 逻辑与操作符 and \n",
    "        * 文件中读取的内容都为字符串，需要用int转换为整数，float转换为浮点数\n",
    "\n",
    "6. 写程序 `transferMultipleColumToMatrix.py` 将文件(multipleColExpr.txt)中基因在多个组织中的表达数据转换为矩阵形式\n",
    "    * 用到的知识点\n",
    "        * aDict['key'] = {}\n",
    "        * aDict['key']['key2'] = value\n",
    "        * if key not in aDict\n",
    "        * aDict = {'ENSG00000000003': {\"A-431\": 21.3, \"A-549\", 32.5,...},\"ENSG00000000003\":{},}\n",
    "    * 输入格式(只需要前3列就可以)\n",
    "```\n",
    "Gene    Sample  Value   Unit    Abundance\n",
    "ENSG00000000003 A-431   21.3    FPKM    Medium\n",
    "ENSG00000000003 A-549   32.5    FPKM    Medium\n",
    "ENSG00000000003 AN3-CA  38.2    FPKM    Medium\n",
    "ENSG00000000003 BEWO    31.4    FPKM    Medium\n",
    "ENSG00000000003 CACO-2  63.9    FPKM    High\n",
    "ENSG00000000005 A-431   0.0     FPKM    Not detected\n",
    "ENSG00000000005 A-549   0.0     FPKM    Not detected\n",
    "ENSG00000000005 AN3-CA  0.0     FPKM    Not detected\n",
    "ENSG00000000005 BEWO    0.0     FPKM    Not detected\n",
    "ENSG00000000005 CACO-2  0.0     FPKM    Not detected\n",
    "```\n",
    "    * 输出格式\n",
    "```\n",
    "Name\tA-431\tA-549\tAN3-CA\tBEWO\tCACO-2\n",
    "ENSG00000000460\t25.2\t14.2\t10.6\t24.4\t14.2\n",
    "ENSG00000000938\t0.0\t0.0\t0.0\t0.0\t0.0\n",
    "ENSG00000001084\t19.1\t155.1\t24.4\t12.6\t23.5\n",
    "ENSG00000000457\t2.8\t3.4\t3.8\t5.8\t2.9\n",
    "```\n",
    "\n",
    "6. 写程序 `reverseComplementary.py`计算序列 `ACGTACGTACGTCACGTCAGCTAGAC`的反向互补序列\n",
    "    * 用到的知识点\n",
    "        * reverse\n",
    "        * list(seq)\n",
    "7. 写程序 `collapsemiRNAreads.py`转换smRNA-Seq的测序数据\n",
    "    * 输入文件格式(mir.collapse, tab-分割的两列文件，第一列为序列，第二列为序列被测到的次数)\n",
    "```\n",
    "        ID_REF        VALUE\n",
    "        ACTGCCCTAAGTGCTCCTTCTGGC        2\n",
    "        ATAAGGTGCATCTAGTGCAGATA        25\n",
    "        TGAGGTAGTAGTTTGTGCTGTTT        100\n",
    "        TCCTACGAGTTGCATGGATTC        4\n",
    "```\n",
    "    * 输出文件格式 (mir.collapse.fa, 名字的前3个字母为样品的特异标示，中间的数字表示第几条序列，是序列名字的唯一标示，第三部分是x加每个reads被测到的次数。三部分用下划线连起来作为fasta序列的名字。)\n",
    "```        \n",
    "        >ESB_1_x2\n",
    "        ACTGCCCTAAGTGCTCCTTCTGGC\n",
    "        >ESB_2_x25\n",
    "        ATAAGGTGCATCTAGTGCAGATA\n",
    "        >ESB_3_x100\n",
    "        TGAGGTAGTAGTTTGTGCTGTTT\n",
    "        >ESB_4_x4\n",
    "        TCCTACGAGTTGCATGGATTC\n",
    "```\n",
    "8. 简化的短序列匹配程序 (map.py) 把short.fa中的序列比对到ref.fa, 输出短序列匹配到ref.fa文件中哪些序列的哪些位置\n",
    "    * 用到的知识点\n",
    "        * find\n",
    "    * 输出格式 (输出格式为bed格式，第一列为匹配到的染色体，第二列和第三列为匹配到染色体序列的起始终止位置（位置标记以0为起始，代表第一个位置；终止位置不包含在内，第一个例子中所示序列的位置是(199,208](前闭后开，实际是chr1染色体第199-206的序列，0起始). 第4列为短序列自身的序列.)。\n",
    "    * 附加要求：可以只匹配到给定的模板链，也可以考虑匹配到模板链的互补链。这时第5列可以为短序列的名字，第六列为链的信息，匹配到模板链为'+'，匹配到互补链为'-'。注意匹配到互补链时起始位置也是从模板链的5'端算起的。\n",
    "``` \n",
    "    chr1\t199\t208\tTGGCGTTCA\n",
    "    chr1\t207\t216\tACCCCGCTG\n",
    "    chr2\t63\t70\tAAATTGC\n",
    "    chr3\t0\t7\tAATAAAT\n",
    "```\n",
    "\n",
    "10. 备注：\n",
    "    * 每个提到提到的“用到的知识点”为相对于前面的题目新增的知识点，请综合考虑。此外，对于不同的思路并不是所有提到的知识点都会用着，而且也可能会用到未提到的知识点。但是所有知识点都在前面的讲义部分有介绍。\n",
    "    * 每个程序对于你身边会写的人来说都很简单，因此你一定要克制住，独立去把答案做出，多看错误提示，多比对程序输出结果和预期结果的差异。\n",
    "    * 学习锻炼“读程序”，即对着文件模拟整个的读入、处理过程来发现可能的逻辑问题。\n",
    "    * 程序运行没有错误不代表你写的程序完成了你的需求，你要去查验输出结果是不是你想要的。\n",
    "11. 关于程序调试\n",
    "    * 在初写程序时，可能会出现各种各样的错误，常见的有缩进不一致，变量名字拼写错误，丢失冒号，文件名未加引号等，这时要根据错误提示查看错误类型是什么，出错的是哪一行来定位错误。当然，有的时候报错的行自身不一定有错，可能是其前面或后面的行出现了错误。\n",
    "    * **用脑袋运行程序**：当程序写作完成后，自己尝试对着数据文件，一行一行的执行程序，来看程序的运行是否与自己想干的活一致，有没有纰漏。\n",
    "    * 当结果不符合预期时，要学会**使用print来查看每步的操作是否正确**，比如我读入了字典，我就打印下字典，看看读入的是不是我想要的，是否含有不该存在的字符；或者**在每个判断句、函数调入的情况下打印个字符，来跟踪程序的运行轨迹**。"
   ]
  },
  {
   "cell_type": "markdown",
   "metadata": {},
   "source": [
    "# 函数操作"
   ]
  },
  {
   "cell_type": "markdown",
   "metadata": {},
   "source": [
    "函数是重用的程序段。它们允许你给一块语句一个名称，然后你可以在你的程序的任何地方使用这个名称任意多次地运行这个语句块。这被称为 `调用` 函数。我们已经使用了许多内建的函数，比如`len`和`range`。\n",
    "\n",
    "函数通过`def`关键字定义。`def`关键字后跟一个函数的 `标识符` 名称，然后跟一对圆括号。圆括号之中可以包括一些变量名，该行以冒号结尾。接下来是一块语句，它们是函数体。\n",
    "\n"
   ]
  },
  {
   "cell_type": "code",
   "execution_count": 29,
   "metadata": {
    "collapsed": false
   },
   "outputs": [
    {
     "name": "stdout",
     "output_type": "stream",
     "text": [
      "Hello, you!\n"
     ]
    }
   ],
   "source": [
    "def print_hello():\n",
    "    print \"Hello, you!\"\n",
    "\n",
    "print_hello()"
   ]
  },
  {
   "cell_type": "code",
   "execution_count": 30,
   "metadata": {
    "collapsed": false
   },
   "outputs": [
    {
     "name": "stdout",
     "output_type": "stream",
     "text": [
      "Hello, you!\n",
      "Hello, me!\n"
     ]
    }
   ],
   "source": [
    "def hello(who):\n",
    "    print \"Hello, %s!\" % who\n",
    "\n",
    "hello('you')\n",
    "hello('me')"
   ]
  },
  {
   "cell_type": "code",
   "execution_count": 31,
   "metadata": {
    "collapsed": false
   },
   "outputs": [
    {
     "name": "stdout",
     "output_type": "stream",
     "text": [
      "把之前写过的语句块稍微包装下就是函数了\n",
      "\n",
      "[1, 9, 13, 15, 17]\n",
      "[2, 12]\n"
     ]
    }
   ],
   "source": [
    "print \"把之前写过的语句块稍微包装下就是函数了\\n\"\n",
    "\n",
    "def findAll(string, pattern):\n",
    "    posL = []\n",
    "    pos = 0\n",
    "    for i in string:\n",
    "        pos += 1\n",
    "        if i == pattern:\n",
    "            posL.append(pos)\n",
    "    #-------------------\n",
    "    return posL\n",
    "#------END of findAll-------\n",
    "a = findAll(\"ABCDEFDEACFBACACA\", \"A\")\n",
    "print a \n",
    "print findAll(\"ABCDEFDEACFBACACA\", \"B\")"
   ]
  },
  {
   "cell_type": "code",
   "execution_count": 32,
   "metadata": {
    "collapsed": false
   },
   "outputs": [
    {
     "name": "stdout",
     "output_type": "stream",
     "text": [
      "{'>NM_0112835 gene=Rp15 CDS=128-6412': 'AATAAATCCAAAGACATTTGTTTACGTGAAACAAGCAGGTTGCATATCCAGTGACGTTTATACAGACCAC', '>NM_011283 gene=Rp1 CDS=128-6412': 'AATAAATCCAAAGACATTTGTTTACGTGAAACAAGCAGGTTGCATATCCAGTGACGTTTATACAGACCAC', '>NM_001011874 gene=Xkr4 CDS=151-2091': 'gcggcggcgggcgagcgggcgctggagtaggagctggggagcggcgcggccggggaaggaagccagggcg', '>NM_001195662 gene=Rp1 CDS=55-909': 'AGGTCTCACCCAAAATGAGTGACACACCTTCTACTAGTTTCTCCATGATTCATCTGACTTCTGAAGGTCA'}\n"
     ]
    },
    {
     "data": {
      "text/plain": [
       "{'>NM_001011874 gene=Xkr4 CDS=151-2091': 'gcggcggcgggcgagcgggcgctggagtaggagctggggagcggcgcggccggggaaggaagccagggcgaggcgaggaggtggcgggaggaggagacagcagggacaggTGTCAGATAAAGGAGTGCTCTCCTCCGCTGCCGAGGCATCATGGCCGCTAAGTCAGACGGGAGGCTGAAGATGAAGAAGAGCAGCGACGTGGCGTTCACCCCGCTGCAGAACTCGGACAATTCGGGCTCTGTGCAAGGACTGGCTCCAGGCTTGCCGTCGGGGTCCGGAG',\n",
       " '>NM_001195662 gene=Rp1 CDS=55-909': 'AAGCTCAGCCTTTGCTCAGATTCTCCTCTTGATGAAACAAAGGGATTTCTGCACATGCTTGAGAAATTGCAGGTCTCACCCAAAATGAGTGACACACCTTCTACTAGTTTCTCCATGATTCATCTGACTTCTGAAGGTCAAGTTCCTTCCCCTCGCCATTCAAATATCACTCATCCTGTAGTGGCTAAACGCATCAGTTTCTATAAGAGTGGAGACCCACAGTTTGGCGGCGTTCGGGTGGTGGTCAACCCTCGTTCCTTTAAGACTTTTGACGCTCTGCTGGACAGTTTATCCAGGAAGGTACCCCTGCCCTTTGGGGTAAGGAACATCAGCACGCCCCGTGGACGACACAGCATCACCAGGCTGGAGGAGCTAGAGGACGGCAAGTCTTATGTGTGCTCCCACAATAAGAAGGTGCTG',\n",
       " '>NM_011283 gene=Rp1 CDS=128-6412': 'AATAAATCCAAAGACATTTGTTTACGTGAAACAAGCAGGTTGCATATCCAGTGACGTTTATACAGACCACACAAACTATTTACTCTTTTCTTCGTAAGGAAAGGTTCAACTTCTGGTCTCACCCAAAATGAGTGACACACCTTCTACTAGTTTCTCCATGATTCATCTGACTTCTGAAGGTCAAGTTCCTTCCCCTCGCCATTCAAATATCACTCATCCTGTAGTGGCTAAACGCATCAGTTTCTATAAGAGTGGAGACCCACAGTTTGGCGGCGTTCGGGTGGTGGTCAACCCTCGTTCCTTTAAGACTTTTGACGCTCTGCTGGACAGTTTATCCAGGAAGGTACCCCTGCCCTTTGGGGTAAGGAACATCAGCACGCCCCGTGGACGACACAGCATCACCAGGCTGGAGGAGCTAGAGGACGGCAAGTCTTATGTGTGCTCCCACAATAAGAAGGTGCTGCCAGTTGACCTGGACAAGGCCCGCAGGCGCCCTCGGCCCTGGCTGAGTAGTCGCTCCATAAGCACGCATGTGCAGCTCTGTCCTGCAACTGCCAATATGTCCACCATGGCACCTGGCATGCTCCGTGCCCCAAGGAGGCTCGTGGTCTTCCGGAATGGTGACCCGAA',\n",
       " '>NM_0112835 gene=Rp1 CDS=128-6412': 'AATAAATCCAAAGACATTTGTTTACGTGAAACAAGCAGGTTGCATATCCAGTGACGTTTATACAGACCACACAAACTATTTACTCTTTTCTTCGTAAGGAAAGGTTCAACTTCTGGTCTCACCCAAAATGAGTGACACACCTTCTACTAGTTTCTCCATGATTCATCTGACTTCTGAAGGTCAAGTTCCTTCCCCTCGCCATTCAAATATCACTCATCCTGTAGTGGCTAAACGCATCAGTTTCTATAAGAGTGGAGACCCACAGTTTGGCGGCGTTCGGGTGGTGGTCAACCCTCGTTCCTTTAAGACTTTTGACGCTCTGCTGGACAGTTTATCCAGGAAGGTACCCCTGCCCTTTGGGGTAAGGAACATCAGCACGCCCCGTGGACGACACAGCATCACCAGGCTGGAGGAGCTAGAGGACGGCAAGTCTTATGTGTGCTCCCACAATAAGAAGGTGCTGCCAGTTGACCTGGACAAGGCCCGCAGGCGCCCTCGGCCCTGGCTGAGTAGTCGCTCCATAAGCACGCATGTGCAGCTCTGTCCTGCAACTGCCAATATGTCCACCATGGCACCTGGCATGCTCCGTGCCCCAAGGAGGCTCGTGGTCTTCCGGAATGGTGACCCGAA'}"
      ]
     },
     "execution_count": 32,
     "metadata": {},
     "output_type": "execute_result"
    }
   ],
   "source": [
    "def read(file):\n",
    "    aDict = {}\n",
    "    for line in open(file):\n",
    "        if line[0] == '>':\n",
    "            name = line.strip()\n",
    "            aDict[name] = []\n",
    "        else:\n",
    "            aDict[name].append(line.strip())\n",
    "    #----------------------------------\n",
    "    for name, lineL in aDict.items():\n",
    "        aDict[name] = ''.join(lineL)\n",
    "    return aDict\n",
    "\n",
    "print read(\"data/test1.fa\")\n",
    "read(\"data/test2.fa\")"
   ]
  },
  {
   "cell_type": "markdown",
   "metadata": {},
   "source": [
    "## 作业（二）"
   ]
  },
  {
   "cell_type": "markdown",
   "metadata": {},
   "source": [
    "6. 将 “作业（一）” 中的程序块用函数的方式重写，并调用执行\n",
    "    * 用到的知识点\n",
    "        * def func(para1,para2,...):\n",
    "        * func(para1,para2,...)\n",
    "10. 备注：\n",
    "    * 每个提到提到的“用到的知识点”为相对于前面的题目新增的知识点，请综合考虑。此外，对于不同的思路并不是所有提到的知识点都会用着，而且也可能会用到未提到的知识点。但是所有知识点都在前面的讲义部分有介绍。\n",
    "    * 每个程序对于你身边会写的人来说都很简单，因此你一定要克制住，独立去把答案做出，多看错误提示，多比对程序输出结果和预期结果的差异。\n",
    "    * 学习锻炼“读程序”，即对着文件模拟整个的读入、处理过程来发现可能的逻辑问题。\n",
    "    * 程序运行没有错误不代表你写的程序完成了你的需求，你要去插眼输出结果是不是你想要的。\n",
    "11. 关于程序调试\n",
    "    * 在初写程序时，可能会出现各种各样的错误，常见的有缩进不一致，变量名字拼写错误，丢失冒号，文件名未加引号等，这时要根据错误提示查看错误类型是什么，出错的是哪一行来定位错误。当然，有的时候报错的行自身不一定有错，可能是其前面或后面的行出现了错误。\n",
    "    * 当结果不符合预期时，要学会使用print来查看每步的操作是否正确，比如我读入了字典，我就打印下字典，看看读入的是不是我想要的，是否含有不该存在的字符；或者在每个判断句、函数调入的情况下打印个字符，来跟踪程序的运行轨迹。"
   ]
  },
  {
   "cell_type": "markdown",
   "metadata": {},
   "source": [
    "# 模块"
   ]
  },
  {
   "cell_type": "markdown",
   "metadata": {},
   "source": [
    "Python内置了很多标准库，如做数学运算的 `math`, 调用系统功能的 `sys`, 处理正则表达式的 `re`, 操作系统相关功能的 `os`等。我们主要关注两个库:\n",
    "* sys\n",
    "    * sys.argv 处理命令行参数\n",
    "    * sys.exit() 退出函数\n",
    "    * sys.stdin 标准输入\n",
    "    * sys.stderr 标准错误\n",
    "* os\n",
    "    * os.system()或os.popen() 执行系统命令\n",
    "    * os.getcwd() 获取当前目录\n",
    "    * os.remove() 删除文件"
   ]
  },
  {
   "cell_type": "code",
   "execution_count": 57,
   "metadata": {
    "collapsed": false
   },
   "outputs": [
    {
     "data": {
      "text/plain": [
       "'D:\\\\project\\\\github\\\\PBR_training'"
      ]
     },
     "execution_count": 57,
     "metadata": {},
     "output_type": "execute_result"
    }
   ],
   "source": [
    "import os\n",
    "os.getcwd()\n",
    "#help(os.getcwd)\n",
    "#os.remove(r'D:\\project\\github\\PBR_training\\script\\splitName.py')\n",
    "#os.system('rm file')"
   ]
  },
  {
   "cell_type": "code",
   "execution_count": 58,
   "metadata": {
    "collapsed": false
   },
   "outputs": [
    {
     "data": {
      "text/plain": [
       "'D:\\\\project\\\\github\\\\PBR_training'"
      ]
     },
     "execution_count": 58,
     "metadata": {},
     "output_type": "execute_result"
    }
   ],
   "source": [
    "from os import getcwd\n",
    "getcwd()"
   ]
  },
  {
   "cell_type": "markdown",
   "metadata": {},
   "source": [
    "# 命令行参数"
   ]
  },
  {
   "cell_type": "markdown",
   "metadata": {},
   "source": [
    "`sys.argv`是一个列表，存储了包含程序名字在内的传给程序的命令行参数。"
   ]
  },
  {
   "cell_type": "code",
   "execution_count": 9,
   "metadata": {
    "collapsed": false
   },
   "outputs": [
    {
     "name": "stdout",
     "output_type": "stream",
     "text": [
      "Writing testSys.py\n"
     ]
    }
   ],
   "source": [
    "%%writefile testSys.py\n",
    "import sys\n",
    "print sys.argv"
   ]
  },
  {
   "cell_type": "code",
   "execution_count": 12,
   "metadata": {
    "collapsed": false
   },
   "outputs": [
    {
     "name": "stdout",
     "output_type": "stream",
     "text": [
      "['testSys.py', \"'abc'\", '1']\n"
     ]
    }
   ],
   "source": [
    "%run testSys 'abc' 1"
   ]
  },
  {
   "cell_type": "code",
   "execution_count": 1,
   "metadata": {
    "collapsed": false
   },
   "outputs": [
    {
     "name": "stdout",
     "output_type": "stream",
     "text": [
      "Writing cat.py\n"
     ]
    }
   ],
   "source": [
    "%%writefile cat.py\n",
    "import sys\n",
    "\n",
    "def read_print_file(filename):\n",
    "    for line in open(filename):\n",
    "        print line,\n",
    "#------END read_print_file--------------------------\n",
    "\n",
    "#main函数及其调用部分是我个人写程序的固定格式，照搬就可以\n",
    "def main(): #一般主程序会包含在main函数中，在文件的最后调用main函数即可运行程序\n",
    "    if len(sys.argv) < 2:  #如果命令行参数不足两个，则提示操作\n",
    "        #一般提示信息输出到标准错误\n",
    "        print >>sys.stderr, \"Usage: python %s filename\" % sys.argv[0] \n",
    "        sys.exit(0)\n",
    "    file = sys.argv[1]\n",
    "    read_print_file(file)\n",
    "#--------END main------------------\n",
    "#这句话是说只有在文件被执行时才调用main函数。如果这个文件被其它文件调用，则不执行main函数。\n",
    "if __name__ == '__main__': \n",
    "    main()"
   ]
  },
  {
   "cell_type": "code",
   "execution_count": 62,
   "metadata": {
    "collapsed": false
   },
   "outputs": [
    {
     "name": "stderr",
     "output_type": "stream",
     "text": [
      "Usage: python cat.py filename\n"
     ]
    }
   ],
   "source": [
    "%run cat"
   ]
  },
  {
   "cell_type": "code",
   "execution_count": 13,
   "metadata": {
    "collapsed": false
   },
   "outputs": [
    {
     "name": "stdout",
     "output_type": "stream",
     "text": [
      ">NM_001011874 gene=Xkr4 CDS=151-2091\n",
      "gcggcggcgggcgagcgggcgctggagtaggagctggggagcggcgcggccggggaaggaagccagggcg\n",
      ">NM_001195662 gene=Rp1 CDS=55-909\n",
      "AGGTCTCACCCAAAATGAGTGACACACCTTCTACTAGTTTCTCCATGATTCATCTGACTTCTGAAGGTCA\n",
      ">NM_0112835 gene=Rp15 CDS=128-6412\n",
      "AATAAATCCAAAGACATTTGTTTACGTGAAACAAGCAGGTTGCATATCCAGTGACGTTTATACAGACCAC\n",
      ">NM_011283 gene=Rp1 CDS=128-6412\n",
      "AATAAATCCAAAGACATTTGTTTACGTGAAACAAGCAGGTTGCATATCCAGTGACGTTTATACAGACCAC\n"
     ]
    }
   ],
   "source": [
    "%run cat data/test1.fa"
   ]
  },
  {
   "cell_type": "markdown",
   "metadata": {},
   "source": [
    "使用 `optparse`，功能更强大 (保留内容)"
   ]
  },
  {
   "cell_type": "code",
   "execution_count": 64,
   "metadata": {
    "collapsed": false
   },
   "outputs": [
    {
     "name": "stdout",
     "output_type": "stream",
     "text": [
      "Overwriting skeleton.py\n"
     ]
    }
   ],
   "source": [
    "%%writefile skeleton.py\n",
    "#!/usr/bin/env python\n",
    "\n",
    "desc = '''\n",
    "Functional description:\n",
    "\n",
    "'''\n",
    "\n",
    "import sys\n",
    "import os\n",
    "from time import localtime, strftime \n",
    "timeformat = \"%Y-%m-%d %H:%M:%S\"\n",
    "from optparse import OptionParser as OP\n",
    "\n",
    "def cmdparameter(argv):\n",
    "    if len(argv) == 1:\n",
    "        global desc\n",
    "        print >>sys.stderr, desc\n",
    "        cmd = 'python ' + argv[0] + ' -h'\n",
    "        os.system(cmd)\n",
    "        sys.exit(0)\n",
    "    usages = \"%prog -i file\"\n",
    "    parser = OP(usage=usages)\n",
    "    parser.add_option(\"-i\", \"--input-file\", dest=\"filein\",\n",
    "        metavar=\"FILEIN\", help=\"The name of input file. \\\n",
    "Standard input is accepted.\")\n",
    "    parser.add_option(\"-v\", \"--verbose\", dest=\"verbose\",\n",
    "        default=0, help=\"Show process information\")\n",
    "    parser.add_option(\"-d\", \"--debug\", dest=\"debug\",\n",
    "        default=False, help=\"Debug the program\")\n",
    "    (options, args) = parser.parse_args(argv[1:])\n",
    "    assert options.filein != None, \"A filename needed for -i\"\n",
    "    return (options, args)\n",
    "#--------------------------------------------------------------------\n",
    "\n",
    "\n",
    "def main():\n",
    "    options, args = cmdparameter(sys.argv)\n",
    "    #-----------------------------------\n",
    "    file = options.filein\n",
    "    verbose = options.verbose\n",
    "    debug = options.debug\n",
    "    #-----------------------------------\n",
    "    if file == '-':\n",
    "        fh = sys.stdin\n",
    "    else:\n",
    "        fh = open(file)\n",
    "    #--------------------------------\n",
    "    for line in fh:\n",
    "        pass\n",
    "    #-------------END reading file----------\n",
    "    #----close file handle for files-----\n",
    "    if file != '-':\n",
    "        fh.close()\n",
    "    #-----------end close fh-----------\n",
    "    if verbose:\n",
    "        print >>sys.stderr,\\\n",
    "            \"--Successful %s\" % strftime(timeformat, localtime())\n",
    "if __name__ == '__main__':\n",
    "    startTime = strftime(timeformat, localtime())\n",
    "    main()\n",
    "    endTime = strftime(timeformat, localtime())\n",
    "    fh = open('python.log', 'a')\n",
    "    print >>fh, \"%s\\n\\tRun time : %s - %s \" % \\\n",
    "        (' '.join(sys.argv), startTime, endTime)\n",
    "    fh.close()"
   ]
  },
  {
   "cell_type": "code",
   "execution_count": 65,
   "metadata": {
    "collapsed": false
   },
   "outputs": [
    {
     "name": "stdout",
     "output_type": "stream",
     "text": [
      "Usage: skeleton.py -i file\n",
      "\n",
      "Options:\n",
      "  -h, --help            show this help message and exit\n",
      "  -i FILEIN, --input-file=FILEIN\n",
      "                        The name of input file. Standard input is accepted.\n",
      "  -v VERBOSE, --verbose=VERBOSE\n",
      "                        Show process information\n",
      "  -d DEBUG, --debug=DEBUG\n",
      "                        Debug the program\n"
     ]
    }
   ],
   "source": [
    "%run skeleton -h"
   ]
  },
  {
   "cell_type": "markdown",
   "metadata": {},
   "source": [
    "## 作业（三）"
   ]
  },
  {
   "cell_type": "markdown",
   "metadata": {},
   "source": [
    "7. 使 “作业（二）” 中的程序都能接受命令行参数\n",
    "    * 用到的知识点\n",
    "        * import sys\n",
    "        * sys.argv\n",
    "        * import optparse\n",
    "        \n",
    "10. 备注\n",
    "    * 每个提到提到的“用到的知识点”为相对于前面的题目新增的知识点，请综合考虑。此外，对于不同的思路并不是所有提到的知识点都会用着，而且也可能会用到未提到的知识点。但是所有知识点都在前面的讲义部分有介绍。\n",
    "    * 每个程序对于你身边会写的人来说都很简单，因此你一定要克制住，独立去把答案做出，多看错误提示，多比对程序输出结果和预期结果的差异。\n",
    "    * 学习锻炼“读程序”，即对着文件模拟整个的读入、处理过程来发现可能的逻辑问题。\n",
    "    * 程序运行没有错误不代表你写的程序完成了你的需求，你要去插眼输出结果是不是你想要的。\n",
    "11. 关于程序调试\n",
    "    * 在初写程序时，可能会出现各种各样的错误，常见的有缩进不一致，变量名字拼写错误，丢失冒号，文件名未加引号等，这时要根据错误提示查看错误类型是什么，出错的是哪一行来定位错误。当然，有的时候报错的行自身不一定有错，可能是其前面或后面的行出现了错误。\n",
    "    * 当结果不符合预期时，要学会使用print来查看每步的操作是否正确，比如我读入了字典，我就打印下字典，看看读入的是不是我想要的，是否含有不该存在的字符；或者在每个判断句、函数调入的情况下打印个字符，来跟踪程序的运行轨迹。"
   ]
  },
  {
   "cell_type": "markdown",
   "metadata": {},
   "source": [
    "# 更多Python内容"
   ]
  },
  {
   "cell_type": "markdown",
   "metadata": {},
   "source": [
    "<a id=\"单语句块\"></a>"
   ]
  },
  {
   "cell_type": "markdown",
   "metadata": {},
   "source": [
    "## **单语句块**"
   ]
  },
  {
   "cell_type": "code",
   "execution_count": 90,
   "metadata": {
    "collapsed": false
   },
   "outputs": [
    {
     "name": "stdout",
     "output_type": "stream",
     "text": [
      "yes\n",
      "yes\n",
      "3\n",
      "3\n",
      "5\n"
     ]
    }
   ],
   "source": [
    "if True:\n",
    "    print 'yes'\n",
    "    \n",
    "if True: print 'yes'\n",
    "\n",
    "x = 5\n",
    "y = 3\n",
    "\n",
    "if x > y:\n",
    "    print y\n",
    "else:\n",
    "    print x\n",
    "#-------------\n",
    "print y if y < x else x \n",
    "print x"
   ]
  },
  {
   "cell_type": "markdown",
   "metadata": {},
   "source": [
    "<a id=\"列表综合\"></a>"
   ]
  },
  {
   "cell_type": "markdown",
   "metadata": {},
   "source": [
    "## **列表综合，生成新列表的简化的for循环**"
   ]
  },
  {
   "cell_type": "code",
   "execution_count": 91,
   "metadata": {
    "collapsed": false
   },
   "outputs": [
    {
     "name": "stdout",
     "output_type": "stream",
     "text": [
      "[2, 4, 6, 8, 10]\n"
     ]
    }
   ],
   "source": [
    "aList = [1,2,3,4,5]\n",
    "bList = []\n",
    "for i in aList:\n",
    "    bList.append(i * 2)\n",
    "#-----------------------------------\n",
    "#nameL = [line.strip() for line in open(file)]\n",
    "    \n",
    "bList = [i * 2 for i in aList]\n",
    "print bList"
   ]
  },
  {
   "cell_type": "code",
   "execution_count": 92,
   "metadata": {
    "collapsed": false
   },
   "outputs": [
    {
     "name": "stdout",
     "output_type": "stream",
     "text": [
      "列表综合可以做判断的\n",
      "[2, 6, 10]\n"
     ]
    }
   ],
   "source": [
    "print \"列表综合可以做判断的\"\n",
    "aList = [1,2,3,4,5]\n",
    "bList = [i * 2 for i in aList if i%2 != 0]\n",
    "print bList"
   ]
  },
  {
   "cell_type": "code",
   "execution_count": 93,
   "metadata": {
    "collapsed": false
   },
   "outputs": [
    {
     "name": "stdout",
     "output_type": "stream",
     "text": [
      "列表综合也可以嵌套的\n",
      "[5, 4, 3, 2, 1, 10, 8, 6, 4, 2, 15, 12, 9, 6, 3, 20, 16, 12, 8, 4, 25, 20, 15, 10, 5]\n"
     ]
    }
   ],
   "source": [
    "print \"列表综合也可以嵌套的\"\n",
    "aList = [1,2,3,4,5]\n",
    "bList = [5,4,3,2,1]\n",
    "bList = [i * j for i in aList for j in bList]\n",
    "\n",
    "#for i in aList:\n",
    "#    for j in bList:\n",
    "#        print i * j\n",
    "print bList"
   ]
  },
  {
   "cell_type": "markdown",
   "metadata": {},
   "source": [
    "断言，设定运行过程中必须满足的条件，当情况超出预期时报错。常用于文件读入或格式判断时，有助于预防异常的读入或操作。"
   ]
  },
  {
   "cell_type": "code",
   "execution_count": 94,
   "metadata": {
    "collapsed": false
   },
   "outputs": [
    {
     "ename": "AssertionError",
     "evalue": "a is 1, b is 2",
     "output_type": "error",
     "traceback": [
      "\u001b[1;31m---------------------------------------------------------------------------\u001b[0m\n\u001b[1;31mAssertionError\u001b[0m                            Traceback (most recent call last)",
      "\u001b[1;32m<ipython-input-94-1cdfb2fe6c3a>\u001b[0m in \u001b[0;36m<module>\u001b[1;34m()\u001b[0m\n\u001b[0;32m      1\u001b[0m \u001b[0ma\u001b[0m \u001b[1;33m=\u001b[0m \u001b[1;36m1\u001b[0m\u001b[1;33m\u001b[0m\u001b[0m\n\u001b[0;32m      2\u001b[0m \u001b[0mb\u001b[0m \u001b[1;33m=\u001b[0m \u001b[1;36m2\u001b[0m\u001b[1;33m\u001b[0m\u001b[0m\n\u001b[1;32m----> 3\u001b[1;33m \u001b[1;32massert\u001b[0m \u001b[0ma\u001b[0m \u001b[1;33m==\u001b[0m \u001b[0mb\u001b[0m\u001b[1;33m,\u001b[0m \u001b[1;34m\"a is %s, b is %s\"\u001b[0m \u001b[1;33m%\u001b[0m \u001b[1;33m(\u001b[0m\u001b[0ma\u001b[0m\u001b[1;33m,\u001b[0m \u001b[0mb\u001b[0m\u001b[1;33m)\u001b[0m\u001b[1;33m\u001b[0m\u001b[0m\n\u001b[0m\u001b[0;32m      4\u001b[0m \u001b[1;33m\u001b[0m\u001b[0m\n\u001b[0;32m      5\u001b[0m \u001b[1;32mif\u001b[0m \u001b[0ma\u001b[0m \u001b[1;33m==\u001b[0m \u001b[0mb\u001b[0m\u001b[1;33m:\u001b[0m\u001b[1;33m\u001b[0m\u001b[0m\n",
      "\u001b[1;31mAssertionError\u001b[0m: a is 1, b is 2"
     ]
    }
   ],
   "source": [
    "a = 1\n",
    "b = 2\n",
    "assert a == b, \"a is %s, b is %s\" % (a, b)\n",
    "\n",
    "if a == b:\n",
    "    pass\n",
    "else:\n",
    "    print \"a is %s, b is %s\" % (a, b)"
   ]
  },
  {
   "cell_type": "markdown",
   "metadata": {},
   "source": [
    "<a id=\"lmfr\"></a>"
   ]
  },
  {
   "cell_type": "markdown",
   "metadata": {},
   "source": [
    "## lambda, map, filer, reduce (保留节目)"
   ]
  },
  {
   "cell_type": "markdown",
   "metadata": {},
   "source": [
    "* lambda产生一个没有名字的函数，通常为了满足一次使用，其使用语法为`lambda argument_list: expression`。参数列表是用逗号分隔开的一个列表，表达式是这些参数的组合操作。 \n",
    "* map执行一个循环操作，使用语法为`map(func, seq)`。第一个参数是要调用的函数或函数的名字，第二个参数是一个序列（如列表、字符串、字典）。map会以序列的每个元素为参数调用func，并新建一个输出列表。\n",
    "* filter用于过滤列表，使用语法为`filter(func, list)`。以第二个参数的每个元素调用func，返回值为True则保留，否则舍弃。\n",
    "* reduce连续对列表的元素应用函数，使用语法为`reduce(func, list)`。如果我们有一个列表aList = [1,2,3, ... ,n ], 调用`reduce(func, aList)`后进行的操作为: 首先前两个元素会传入函数func做运算，返回值替换这两个元素，成为数组第一个元素aList = [func(1,2),3, ... , n];然后当前的前两个元素再传图func函数做运算，返回值返回值替换这两个元素，成为数组第一个元素aList = [func(func(1,2),3), ... , n]，直到列表只有一个元素。"
   ]
  },
  {
   "cell_type": "code",
   "execution_count": 95,
   "metadata": {
    "collapsed": false
   },
   "outputs": [
    {
     "name": "stdout",
     "output_type": "stream",
     "text": [
      "求和函数\n",
      "[1, 2, 3, 4, 5, 6]\n",
      "25\n"
     ]
    }
   ],
   "source": [
    "print \"求和函数\"\n",
    "f = lambda x,y: x + y\n",
    "print f([1,2,3],[4,5,6])\n",
    "print f(10,15)"
   ]
  },
  {
   "cell_type": "code",
   "execution_count": 96,
   "metadata": {
    "collapsed": false
   },
   "outputs": [
    {
     "name": "stdout",
     "output_type": "stream",
     "text": [
      "单个参数的map, lambda调用\n",
      "[1, 4, 9, 16, 25]\n",
      "多个参数的map, lambda调用\n",
      "[5, 7, 9]\n",
      "参数为字符串\n",
      "['A', 'C', 'D', 'F']\n"
     ]
    }
   ],
   "source": [
    "print \"单个参数的map, lambda调用\"\n",
    "aList = [1,2,3,4,5]\n",
    "print map(lambda x: x**2, aList)\n",
    "\n",
    "print \"多个参数的map, lambda调用\"\n",
    "f = lambda x,y: x + y\n",
    "print map(f,[1,2,3],[4,5,6])\n",
    "\n",
    "print \"参数为字符串\"\n",
    "print map(lambda x: x.upper(), 'acdf')"
   ]
  },
  {
   "cell_type": "code",
   "execution_count": 97,
   "metadata": {
    "collapsed": false
   },
   "outputs": [
    {
     "name": "stdout",
     "output_type": "stream",
     "text": [
      "输出所有的奇数\n",
      "[1, 3, 5]\n"
     ]
    }
   ],
   "source": [
    "print \"输出所有的奇数\"\n",
    "aList = [1,2,3,4,5]\n",
    "print filter(lambda x: x%2, aList)"
   ]
  },
  {
   "cell_type": "code",
   "execution_count": 98,
   "metadata": {
    "collapsed": false
   },
   "outputs": [
    {
     "name": "stdout",
     "output_type": "stream",
     "text": [
      "列表求和\n",
      "15\n"
     ]
    }
   ],
   "source": [
    "print \"列表求和\"\n",
    "aList = [1,2,3,4,5]\n",
    "print reduce(lambda a,b: a+b, aList)"
   ]
  },
  {
   "cell_type": "code",
   "execution_count": 99,
   "metadata": {
    "collapsed": false
   },
   "outputs": [
    {
     "name": "stdout",
     "output_type": "stream",
     "text": [
      "列表取最大值\n",
      "5\n"
     ]
    }
   ],
   "source": [
    "print \"列表取最大值\"\n",
    "aList = [1,2,3,4,5]\n",
    "print reduce(lambda a,b: a if a > b else b, aList)"
   ]
  },
  {
   "cell_type": "markdown",
   "metadata": {},
   "source": [
    "<a id='ee'></a>"
   ]
  },
  {
   "cell_type": "markdown",
   "metadata": {},
   "source": [
    "## **exec, eval (执行字符串python语句, 保留节目)**"
   ]
  },
  {
   "cell_type": "code",
   "execution_count": 100,
   "metadata": {
    "collapsed": false
   },
   "outputs": [
    {
     "name": "stdout",
     "output_type": "stream",
     "text": [
      "Executing a string as a command\n"
     ]
    }
   ],
   "source": [
    "a = 'print \"Executing a string as a command\"'\n",
    "exec(a)"
   ]
  },
  {
   "cell_type": "code",
   "execution_count": 101,
   "metadata": {
    "collapsed": false
   },
   "outputs": [
    {
     "data": {
      "text/plain": [
       "25"
      ]
     },
     "execution_count": 101,
     "metadata": {},
     "output_type": "execute_result"
    }
   ],
   "source": [
    "a = '(2 + 3) * 5'\n",
    "eval(a)"
   ]
  },
  {
   "cell_type": "markdown",
   "metadata": {},
   "source": [
    "# Reference"
   ]
  },
  {
   "cell_type": "markdown",
   "metadata": {},
   "source": [
    "* http://www.byteofpython.info/\n",
    "* http://woodpecker.org.cn/abyteofpython_cn/chinese/index.html\n",
    "* http://www.python-course.eu/\n",
    "* http://ocw.mit.edu/courses/electrical-engineering-and-computer-science/6-189-a-gentle-introduction-to-programming-using-python-january-iap-2008/"
   ]
  },
  {
   "cell_type": "markdown",
   "metadata": {},
   "source": [
    "http://my.oschina.net/taogang/blog/286955"
   ]
  },
  {
   "cell_type": "markdown",
   "metadata": {},
   "source": [
    "# Python画图"
   ]
  },
  {
   "cell_type": "code",
   "execution_count": 1,
   "metadata": {
    "collapsed": false
   },
   "outputs": [
    {
     "data": {
      "image/png": "[encoded data removed]",
      "text/plain": [
       "<matplotlib.figure.Figure at 0x4e7ab00>"
      ]
     },
     "metadata": {},
     "output_type": "display_data"
    }
   ],
   "source": [
    "%matplotlib inline\n",
    "from mpl_toolkits.mplot3d import axes3d\n",
    "import matplotlib.pyplot as plt\n",
    "from matplotlib import cm\n",
    "\n",
    "fig = plt.figure()\n",
    "ax = fig.add_subplot(111, projection='3d')\n",
    "X, Y, Z = axes3d.get_test_data(0.05)\n",
    "cset = ax.contour(X, Y, Z, cmap=cm.coolwarm)\n",
    "ax.clabel(cset, fontsize=9, inline=1)\n",
    "\n",
    "plt.show()"
   ]
  },
  {
   "cell_type": "code",
   "execution_count": 9,
   "metadata": {
    "collapsed": false
   },
   "outputs": [
    {
     "data": {
      "image/png": "[encoded data removed]",
      "text/plain": [
       "<matplotlib.figure.Figure at 0xa357a20>"
      ]
     },
     "metadata": {},
     "output_type": "display_data"
    }
   ],
   "source": [
    "import matplotlib as mpl\n",
    "from mpl_toolkits.mplot3d import Axes3D\n",
    "import numpy as np\n",
    "import matplotlib.pyplot as plt\n",
    "\n",
    "mpl.rcParams['legend.fontsize'] = 10\n",
    "\n",
    "fig = plt.figure()\n",
    "ax = fig.gca(projection='3d')\n",
    "#theta = np.linspace(-4 * np.pi, 4 * np.pi, 100)\n",
    "#z = np.linspace(-2, 2, 100)\n",
    "#r = z**2 + 1\n",
    "#x = r * np.sin(theta)\n",
    "#y = r * np.cos(theta)\n",
    "x = [1,2,3]\n",
    "y = [1.5,1,2]\n",
    "z = [2,1,3]\n",
    "ax.plot(x, y, z, label='parametric curve')\n",
    "ax.legend()\n",
    "\n",
    "plt.show()\n"
   ]
  },
  {
   "cell_type": "code",
   "execution_count": 10,
   "metadata": {
    "collapsed": false
   },
   "outputs": [
    {
     "data": {
      "text/plain": [
       "<matplotlib.patches.Rectangle at 0xa31e198>"
      ]
     },
     "execution_count": 10,
     "metadata": {},
     "output_type": "execute_result"
    },
    {
     "data": {
      "image/png": "[encoded data removed]",
      "text/plain": [
       "<matplotlib.figure.Figure at 0xa31e828>"
      ]
     },
     "metadata": {},
     "output_type": "display_data"
    }
   ],
   "source": [
    "from matplotlib import pyplot as plt\n",
    "from matplotlib.patches import Rectangle\n",
    "someX, someY = 0.5, 0.5\n",
    "fig,ax = plt.subplots()\n",
    "currentAxis = plt.gca()\n",
    "currentAxis.add_patch(Rectangle((someX - 0.1, someY - 0.1), 0.2, 0.2,\n",
    "                      alpha=1, facecolor='none'))"
   ]
  },
  {
   "cell_type": "code",
   "execution_count": 17,
   "metadata": {
    "collapsed": true
   },
   "outputs": [
    {
     "data": {
      "image/png": "[encoded data removed]",
      "text/plain": [
       "<matplotlib.figure.Figure at 0xa146208>"
      ]
     },
     "metadata": {},
     "output_type": "display_data"
    }
   ],
   "source": [
    "from mpl_toolkits.mplot3d import Axes3D\n",
    "from mpl_toolkits.mplot3d.art3d import Poly3DCollection\n",
    "import matplotlib.pyplot as plt\n",
    "fig = plt.figure()\n",
    "ax = Axes3D(fig)\n",
    "\n",
    "x = [1,2,2]\n",
    "y = [1,0,2]\n",
    "z = [1,2,0]\n",
    "verts = [zip(x, y,z)]\n",
    "ax.add_collection3d(Poly3DCollection(verts,edgecolors='red', facecolors='red'))\n",
    "x = [0,1,1]\n",
    "y = [0,0,1]\n",
    "z = [0,1,0]\n",
    "verts = [zip(x, y,z)]\n",
    "verts = [[(1,1,1), (2,0,2),(2,2,0)],[(0,0,0),(1,0,1),(1,1,0)]]\n",
    "ax.add_collection3d(Poly3DCollection(verts))\n",
    "plt.show()"
   ]
  },
  {
   "cell_type": "code",
   "execution_count": 24,
   "metadata": {
    "collapsed": false
   },
   "outputs": [
    {
     "data": {
      "image/png": "[encoded data removed]",
      "text/plain": [
       "<matplotlib.figure.Figure at 0xadbaba8>"
      ]
     },
     "metadata": {},
     "output_type": "display_data"
    }
   ],
   "source": [
    "from mpl_toolkits.mplot3d import Axes3D\n",
    "from mpl_toolkits.mplot3d.art3d import Poly3DCollection\n",
    "import matplotlib.pyplot as plt\n",
    "fig = plt.figure()\n",
    "ax = Axes3D(fig)\n",
    "\n",
    "verts = [[(0.5,0.5,0.5), (1.2,0,1.2),(1.2,1.2,0)],[(0,0,0),(1,0,1),(1,1,0)]]\n",
    "ax.add_collection3d(Poly3DCollection(verts, edgecolors=['blue','red'], facecolors=['blue','red']))\n",
    "plt.show()"
   ]
  },
  {
   "cell_type": "code",
   "execution_count": 34,
   "metadata": {
    "collapsed": false
   },
   "outputs": [
    {
     "data": {
      "image/png": "[encoded data removed]",
      "text/plain": [
       "<matplotlib.figure.Figure at 0xaddbb00>"
      ]
     },
     "metadata": {},
     "output_type": "display_data"
    }
   ],
   "source": [
    "from matplotlib import pyplot as plt\n",
    "from mpl_toolkits.mplot3d.art3d import Poly3DCollection\n",
    "\n",
    "fig = plt.figure()\n",
    "ax = fig.add_subplot(111, projection='3d')\n",
    "\n",
    "x = [0.5, 1.2, 1.2, 0, 1, 1]\n",
    "y = [0.5, 0,   1.2, 0, 0, 1]\n",
    "z = [0.5, 1.2, 0,   0, 1, 0]\n",
    "\n",
    "poly3d = [[(0.5,0.5,0.5), (1.2,0,1.2),(1.2,1.2,0)],[(0,0,0),(1,0,1),(1,1,0)]]\n",
    "ax.scatter(x,y,z)\n",
    "ax.add_collection3d(Poly3DCollection(poly3d, edgecolors=['red','blue'], facecolors='w', linewidths=1, alpha=0.5))\n",
    "\n",
    "plt.show()"
   ]
  },
  {
   "cell_type": "code",
   "execution_count": null,
   "metadata": {
    "collapsed": false
   },
   "outputs": [],
   "source": []
  }
 ],
 "metadata": {
  "kernelspec": {
   "display_name": "Python 2",
   "language": "python",
   "name": "python2"
  },
  "language_info": {
   "codemirror_mode": {
    "name": "ipython",
    "version": 2
   },
   "file_extension": ".py",
   "mimetype": "text/x-python",
   "name": "python",
   "nbconvert_exporter": "python",
   "pygments_lexer": "ipython2",
   "version": "2.7.11"
  }
 },
 "nbformat": 4,
 "nbformat_minor": 0
}
